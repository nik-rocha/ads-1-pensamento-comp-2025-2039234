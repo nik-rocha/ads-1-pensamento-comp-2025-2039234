{
 "cells": [
  {
   "cell_type": "markdown",
   "metadata": {},
   "source": [
    "1) Elabore um programa que peça ao usuário para digitar um número inteiro e positivo. O programa deve então exibir na tela todos os números de 1 até o número informado. "
   ]
  },
  {
   "cell_type": "code",
   "execution_count": 1,
   "metadata": {},
   "outputs": [
    {
     "name": "stdout",
     "output_type": "stream",
     "text": [
      "1 2 3 4 5 6 7 8 9 10 11 12 13 14 15 16 17 18 19 20 21 22 23 "
     ]
    }
   ],
   "source": [
    "num = int(input('Digite um número inteiro: '))\n",
    "\n",
    "for num in range(1, num):\n",
    "    print(num, end=\" \")"
   ]
  },
  {
   "cell_type": "markdown",
   "metadata": {},
   "source": [
    "2) Crie um programa que solicite ao usuário: \n",
    "\n",
    "* Um valor inicial, \n",
    "* Um valor final, \n",
    "* Um incremento. \n",
    "\n",
    "Depois, o programa deve contar do valor inicial até o valor final, pulando de acordo com o incremento informado, e mostrar os valores na tela."
   ]
  },
  {
   "cell_type": "code",
   "execution_count": 2,
   "metadata": {},
   "outputs": [
    {
     "name": "stdout",
     "output_type": "stream",
     "text": [
      "1 3 5 7 9 11 13 15 17 19 21 23 25 27 29 31 33 35 37 39 41 43 "
     ]
    }
   ],
   "source": [
    "numStart = int(input('Digite um número inicial: '))\n",
    "numEnd = int(input('Digite um número final: '))\n",
    "numIncrement = int(input('Digite um incrimento: '))\n",
    "\n",
    "for num in range (numStart, numEnd, numIncrement):\n",
    "    print(num, end=\" \")"
   ]
  },
  {
   "cell_type": "markdown",
   "metadata": {},
   "source": [
    "3) Desenvolva um programa que peça ao usuário para digitar um número inteiro. Em seguida, o programa deve exibir a tabuada desse número de 1 até 10. "
   ]
  },
  {
   "cell_type": "code",
   "execution_count": 11,
   "metadata": {},
   "outputs": [
    {
     "name": "stdout",
     "output_type": "stream",
     "text": [
      "5 10 15 20 25 30 35 40 45 50 "
     ]
    }
   ],
   "source": [
    "num = int(input('Digite um número inteiro: '))\n",
    "\n",
    "for numTable in range(num, num * 11, num):\n",
    "    print(numTable, end=\" \")"
   ]
  },
  {
   "cell_type": "markdown",
   "metadata": {},
   "source": [
    "4) Faça um programa que solicite ao usuário que digite 5 números inteiros. Ao final, o programa deve exibir a soma de todos os números digitados."
   ]
  },
  {
   "cell_type": "code",
   "execution_count": 12,
   "metadata": {},
   "outputs": [
    {
     "name": "stdout",
     "output_type": "stream",
     "text": [
      "A soma dos 5 números é: 125\n"
     ]
    }
   ],
   "source": [
    "numSum = 0\n",
    "x = 0\n",
    "\n",
    "for i in range(0, 5):\n",
    "    x += 1\n",
    "    numQuant = int(input(f'Digite o {x}º número: '))\n",
    "    numSum += numQuant\n",
    "\n",
    "print(f'A soma dos 5 números é: {numSum}')"
   ]
  },
  {
   "cell_type": "markdown",
   "metadata": {},
   "source": [
    "5) Escreva um programa que leia 10 números inteiros e:\n",
    " \n",
    "* Conte quantos desses números são maiores que 50. \n",
    "* Exiba a quantidade ao final."
   ]
  },
  {
   "cell_type": "code",
   "execution_count": null,
   "metadata": {},
   "outputs": [
    {
     "name": "stdout",
     "output_type": "stream",
     "text": [
      "Dos seus números, 9 deles são maiores que 50.\n"
     ]
    }
   ],
   "source": [
    "x = 0\n",
    "z = 0\n",
    "\n",
    "for i in range(0, 10):\n",
    "    x += 1\n",
    "    num = int(input(f'Digite o {x}º número: '))\n",
    "    if num > 50:\n",
    "        z += 1\n",
    "\n",
    "print(f'Dos seus números, {z:.0f} deles são maiores que 50.')"
   ]
  },
  {
   "cell_type": "markdown",
   "metadata": {},
   "source": [
    "6) Uma equipe de atletas está sendo avaliada para uma competição. A\n",
    "altura de 7 atletas foi medida.\n",
    "\n",
    "Crie um programa que:\n",
    "* A Leia a altura de cada atleta.\n",
    "* B Conte quantos atletas têm altura superior a 1,90m.\n",
    "* C Exiba o total ao final."
   ]
  },
  {
   "cell_type": "code",
   "execution_count": 10,
   "metadata": {},
   "outputs": [
    {
     "name": "stdout",
     "output_type": "stream",
     "text": [
      "6 dos seus atletas tem a altura maior que 1,90.\n"
     ]
    }
   ],
   "source": [
    "x = 0\n",
    "y = 0\n",
    "\n",
    "for i in range(0, 7):\n",
    "    x += 1\n",
    "    athleteHeigth = float(input(f'Digite a altura do {x}º atleta: '))\n",
    "    if athleteHeigth > 1.90:\n",
    "        y += 1\n",
    "\n",
    "print(f'{y} dos seus atletas tem a altura maior que 1,90.')"
   ]
  },
  {
   "cell_type": "markdown",
   "metadata": {},
   "source": [
    "7) Em uma sala com 5 alunos, suas notas foram registradas.\n",
    "Exiba:\n",
    "* A. A maior nota.\n",
    "* B. A menor nota.\n",
    "* C. A média da turma."
   ]
  },
  {
   "cell_type": "code",
   "execution_count": null,
   "metadata": {},
   "outputs": [
    {
     "name": "stdout",
     "output_type": "stream",
     "text": [
      "A maior nota foi: 9\n",
      "A menor nota foi: 1\n",
      "A média das notas é: 4.4\n"
     ]
    }
   ],
   "source": [
    "x = 0\n",
    "y = 0\n",
    "highestGrade = -1\n",
    "lowestGrade = 11\n",
    "\n",
    "for i in range (0, 5):\n",
    "    x += 1\n",
    "    gradeStudent = int(input(f'Digite a nota do {x}º aluno/a: '))\n",
    "\n",
    "    if gradeStudent > 10 or gradeStudent < 0:\n",
    "        print('Nota inválida!')\n",
    "        break\n",
    "\n",
    "    if gradeStudent > highestGrade:\n",
    "        highestGrade = gradeStudent\n",
    "        \n",
    "    if gradeStudent < lowestGrade:\n",
    "        lowestGrade = gradeStudent\n",
    "\n",
    "    y += gradeStudent\n",
    "\n",
    "    gradesMedian = y / 5\n",
    "\n",
    "print(f'A maior nota foi: {highestGrade}')\n",
    "print(f'A menor nota foi: {lowestGrade}')\n",
    "print(f'A média das notas é: {gradesMedian}')"
   ]
  },
  {
   "cell_type": "markdown",
   "metadata": {},
   "source": [
    "8) Em um pequeno sorteio, serão digitados 6 números.\n",
    "Mostre:\n",
    "\n",
    "1. Conte quantos números digitados são pares.\n",
    "2. Conte quantos números digitados são ímpares.\n",
    "3. Exiba as duas quantidades no final."
   ]
  },
  {
   "cell_type": "code",
   "execution_count": null,
   "metadata": {},
   "outputs": [
    {
     "name": "stdout",
     "output_type": "stream",
     "text": [
      "Dos números digitados, 3 são pares e 3 são ímpares\n"
     ]
    }
   ],
   "source": [
    "x = 0\n",
    "oddNum = 0\n",
    "pairNum = 0\n",
    "\n",
    "for i in range(0, 6):\n",
    "    x += 1\n",
    "    num = int(input(f'Digite o {x}º número: '))\n",
    "\n",
    "    if num % 2 == 0:\n",
    "        pairNum += 1\n",
    "    if num % 2 != 0:\n",
    "        oddNum += 1\n",
    "\n",
    "print(f'Dos números digitados, {pairNum} são pares e {oddNum} são ímpares.')"
   ]
  },
  {
   "cell_type": "markdown",
   "metadata": {},
   "source": [
    "9) Faça um programa que percorra os números de 0 a 1000 e:\n",
    "\n",
    "* Mostre na tela todos os números que são múltiplos de 3 e de 7 ao\n",
    "mesmo tempo.\n",
    "* Ao final, exiba a quantidade de números encontrado"
   ]
  },
  {
   "cell_type": "code",
   "execution_count": null,
   "metadata": {},
   "outputs": [
    {
     "name": "stdout",
     "output_type": "stream",
     "text": [
      "0\n",
      "21\n",
      "42\n",
      "63\n",
      "84\n",
      "105\n",
      "126\n",
      "147\n",
      "168\n",
      "189\n",
      "210\n",
      "231\n",
      "252\n",
      "273\n",
      "294\n",
      "315\n",
      "336\n",
      "357\n",
      "378\n",
      "399\n",
      "420\n",
      "441\n",
      "462\n",
      "483\n",
      "504\n",
      "525\n",
      "546\n",
      "567\n",
      "588\n",
      "609\n",
      "630\n",
      "651\n",
      "672\n",
      "693\n",
      "714\n",
      "735\n",
      "756\n",
      "777\n",
      "798\n",
      "819\n",
      "840\n",
      "861\n",
      "882\n",
      "903\n",
      "924\n",
      "945\n",
      "966\n",
      "987\n",
      "Temos 48 números múltiplos de 3 e de 7: \n"
     ]
    }
   ],
   "source": [
    "x = 0\n",
    "\n",
    "for i in range(0, 1000):\n",
    "    if i % 3 == 0 and i % 7 == 0:\n",
    "        x += 1\n",
    "        print(i)\n",
    "\n",
    "print(f'Temos {x} números múltiplos de 3 e de 7.')"
   ]
  },
  {
   "cell_type": "markdown",
   "metadata": {},
   "source": [
    "10) Em uma brincadeira, uma jarra cheia de bolinhas de gude foi\n",
    "apresentada para os participantes. Cada participante terá até 5\n",
    "tentativas para tentar adivinhar quantas bolinhas existem no pote.\n",
    "\n",
    "Faça um programa que:\n",
    "1. Peça ao usuário para tentar adivinhar o número (o número\n",
    "correto é 82).\n",
    "2. Após cada tentativa, informe:\n",
    "3. Se acertou, parabenize e encerre o jogo.\n",
    "4. Se errou, diga se o número de bolinhas é maior ou menor\n",
    "do que o digitado.\n"
   ]
  },
  {
   "cell_type": "code",
   "execution_count": null,
   "metadata": {},
   "outputs": [
    {
     "name": "stdout",
     "output_type": "stream",
     "text": [
      "O número é maior!\n",
      "O número é maior!\n",
      "O número é maior!\n",
      "O número é maior!\n",
      "Você acertou! A resposta é 82!\n"
     ]
    }
   ],
   "source": [
    "x = 0\n",
    "\n",
    "for i in range(0, 5):\n",
    "    x += 1\n",
    "    attemp = int(input(f'Quantas bolinhas tem na jarra? Tentativa nº {x}: '))\n",
    "    if attemp == 82:\n",
    "        print('Você acertou! A resposta é 82!')\n",
    "        break\n",
    "    elif attemp < 82:\n",
    "        print('O número é maior!')\n",
    "    elif attemp > 82:\n",
    "        print('O número é menor!')\n",
    "else:\n",
    "    print('Suas tentativas acabaram.')"
   ]
  },
  {
   "cell_type": "markdown",
   "metadata": {},
   "source": [
    "11) Uma academia deseja realizar um levantamento sobre o perfil dos seus\n",
    "alunos. Foram cadastradas 8 pessoas. Para cada pessoa foram\n",
    "solicitadas as seguintes informações:\n",
    "\n",
    "* Sexo (m para masculino, f para feminino)\n",
    "* Peso (em kg)\n",
    "\n",
    "Com base nesses dados, faça um programa que:\n",
    "\n",
    "1. Conte quantas mulheres foram cadastradas.\n",
    "2. Conte quantos homens pesam mais de 100 kg.\n",
    "3. Calcule a média do peso das mulheres cadastradas.\n",
    "4. Identifique qual foi o maior peso entre os homens.\n",
    "\n",
    "Ao final, o programa deve exibir:\n",
    "1. A quantidade de mulheres cadastradas.\n",
    "2. A quantidade de homens com mais de 100 kg.\n",
    "3. A média de peso das mulheres (caso haja mulheres cadastradas).\n",
    "4. O maior peso registrado entre os homens."
   ]
  },
  {
   "cell_type": "code",
   "execution_count": 34,
   "metadata": {},
   "outputs": [
    {
     "name": "stdout",
     "output_type": "stream",
     "text": [
      "2 mulheres foram cadastradas.\n",
      "A média de peso entre as mulheres é: 125.0\n",
      "Nenhum homem possúi mais de 100kg.\n",
      "O maior peso entre os homens é: 50.0\n"
     ]
    }
   ],
   "source": [
    "x = 0\n",
    "biggestWeight = -1\n",
    "womanCount = 0\n",
    "womanWeight = 0\n",
    "man100Count = 0\n",
    "manWeight = 0\n",
    "\n",
    "for i in range(0, 8):\n",
    "    x += 1\n",
    "    sex = input(f'Digite o sexo da {x}ª pessoa (M para masculino, F para feminino): ')\n",
    "    weight = float(input(f'Digite o peso da {x}ª pessoa: '))\n",
    "\n",
    "    if sex.lower() == 'f':\n",
    "        womanCount += 1\n",
    "        womanWeight += weight\n",
    "\n",
    "    if sex.lower() == 'm':\n",
    "        manWeight += weight\n",
    "        if weight > 100:\n",
    "            man100Count += 1\n",
    "        if weight > biggestWeight:\n",
    "            biggestWeight = weight\n",
    "\n",
    "if womanCount <= 0:\n",
    "    print('A média não foi calculada por não ter mulheres.')\n",
    "else:\n",
    "    womanMedian = womanWeight / womanCount\n",
    "\n",
    "if womanCount == 1:\n",
    "    print(f'{womanCount} mulher foi cadastrada.')\n",
    "elif womanCount <= 0:\n",
    "    print(f'Nenhuma mulher foi cadastrada.')\n",
    "else:\n",
    "    print(f'{womanCount} mulheres foram cadastradas.')\n",
    "    print(f'A média de peso entre as mulheres é: {womanMedian}')\n",
    "if man100Count == 1:\n",
    "    print(f'{man100Count} homem possúi mais de 100kg.')\n",
    "elif man100Count <= 0:\n",
    "    print(f'Nenhum homem possúi mais de 100kg.')\n",
    "else:\n",
    "    print(f'{man100Count} homens possuem mais de 100kg.')\n",
    "print(f'O maior peso entre os homens é: {biggestWeight}')"
   ]
  }
 ],
 "metadata": {
  "kernelspec": {
   "display_name": "Python 3",
   "language": "python",
   "name": "python3"
  },
  "language_info": {
   "codemirror_mode": {
    "name": "ipython",
    "version": 3
   },
   "file_extension": ".py",
   "mimetype": "text/x-python",
   "name": "python",
   "nbconvert_exporter": "python",
   "pygments_lexer": "ipython3",
   "version": "3.11.9"
  }
 },
 "nbformat": 4,
 "nbformat_minor": 2
}
