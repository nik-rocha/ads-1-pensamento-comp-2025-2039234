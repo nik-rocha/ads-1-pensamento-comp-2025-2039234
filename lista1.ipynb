{
 "cells": [
  {
   "cell_type": "markdown",
   "metadata": {},
   "source": [
    "1. Crie um algoritmo que receba um valor em metros e converta para centímetros."
   ]
  },
  {
   "cell_type": "code",
   "execution_count": null,
   "metadata": {},
   "outputs": [
    {
     "name": "stdout",
     "output_type": "stream",
     "text": [
      "O valor em metros é: 2000\n"
     ]
    }
   ],
   "source": [
    "meters = int(input('Digite o valor desejado em metros: '))\n",
    "convertedValue = meters * 100\n",
    "\n",
    "print(f'O valor em centímetros é: {convertedValue}')"
   ]
  },
  {
   "cell_type": "markdown",
   "metadata": {},
   "source": [
    "2. Crie um algoritmo que pergunte quanto você ganha por hora e o número\n",
    "de horas que você trabalha por mês, o algoritmo deve calcular e mostrar\n",
    "qual seu salário naquele mês."
   ]
  },
  {
   "cell_type": "code",
   "execution_count": 2,
   "metadata": {},
   "outputs": [
    {
     "name": "stdout",
     "output_type": "stream",
     "text": [
      "Você recebe, num mês, R$2500.0.\n"
     ]
    }
   ],
   "source": [
    "salaryPerHour = float(input('Digite quanto que você recebe, em horas: '))\n",
    "hoursPerMonth = float(input('Digite quantas horas você trabalha por mês: '))\n",
    "\n",
    "salaryPerMonth = salaryPerHour * hoursPerMonth\n",
    "\n",
    "print(f'Você recebe, num mês, R${salaryPerMonth}.')"
   ]
  },
  {
   "cell_type": "markdown",
   "metadata": {},
   "source": [
    "3. Crie um algoritmo que leia uma entrada em quilômetros, e mostre\n",
    "quantas milhas equivalem essa quantidade em quilômetros."
   ]
  },
  {
   "cell_type": "code",
   "execution_count": 8,
   "metadata": {},
   "outputs": [
    {
     "name": "stdout",
     "output_type": "stream",
     "text": [
      "Esse valor, em milhas, equivale á: 31.0685\n"
     ]
    }
   ],
   "source": [
    "kilometers = float(input('Digite a quantidade de quilômetros desejada: '))\n",
    "kmToMiles = kilometers * 0.62137\n",
    "\n",
    "print(f'Esse valor, em milhas, equivale á: {kmToMiles}')"
   ]
  },
  {
   "cell_type": "markdown",
   "metadata": {},
   "source": [
    "4. Faça um algoritmo que leia um número inteiro e mostre o seu\n",
    "antecessor e seu sucessor."
   ]
  },
  {
   "cell_type": "code",
   "execution_count": 9,
   "metadata": {},
   "outputs": [
    {
     "name": "stdout",
     "output_type": "stream",
     "text": [
      "O número anterior a este é 19, e o número sucessor deste é 21\n"
     ]
    }
   ],
   "source": [
    "num = int(input('Digite um número: '))\n",
    "\n",
    "print(f'O número anterior a este é {num - 1}, e o número sucessor deste é {num + 1}')"
   ]
  },
  {
   "cell_type": "markdown",
   "metadata": {},
   "source": [
    "5. Zé Papo-de-Pescador, um trabalhador dedicado, comprou um\n",
    "computador para controlar o rendimento de seu trabalho diário na pesca.\n",
    "O regulamento de pesca do estado de São Paulo estabelece que o limite\n",
    "máximo de peso de peixes que pode ser capturado é de 30 quilos. Caso\n",
    "Zé pesque mais do que esse limite, ele deverá pagar uma multa de R$\n",
    "3,00 por cada quilo excedente.\n",
    "\n",
    "Crie um algoritmo que leia o peso total dos peixes capturados e calcule:\n",
    "\n",
    "● O excesso de peso (a quantidade de quilos que ultrapassam o\n",
    "limite de 30 quilos).\n",
    "\n",
    "● O valor da multa, que será calculado multiplicando o excesso de\n",
    "peso por R$ 3,00.\n",
    "\n",
    "O algoritmo deve exibir na tela as informações sobre o peso total, o\n",
    "excesso e o valor da multa que Zé deverá pagar, caso haja algum\n",
    "excedente."
   ]
  },
  {
   "cell_type": "code",
   "execution_count": null,
   "metadata": {},
   "outputs": [
    {
     "name": "stdout",
     "output_type": "stream",
     "text": [
      "O peso excedeu o limite de 30kg! Você pagará uma multa de R$13.50.\n"
     ]
    }
   ],
   "source": [
    "fishWeight = float(input('Digite o peso do quanto que você pegou de peixes, o peso excedido será calculado.'))\n",
    "penalty = (fishWeight - 30) * 3\n",
    "\n",
    "if fishWeight > 30:\n",
    "    print(f'O peso excedeu o limite de 30kg! Você pagará uma multa de R${penalty:.1f}0.')\n",
    "else:\n",
    "    print('Tudo certo! Pode vender.')"
   ]
  },
  {
   "cell_type": "markdown",
   "metadata": {},
   "source": [
    "6. Um motorista deseja colocar no seu tanque X reais de gasolina. Escreva\n",
    "um algoritmo para ler o preço do litro da gasolina e o valor do\n",
    "pagamento, e exibir quantos litros ele conseguiu colocar no tanque."
   ]
  },
  {
   "cell_type": "code",
   "execution_count": 22,
   "metadata": {},
   "outputs": [
    {
     "name": "stdout",
     "output_type": "stream",
     "text": [
      "Deram 15.75 litros.\n"
     ]
    }
   ],
   "source": [
    "payForGasoline = float(input('Quantos reais você quer colocar meu chefe?: '))\n",
    "liters = payForGasoline / 6.35\n",
    "\n",
    "print(f'Deram {liters:.2f} litros.')"
   ]
  },
  {
   "cell_type": "markdown",
   "metadata": {},
   "source": [
    "7. Crie um algoritmo que receba quanto você ganha por hora e quantas\n",
    "horas trabalhou no mês. O algoritmo deve calcular e mostrar o seu\n",
    "salário no referido mês, sabendo que serão descontados 11% do\n",
    "Imposto de Renda (IR) e mais 8% do INSS. No final o algoritmo deve\n",
    "apresentar: (2 pontos)\n",
    "\n",
    "a. Salário bruto\n",
    "\n",
    "b. Valor do imposto de renda\n",
    "\n",
    "c. Valor do INSS\n",
    "\n",
    "d. Salário líquido (líquido = bruto – impostos)"
   ]
  },
  {
   "cell_type": "code",
   "execution_count": 29,
   "metadata": {},
   "outputs": [
    {
     "name": "stdout",
     "output_type": "stream",
     "text": [
      "Os seus valores deram os seguintes resultados:\n",
      " Salário bruto = 122850.00\n",
      " Valor do imposto de renda = 13513.50\n",
      " Valor do INSS = 9828.00\n",
      " Salário líquido = 99508.50\n"
     ]
    }
   ],
   "source": [
    "salarioHora = float(input('Digite quanto que você recebe, em horas: '))\n",
    "horasPorMes = float(input('Digite quantas horas você trabalhou no mês: '))\n",
    "\n",
    "salarioBruto = salarioHora * horasPorMes\n",
    "impostoRenda = salarioBruto * 0.11\n",
    "inss = salarioBruto * 0.08\n",
    "salarioLiquido = salarioBruto - (impostoRenda + inss)\n",
    "\n",
    "print('Os seus valores deram os seguintes resultados:'\n",
    "f'\\n Salário bruto = {salarioBruto:.2f}'\n",
    "f'\\n Valor do imposto de renda = {impostoRenda:.2f}'\n",
    "f'\\n Valor do INSS = {inss:.2f}'\n",
    "f'\\n Salário líquido = {salarioLiquido:.2f}')"
   ]
  },
  {
   "cell_type": "markdown",
   "metadata": {},
   "source": [
    "8. Você foi contratado pela Unimar para auxiliar na reforma dos blocos,\n",
    "ajudando na otimização dos custos com pintura. Para isso, desenvolva\n",
    "um programa que calcule a quantidade de tinta necessária e o custo\n",
    "total da compra. (2 pontos)\n",
    "O programa deve:\n",
    "\n",
    "● Solicitar ao usuário o tamanho da área a ser pintada (em metros\n",
    "quadrados).\n",
    "\n",
    "● Considerar que 1 litro de tinta cobre 3 m².\n",
    "\n",
    "● As tintas são vendidas em latas de 18 litros, e cada lata custa R$\n",
    "80,00.\n",
    "\n",
    "● Calcular a quantidade total de latas necessárias (arredondando\n",
    "para cima, se necessário).\n",
    "\n",
    "● Informar ao usuário a quantidade de latas a serem compradas e o\n",
    "custo total da compra.\n",
    "\n",
    "● O objetivo do programa é fornecer informações precisas para\n",
    "facilitar a tomada de decisão sobre a compra da tinta."
   ]
  },
  {
   "cell_type": "code",
   "execution_count": 38,
   "metadata": {},
   "outputs": [
    {
     "name": "stdout",
     "output_type": "stream",
     "text": [
      "Para pintar a área de 250.0m², serão necessárias 83.33 litros, equivalendo\n",
      "a 5 latas de tinta, custando R$370.37.\n"
     ]
    }
   ],
   "source": [
    "totalArea = float(input('Digite o tamanho da área que será pintada (em metros quadrados): '))\n",
    "paintLiters = totalArea / 3\n",
    "paitCanQuantities = paintLiters / 18\n",
    "\n",
    "print(f'Para pintar a área de {totalArea}m², serão necessárias {paintLiters:.2f} litros, equivalendo\\na {paitCanQuantities:.0f} latas de tinta, custando R${paitCanQuantities * 80:.2f}.')"
   ]
  }
 ],
 "metadata": {
  "kernelspec": {
   "display_name": "Python 3",
   "language": "python",
   "name": "python3"
  },
  "language_info": {
   "codemirror_mode": {
    "name": "ipython",
    "version": 3
   },
   "file_extension": ".py",
   "mimetype": "text/x-python",
   "name": "python",
   "nbconvert_exporter": "python",
   "pygments_lexer": "ipython3",
   "version": "3.11.9"
  }
 },
 "nbformat": 4,
 "nbformat_minor": 2
}
