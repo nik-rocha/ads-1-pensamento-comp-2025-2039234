{
  "cells": [
    {
      "cell_type": "code",
      "execution_count": null,
      "metadata": {},
      "outputs": [],
      "source": []
    },
    {
      "cell_type": "markdown",
      "metadata": {
        "id": "vkNJdaakl9X7"
      },
      "source": [
        "## 01 - Entrada e Saída de Dados"
      ]
    },
    {
      "cell_type": "markdown",
      "metadata": {
        "id": "_mGIss-OmKVy"
      },
      "source": [
        "## Primeiros passos com Python\n",
        "\n",
        "No Python, assim como as demais linguagens, temos a forma correta de escrever os comandos. Isso é chamado de **sintaxe**. Cada comando, existe sua sintaxe correta de escrita, caso contrário, apresentará um erro."
      ]
    },
    {
      "cell_type": "code",
      "execution_count": null,
      "metadata": {
        "colab": {
          "base_uri": "https://localhost:8080/"
        },
        "id": "4T0h61ANopre",
        "outputId": "4f27867c-8bce-442d-82d1-a98c518cc1e7"
      },
      "outputs": [],
      "source": [
        "import this"
      ]
    },
    {
      "cell_type": "markdown",
      "metadata": {
        "id": "128INtAnoPYd"
      },
      "source": [
        "## Saída de dados\n",
        "\n",
        "O comando responsável por **exibir** informações para o usuário no Python é o `print`. Em pseudocódigo, lemos como `escreva`.\n",
        "\n",
        "Exemplo em pseudocógido: `escreva(\"Olá mundo!\")`\n",
        "\n",
        "Exemplo em Python: `print('Olá mundo')`"
      ]
    },
    {
      "cell_type": "code",
      "execution_count": null,
      "metadata": {
        "colab": {
          "base_uri": "https://localhost:8080/"
        },
        "id": "vYZYcDeDrrI_",
        "outputId": "f148b112-5e03-4d1b-b07c-e24922ee6544"
      },
      "outputs": [],
      "source": [
        "print('Olá mundo!')"
      ]
    },
    {
      "cell_type": "markdown",
      "metadata": {
        "id": "P7PGgww9ruzl"
      },
      "source": [
        "## Entrada de dados\n",
        "\n",
        "Já o comando de entrada de dados, responsável por ler as informações digitadas pelo usuário, é o `input`. Em pseudocódigo, é lido como `leia`.\n",
        "\n",
        "Exemplo em pseudocódigo: `leia()`\n",
        "\n",
        "Exemplo em Python: `input()`\n",
        "\n",
        "Faça abaixo o código em Python:"
      ]
    },
    {
      "cell_type": "code",
      "execution_count": null,
      "metadata": {
        "colab": {
          "base_uri": "https://localhost:8080/"
        },
        "id": "0bwD6L1XsQ6O",
        "outputId": "f7d3e724-a552-4d02-8dfe-8e4558867a18"
      },
      "outputs": [],
      "source": [
        "input('Qual sua faculdade?')"
      ]
    },
    {
      "cell_type": "markdown",
      "metadata": {
        "id": "Ybha8_o3u45N"
      },
      "source": [
        "## 02 - Variáveis"
      ]
    },
    {
      "cell_type": "markdown",
      "metadata": {
        "id": "kfkJTQ7hvIp1"
      },
      "source": [
        "## Conceito\n",
        "\n",
        "Na computação, temos as variáveis. Variáveis, são posições na memória que sofrem alteração de valor.\n",
        "\n",
        "Ou seja, se você guardou um valor em uma variável, como um nome, uma idade, ele pode ser alterado posteriormente pois é possível essa volatilidade de seu valor.\n",
        "\n",
        "Para declarar uma variável, e armazenar um valor, é usado o sinal de = (igual).\n",
        "\n",
        "No Python, o tipo da variável é concebido de forma dinâmica, ou seja, no ato da atribuição de um valor."
      ]
    },
    {
      "cell_type": "markdown",
      "metadata": {
        "id": "nBeCp-XkyXz9"
      },
      "source": [
        "## Padrões\n",
        "\n",
        "Existem alguns padrões de declaração de variáveis, os mais comuns são:\n",
        "\n",
        "* unimarUniversidade = camelCase\n",
        "* UnimarUniversidade = PascalCase\n",
        "* unimar_universidade = snake_case"
      ]
    },
    {
      "cell_type": "code",
      "execution_count": null,
      "metadata": {
        "id": "3slG4FQryu2e"
      },
      "outputs": [],
      "source": [
        "nome = 'Nicollas' #normal\n",
        "nomePessoa = 'Nicollas' #camelCase\n",
        "NomePessoa = 'Nicollas' #PascalCase\n",
        "nome_pessoa = 'Nicollas' #snake_case"
      ]
    },
    {
      "cell_type": "markdown",
      "metadata": {
        "id": "pun5erMN0Qmd"
      },
      "source": [
        "Acima temos um exemplo de **atribuição** a uma variável, o valor 'Nicollas'.\n",
        "\n",
        "Podemos ler da seguinte maneira o comando: A variável `nome` recebe o valor de **Nicollas**.\n",
        "\n",
        "As aspas indicam que ela é do tipo texto.\n",
        "\n",
        "Com o que vimos, como podemos mostrar uma saudação para a pessoa que inseriou o nome na variável?"
      ]
    },
    {
      "cell_type": "code",
      "execution_count": null,
      "metadata": {
        "colab": {
          "base_uri": "https://localhost:8080/"
        },
        "id": "c918eOfb07NO",
        "outputId": "6669647d-6748-45cc-a841-fe4e4f924d9a"
      },
      "outputs": [],
      "source": [
        "print('Olá', nome)\n",
        "print('Olá', nomePessoa)\n",
        "print('Olá', NomePessoa)\n",
        "print('Olá', nome_pessoa)"
      ]
    },
    {
      "cell_type": "markdown",
      "metadata": {
        "id": "PiJKzTQJ13pm"
      },
      "source": [
        "## Concatenar\n",
        "\n",
        "Para juntarmos um conteúdo de texto variáveis, ou apenas variáveis com variáveis, usa-se a concatenação, simbolizada pela vírgula. Isso dita ao Python que você quer juntar/unir os valores.\n",
        "\n",
        "Exemplo com mais texto:"
      ]
    },
    {
      "cell_type": "code",
      "execution_count": null,
      "metadata": {
        "colab": {
          "base_uri": "https://localhost:8080/"
        },
        "id": "iPJCSLVA3c_M",
        "outputId": "38e1a18f-a535-4e9e-c124-2de6d9491a02"
      },
      "outputs": [],
      "source": [
        "print('Olá', nome, 'bem-vindo à Unimar!')"
      ]
    },
    {
      "cell_type": "markdown",
      "metadata": {
        "id": "WvR7P0UT3l8d"
      },
      "source": [
        "## Declaração\n",
        "\n",
        "Quando declaramos uma variável, temos que nos atentar na forma como declaramos as variáveis. Existe a sintaxe correta de declarações para tal.\n",
        "\n",
        "* sem espaços\n",
        "* não começar com números\n",
        "* sem usar caracteres especias/acentos\n",
        "* não usar palavras reservadas\n",
        "\n",
        "1. nota_1 - OK\n",
        "2. Média final - ACENTO E ESPAÇO\n",
        "3. Nome_Func - OK\n",
        "4. A - OK\n",
        "5. 123 - COMEÇA COM NÚMERO\n",
        "6. 1x - COMEÇA COM NÚMERO\n",
        "7. X1 - OK\n",
        "8. Código! - ACENTO E CARACTERE ESPECIAL\n",
        "9. Cod Cliente - ESPAÇO\n",
        "10. Y*X - CARACTERE ESPECIAL\n",
        "11. NOTA+2 - CARACTERE ESPECIAL"
      ]
    },
    {
      "cell_type": "markdown",
      "metadata": {
        "id": "9CUkyEZZF25s"
      },
      "source": [
        "## Tipos de dados\n",
        "\n",
        "Em Python, o tipo de uma variável não precisa ser declarado explicitamente antes de usar a variável. Python é uma linguagem de tipagem dinâmica, o que significa que o tipo de uma variável é inferido automaticamente com base no valor que ela recebe.\n",
        "\n",
        "Quando você atribui um valor a uma variável em Python, o interpretador determina o tipo dessa variável com base no tipo do valor atribuído. Exemplo\n"
      ]
    },
    {
      "cell_type": "markdown",
      "metadata": {
        "id": "vy4OPchJHJuV"
      },
      "source": [
        "`str`: representa uma cadeia de caracteres, ou seja, textos de forma geral:\n",
        "\n",
        "str = string = cadeia\n",
        "\n",
        "* 'Unimar - Universidade de Marília'\n",
        "* 'Nicollas'\n",
        "* 'Python'\n",
        "* '123'\n",
        "\n",
        "`int`: representa números inteiros\n",
        "\n",
        "int = interger = inteiro\n",
        "\n",
        "* 1\n",
        "* 50\n",
        "* -3\n",
        "\n",
        "`float`: representa números de ponto flutuante, ou seja, números com casas decimais\n",
        "\n",
        "float = floating = real\n",
        "\n",
        "* 3.14\n",
        "* -0.24\n",
        "* 145.6"
      ]
    },
    {
      "cell_type": "code",
      "execution_count": null,
      "metadata": {
        "colab": {
          "base_uri": "https://localhost:8080/"
        },
        "id": "rAsSchOUIsEk",
        "outputId": "a1153c56-743c-4ad7-a150-49818151b298"
      },
      "outputs": [],
      "source": [
        "nomeAluno = 'StartUP'\n",
        "idade = 19\n",
        "altura = 1.90\n",
        "\n",
        "print(type(nome))\n",
        "print(type(idade))\n",
        "print(type(altura))"
      ]
    },
    {
      "cell_type": "code",
      "execution_count": null,
      "metadata": {
        "colab": {
          "base_uri": "https://localhost:8080/"
        },
        "id": "24n7X5tKLQDM",
        "outputId": "02f90e30-6869-42e6-db7a-fd838efbb7cc"
      },
      "outputs": [],
      "source": [
        "print(nomeAluno)"
      ]
    },
    {
      "cell_type": "code",
      "execution_count": null,
      "metadata": {
        "colab": {
          "base_uri": "https://localhost:8080/"
        },
        "id": "2tDubdgjKzIE",
        "outputId": "10d43fd6-07e1-40fe-e2c6-2686e3424dcb"
      },
      "outputs": [],
      "source": [
        "nomeAluno = input('Digite o seu nome: ')\n",
        "idade = input('Digite sua idade: ')\n",
        "altura = input('Digite sua altura: ')"
      ]
    },
    {
      "cell_type": "markdown",
      "metadata": {},
      "source": [
        "Ao concatenar valores, tanto o sinal de vírgula `(,)` tanto como o sinal de `+` funcionam como strings (textos).\n",
        "\n",
        "O operador `+` só pode ser usado entre strings e faz uma concatenação sem adicionar espaços automaticamente. Já a vírgula pode-se usar com outros tipos de dados, e adiciona um espaço automaticamente.\n",
        "\n",
        "Porém, ao usar o sinal de `+` entre uma string e uma variável de tipo numeral, irá ocorrer um erro."
      ]
    },
    {
      "cell_type": "code",
      "execution_count": null,
      "metadata": {},
      "outputs": [],
      "source": [
        "nomeProfessor = 'Lucas' #string\n",
        "idadeProf = 38 #int\n",
        "carroProf = 'Ferrari'\n",
        "\n",
        "# print('olá,' + nomeProfessor + '. Você possui' + idadeProf 'anos.')\n",
        "print('Olá, ' + nomeProfessor + '. Você possui uma' + carroProf + '.')\n",
        "print('Olá,', nomeProfessor + '. Você possui', idadeProf, 'anos.')"
      ]
    },
    {
      "cell_type": "markdown",
      "metadata": {},
      "source": [
        "## Atividade - Entrada e Saída"
      ]
    },
    {
      "cell_type": "markdown",
      "metadata": {},
      "source": [
        "1 - Peça ao usuário que digite seu time do coração e exiba uma mensagem qualquer.\n",
        "\n",
        "Exemplo:\n",
        "\n",
        "Entrada: MAC\n",
        "\n",
        "Saída: Top! O MAC é o melhor do mundo!\n"
      ]
    },
    {
      "cell_type": "code",
      "execution_count": null,
      "metadata": {},
      "outputs": [],
      "source": [
        "seuTime = input('Qual o seu time de coração?')\n",
        "\n",
        "print('Top! O', seuTime, 'é o melhor do mundo!')\n",
        "print('Top! O ' + seuTime + ' é o melhor do mundo!')\n",
        "print(f'Top! O {seuTime} é o melhor do mundo!')"
      ]
    },
    {
      "cell_type": "markdown",
      "metadata": {},
      "source": [
        "2 - Peça ao usuário para digitar sua comida favorita.\n",
        "\n",
        "Exemplo:\n",
        "\n",
        "Entrada: Lasanha\n",
        "\n",
        "Saída: Lasanha é bão mesmo!"
      ]
    },
    {
      "cell_type": "code",
      "execution_count": null,
      "metadata": {},
      "outputs": [],
      "source": [
        "suaComida = input('Qual a sua comida favorita?')\n",
        "\n",
        "print(suaComida, 'é bão mesmo!')\n",
        "print(suaComida + ' é bão mesmo!')\n",
        "print(f'{suaComida} é bão mesmo!')"
      ]
    },
    {
      "cell_type": "markdown",
      "metadata": {},
      "source": [
        "3 - Peça para o usuário para digitar uma palavra e um número. Depois, exiba uma senha personalizada.\n",
        "\n",
        "Exemplo:\n",
        "\n",
        "Entrada: Gato e 123\n",
        "\n",
        "Saída: Sua nova senha é Gato123"
      ]
    },
    {
      "cell_type": "code",
      "execution_count": null,
      "metadata": {},
      "outputs": [],
      "source": [
        "suaPalavra = input('Digite a palavra desejada:')\n",
        "seuNum = input('Digite o número desejado:')\n",
        "\n",
        "print('Sua nova senha é', suaPalavra + seuNum)\n",
        "print(f'Sua nova senha é {suaPalavra}{seuNum}')"
      ]
    },
    {
      "cell_type": "markdown",
      "metadata": {},
      "source": [
        "4 - Peça ao usuário para digitar um nome e uma profissão fictícia para um personagem.\n",
        "\n",
        "Exemplo:\n",
        "\n",
        "Entrada: Robscleyton / Manobrista de Nave\n",
        "\n",
        "Saída: Robscleyton é um grande manobrista de nave."
      ]
    },
    {
      "cell_type": "code",
      "execution_count": null,
      "metadata": {},
      "outputs": [],
      "source": [
        "seuNome = input('Digite o nome de seu personagem')\n",
        "seuJob = input('Digite o trabalho de seu personagem')\n",
        "\n",
        "print(seuNome.title(), 'é um grande', seuJob.lower() + '.')"
      ]
    },
    {
      "cell_type": "markdown",
      "metadata": {},
      "source": [
        "## 3. Operações"
      ]
    },
    {
      "cell_type": "markdown",
      "metadata": {},
      "source": [
        "**Hierarquia dos Operadore**\n",
        "\n",
        "1. Parêntese ();\n",
        "2. Multiplicação e Divisão (* e /)\n",
        "3. Soma e Subtração (+ e -)"
      ]
    },
    {
      "cell_type": "code",
      "execution_count": null,
      "metadata": {},
      "outputs": [],
      "source": [
        "print(1 + 1) #soma"
      ]
    },
    {
      "cell_type": "code",
      "execution_count": null,
      "metadata": {},
      "outputs": [],
      "source": [
        "print(5 * 5) #multiplicação"
      ]
    },
    {
      "cell_type": "code",
      "execution_count": null,
      "metadata": {},
      "outputs": [],
      "source": [
        "print(2 ** 2) #potenciação"
      ]
    },
    {
      "cell_type": "code",
      "execution_count": null,
      "metadata": {},
      "outputs": [],
      "source": [
        "print(25 // 5) #divisão inteira"
      ]
    },
    {
      "cell_type": "code",
      "execution_count": null,
      "metadata": {},
      "outputs": [],
      "source": [
        "print(25 % 5) #módulo (resto da divisão)"
      ]
    },
    {
      "cell_type": "markdown",
      "metadata": {},
      "source": [
        "## Exercícios - Operadores Aritméticos"
      ]
    },
    {
      "cell_type": "markdown",
      "metadata": {},
      "source": [
        "01 - Faça um algoritmo que leia dois valores inteiros e positivos. Ao fim, exiba a some destes valores ao usuário:"
      ]
    },
    {
      "cell_type": "code",
      "execution_count": null,
      "metadata": {},
      "outputs": [],
      "source": [
        "num1 = int(input('Digite um número inteiro'))\n",
        "num2 = int(input('Digite outro número inteiro, iremos somá-lo ao primeiro.'))\n",
        "\n",
        "numSoma = num1 + num2\n",
        "\n",
        "print(f'A soma dos dois valores é: {numSoma}')"
      ]
    },
    {
      "cell_type": "markdown",
      "metadata": {},
      "source": [
        "02 - Faça um algoritmo que leia um número inteiro positivo e calcule o dobro deste número"
      ]
    },
    {
      "cell_type": "code",
      "execution_count": null,
      "metadata": {},
      "outputs": [],
      "source": [
        "num = int(input('Digite um número inteiro positivo'))\n",
        "\n",
        "numDouble = num * 2\n",
        "\n",
        "if num < 0:\n",
        "    print('Seu número é negativo. Tente novamente')\n",
        "elif num > 0:\n",
        "    print(f'O dobro de seu número é: {numDouble}')\n",
        "else:\n",
        "    print(f'Para de brisar irmão')"
      ]
    },
    {
      "cell_type": "markdown",
      "metadata": {},
      "source": [
        "03 - Faça um algoritmo que leia três notas de um aluno. Ao fim, exiba a média aritmética das três notas:"
      ]
    },
    {
      "cell_type": "code",
      "execution_count": null,
      "metadata": {},
      "outputs": [],
      "source": [
        "note1 = int(input('Digite a nota de um aluno'))\n",
        "note2 = int(input('Digite a nota de outro aluno'))\n",
        "note3 = int(input('Digite a nota de mais um aluno'))\n",
        "\n",
        "medium = ((note1 + note2 + note3) / 3)\n",
        "print(f'A média da nota dos três alunos é: {medium}')"
      ]
    },
    {
      "cell_type": "markdown",
      "metadata": {},
      "source": [
        "4. Cálcule a área de um triângulo.\n",
        "\n",
        "Fórmula: área = base * altura"
      ]
    },
    {
      "cell_type": "code",
      "execution_count": null,
      "metadata": {},
      "outputs": [],
      "source": [
        "h = float(input('Digite a altura do triângulo'))\n",
        "b = float(input('Digite a base do triângulo'))\n",
        "\n",
        "triangle = h * b\n",
        "print(f'A área do triângulo é: {triangle}')"
      ]
    },
    {
      "cell_type": "markdown",
      "metadata": {},
      "source": [
        "5. Com o valor atual do Dólar, um casal precisa se planejar para uma viagem. Faça um algoritmo que permita o casal converter a quantidade de dinheiro em reais que possuem, para Dólar, considerando a cotação atual do dia."
      ]
    },
    {
      "cell_type": "code",
      "execution_count": null,
      "metadata": {},
      "outputs": [],
      "source": [
        "real = float(input('Digite a quantidade em reais'))\n",
        "dolar = 5.73\n",
        "valorConvertido = real / dolar\n",
        "\n",
        "print(f'O valor do real em dolar é: {valorConvertido:.2f}')"
      ]
    },
    {
      "cell_type": "markdown",
      "metadata": {},
      "source": [
        "06. Solicite para o usuário a sua idade. COm sua idade, crie um algoritmo que calcule a quantidade de dias que a pessoa já viveu (aproximadamente)"
      ]
    },
    {
      "cell_type": "code",
      "execution_count": null,
      "metadata": {},
      "outputs": [],
      "source": [
        "idade = int(input('Digite sua idade'))\n",
        "\n",
        "suaVida = idade * 365\n",
        "\n",
        "print(f'Você já viveu por {suaVida} dias!')"
      ]
    },
    {
      "cell_type": "markdown",
      "metadata": {},
      "source": [
        "7. Joáo está muito contente com o desempenho do seu time e resolveu adquirir uma camiseta do melhor time do mundo, COrinthians. Ao chegar na loja, percebeu que há um desconto em pagamentos à vista, que é a mesma forma que ele faria. Solicite ao usuário, o valor do produto, o percentual de desconto, e ao fim, exiba o preço já descontado para pagamento."
      ]
    },
    {
      "cell_type": "code",
      "execution_count": null,
      "metadata": {},
      "outputs": [],
      "source": [
        "precoCamisa = float(input(\"Qual o valor da camiseta?\"))\n",
        "desconto = float(input(\"Qual o valor do desconto?\"))\n",
        "\n",
        "precoDescontado = precoCamisa - (precoCamisa * desconto / 100)\n",
        "\n",
        "print(f\"O valor da camiseta com o desconto é: {precoDescontado}\")"
      ]
    },
    {
      "cell_type": "markdown",
      "metadata": {},
      "source": [
        "8. Faça um algoritmo que leia uma temperatura em Celcius, e converta-a em Fahrenheit e em Kelvin."
      ]
    },
    {
      "cell_type": "code",
      "execution_count": null,
      "metadata": {},
      "outputs": [],
      "source": [
        "temperatura = float(input(\"Digite a temperatura desejado\"))\n",
        "tempToFahrenheit = (temperatura * 1.8) + 32\n",
        "tempToKelvin = temperatura + 273\n",
        "\n",
        "print(f\"A sua temperatura em Fahrenheit em Kelvin, respectivamente: {tempToFahrenheit} e {tempToKelvin}\")"
      ]
    },
    {
      "cell_type": "markdown",
      "metadata": {},
      "source": [
        "9. Faça um algoritmo que leia o peso e a altura de uma pessoa. Com esses dados, calcular o IMC do usuário."
      ]
    },
    {
      "cell_type": "code",
      "execution_count": null,
      "metadata": {},
      "outputs": [],
      "source": [
        "seuPeso = float(input(\"Digite o seu peso.\"))\n",
        "suaAltura = float(input(\"Digite sua altura.\"))\n",
        "\n",
        "imc = seuPeso / (suaAltura ** 2)\n",
        "\n",
        "print(f\"Seu Índice de Gordura Corporal é: {imc}\")"
      ]
    },
    {
      "cell_type": "markdown",
      "metadata": {},
      "source": [
        "10. Faça um algoritmo que solicite dois números ao usuário e calcule o resto da divisão entre eles."
      ]
    },
    {
      "cell_type": "code",
      "execution_count": null,
      "metadata": {},
      "outputs": [],
      "source": [
        "num1 = int(input(\"Digite um número.\"))\n",
        "num2 = int(input(\"Digite outro número.\"))\n",
        "\n",
        "resto = num1 % num2\n",
        "\n",
        "print(f\"O resto da divisão entre os dois números é: {resto}\")"
      ]
    },
    {
      "cell_type": "markdown",
      "metadata": {},
      "source": [
        "11. Para se preparar para a Calourada, uma aluna do vôlei da turma ADS começou a correr para melhorar o condicionamento físico e deja calcular a sua **velocidade média** durante as sessões de corrida. Solicite ao usuário, a distância percorrida, e o tempo gasto da atividade para o cálculo."
      ]
    },
    {
      "cell_type": "code",
      "execution_count": null,
      "metadata": {},
      "outputs": [],
      "source": [
        "distance = float(input(\"Qual a distância percorrida em KM?\"))\n",
        "time = float(input(\"Qual foi o tempo gasto em horas?\"))\n",
        "\n",
        "mediumVelocity = distance / time\n",
        "\n",
        "print(f\"Sua velocidade média foi: {mediumVelocity:.2f}\")"
      ]
    },
    {
      "cell_type": "markdown",
      "metadata": {},
      "source": [
        "12. Faça um algortimo que leia um valor em anos. A partir dessa entrada, calcular quantos meses, dias, horas e minutos possui essa entrada."
      ]
    },
    {
      "cell_type": "code",
      "execution_count": null,
      "metadata": {},
      "outputs": [],
      "source": [
        "years = int(input(\"Digite a quantidade de anos\"))\n",
        "yearMonths = years * 12\n",
        "yearDays = years * 365\n",
        "yearHours = years * 8766\n",
        "yearMinutes = years * 525960\n",
        "\n",
        "print(f\"Dentro dessa quantidade de anos, temos {yearMonths} meses, {yearDays} dias, {yearHours} horas e {yearMinutes} minutos!\")"
      ]
    },
    {
      "cell_type": "code",
      "execution_count": null,
      "metadata": {},
      "outputs": [],
      "source": [
        "hamburguer = 18.50\n",
        "xsalada = 22.00\n",
        "fritas = 12.90\n",
        "refri = 5.00\n",
        "milkshake = 8.99\n",
        "\n",
        "def calculus():\n",
        "    hamQuant = float(input(\"Quantos hamburguers o cliente pediu?\"))\n",
        "    hamCalc = hamburguer * hamQuant\n",
        "\n",
        "    xsalQuant = float(input(\"Quantos X-Salada o cliente pediu\"))\n",
        "    xsalCalc = xsalada * xsalQuant\n",
        "\n",
        "    fritasQuant = float(input(\"Quantas fritas o cliente pediu?\"))\n",
        "    fritasCalc = fritas * fritasQuant\n",
        "\n",
        "    refriQuant = float(input(\"Quantas refris o cliente pediu?\"))\n",
        "    refriCalc = refri * refriQuant\n",
        "\n",
        "    milkQuant = float(input(\"Quantas milk-shakes o cliente pediu?\"))\n",
        "    milkCalc = milkshake * milkQuant\n",
        "\n",
        "    allCalc = hamCalc + xsalCalc + fritasCalc + refriCalc + milkCalc\n",
        "\n",
        "    print(f\"O cliente terá que pagar R${allCalc}\")\n",
        "\n",
        "calculus()\n",
        "    "
      ]
    },
    {
      "cell_type": "markdown",
      "metadata": {},
      "source": [
        "14. Os funcionários do Bar do Moe's conseguiram um adicional devido a alta das vendas neste período do ano. Faça um algoritmo que leia o salário base do funcionário, o percentual de acréscimo, e ao fim mostre o salário total recalculado."
      ]
    },
    {
      "cell_type": "code",
      "execution_count": null,
      "metadata": {},
      "outputs": [],
      "source": [
        "salary = float(input(\"Qual o salário do safado do barman?\"))\n",
        "salaryAcr = float(input(\"Qual o percentual de acréscimo?\"))\n",
        "\n",
        "salaryDivision = (salaryAcr / 100) * salary\n",
        "salaryCalc = salaryDivision + salary\n",
        "\n",
        "print(f\"O salário adicionado ao percentual é: {salaryCalc}\")"
      ]
    },
    {
      "attachments": {
        "image.png": {
          "image/png": "[encoded data removed]"
        }
      },
      "cell_type": "markdown",
      "metadata": {},
      "source": [
        "## Relacionais\n",
        "\n",
        "Operadores relacionais, são responsáveis por relacionar dois objetos. Sempre retornarão `True` ou `False`.\n",
        "\n",
        "![image.png](attachment:image.png)"
      ]
    },
    {
      "cell_type": "code",
      "execution_count": null,
      "metadata": {},
      "outputs": [],
      "source": [
        "print(5 == 5) #igualdade\n",
        "print(5 == 4)\n",
        "\n",
        "n1 = 5\n",
        "n2 = 4\n",
        "\n",
        "print(n1 == n2)"
      ]
    },
    {
      "cell_type": "code",
      "execution_count": null,
      "metadata": {},
      "outputs": [],
      "source": [
        "print(10 > 5) #maior\n",
        "print(5 > 10)"
      ]
    },
    {
      "cell_type": "code",
      "execution_count": null,
      "metadata": {},
      "outputs": [],
      "source": [
        "print(10 >= 5) #maior OU igual\n",
        "print(5 >= 10)"
      ]
    },
    {
      "cell_type": "code",
      "execution_count": null,
      "metadata": {},
      "outputs": [],
      "source": [
        "print(5 < 10) #menor\n",
        "print(10 < 5)"
      ]
    },
    {
      "cell_type": "code",
      "execution_count": null,
      "metadata": {},
      "outputs": [],
      "source": [
        "print(5 <= 10) #menor OU igual\n",
        "print(10 <= 5)"
      ]
    },
    {
      "cell_type": "markdown",
      "metadata": {},
      "source": [
        "## Lógicos\n",
        "\n",
        "Operadores lógicos são utilizados para realizar operações de comparação entre valores ou expressões.\n",
        "O resultado de uma expressão com a utilização dos operadores lógicos retornará uma expressão que poderá ser `False` ou `True`\n",
        "\n",
        "**E lógico** (AND): Retorna verdadeiro se **ambas** as expressões envolvidas forem verdadeiras, caso contrário, retorna falso.\n",
        "\n",
        "**OU lógico** (OR) Retorna verdadeiro se pelo menos **uma** das expressões envolidas for verdadeira.\n",
        "\n",
        "**NÃO lógico** (NOT) Este operador **nega o valor** de uma expressão. Se a expressão é verdadeira (`True`)\n",
        "\n",
        "\n",
        "**Tabela da verdade**\n",
        "\n",
        "![alt text](verdade-1.png)\n"
      ]
    },
    {
      "cell_type": "markdown",
      "metadata": {},
      "source": [
        "13. Faça um algoritmo que calcule a conta final de um dado cliente na Unimar Lanches, que por sua vez, possui a seguinte tabela de preços:\n",
        "\n",
        "* Hamburguer - R$18.50\n",
        "* X-Salada - R$22.00\n",
        "* Fritas - R$12.90\n",
        "* Refri - R$5.00\n",
        "* Milkshake - R$8.99\n",
        "\n",
        "O cliente poderá escolher quantos produtos desejar. Ao fim, mostrar o total ao cliente."
      ]
    },
    {
      "cell_type": "markdown",
      "metadata": {},
      "source": [
        "Operador AND"
      ]
    },
    {
      "cell_type": "code",
      "execution_count": null,
      "metadata": {},
      "outputs": [],
      "source": [
        "n1 = 2\n",
        "n2 = 5\n",
        "n3 = 7\n",
        "n4 = 10\n",
        "\n",
        "print(n4 > n1 and n2 > n4) # V e F = F\n",
        "print(n1 > n3 and n3 > n2) # F e V = F\n",
        "print(n1 < n2 and n3 < n4) # V e V = V \n",
        "print(n4 > n1 and n3 > n4) # F e F = F"
      ]
    },
    {
      "cell_type": "markdown",
      "metadata": {},
      "source": [
        "Operador OR"
      ]
    },
    {
      "cell_type": "code",
      "execution_count": null,
      "metadata": {},
      "outputs": [],
      "source": [
        "n1 = 2\n",
        "n2 = 5\n",
        "n3 = 7\n",
        "n4 = 10\n",
        "\n",
        "print(n4 > n1 or n2 > n4) # V ou F = F\n",
        "print(n1 > n3 or n3 > n2) # F ou V = V\n",
        "print(n1 < n2 or n3 < n4) # V ou V = V \n",
        "print(n4 > n1 or n3 > n4) # F ou F = F"
      ]
    },
    {
      "cell_type": "markdown",
      "metadata": {},
      "source": [
        "Operador NOT"
      ]
    },
    {
      "cell_type": "code",
      "execution_count": null,
      "metadata": {},
      "outputs": [],
      "source": [
        "palmeiras_tem_mundial = True\n",
        "print(not palmeiras_tem_mundial) #False"
      ]
    },
    {
      "cell_type": "code",
      "execution_count": null,
      "metadata": {},
      "outputs": [],
      "source": [
        "curintia_tem_2_mundial = False\n",
        "print(not curintia_tem_2_mundial) #True"
      ]
    },
    {
      "cell_type": "code",
      "execution_count": null,
      "metadata": {},
      "outputs": [],
      "source": [
        "nicollas_netto = True\n",
        "print(not nicollas_netto) #False"
      ]
    },
    {
      "cell_type": "markdown",
      "metadata": {},
      "source": [
        "4. Estruturas de Controle\n",
        "\n",
        "Estrutura de seleção é utilizada quando um algoritmo necessita escolher uma instruççao ou um conjunto de instruções quando uma **condição** (representada por uma expressão relacional ou lógica) é satisfeita ou não.-"
      ]
    },
    {
      "cell_type": "markdown",
      "metadata": {},
      "source": [
        "## Estrutura de seleção simples (IF)\n",
        "\n",
        "![alt text](selecao_simples.png)"
      ]
    },
    {
      "cell_type": "markdown",
      "metadata": {},
      "source": [
        "Exemplo:\n",
        "\n",
        "se (condição):\n",
        "    <instrução_1>\n",
        "    <instrução_2>\n",
        "    ...\n",
        "    <instrução_n>\n"
      ]
    },
    {
      "cell_type": "markdown",
      "metadata": {},
      "source": [
        "Quando o computador encontra o bloco de instruções acima, inicialmente a condição é testada. Caso o resultado do teste seja um valor **verdadeiro**, o conjunto de instruções dentro do bloco `se` será executado. Caso a condição resulte em um valor **falso** todo o bloco de instruções é **ignorado** e o fluxo de execução do algoritmo segue logo abaixo do bloco `se`."
      ]
    },
    {
      "cell_type": "markdown",
      "metadata": {},
      "source": [
        "## Sintaxe\n",
        "\n",
        "![alt text](sintaxe_se_simples-1.png)"
      ]
    },
    {
      "cell_type": "markdown",
      "metadata": {},
      "source": [
        "Observa-se que, em Python, após a condição, **deverá** ter dois pontos (:), que indica o início de um novo bloco. Caso a condição seja verdadeira, será executado o bloco abaixo dos dois pontos. Esse bloco deverá estar **IDENTADO** com um TAB a frente do `SE`.\n",
        "\n",
        "**IF = SE**\n",
        "\n",
        "Exemplos:"
      ]
    },
    {
      "cell_type": "code",
      "execution_count": null,
      "metadata": {},
      "outputs": [],
      "source": [
        "# Algoritmo valida se o número digitado é par\n",
        "\n",
        "# Entrada\n",
        "num = int(input('Digite um valor inteiro: '))\n",
        "\n",
        "# Processamento\n",
        "resto_divisao = num % 2 # Módulo\n",
        "\n",
        "if(resto_divisao == 0):\n",
        "    print(f'O número {num} é par!') # Saída\n",
        "\n",
        "# Explicando pra você que é burro: o motivo dele entender que 2, 4 ou 10 é par, é porque no resto da divisão (o que fica embaixo do número que será\n",
        "# dividido.) se resulta 0, pois o número colocado existe na tabuada do 2."
      ]
    },
    {
      "cell_type": "code",
      "execution_count": null,
      "metadata": {},
      "outputs": [],
      "source": [
        "# Algoritmo valida se o número digitado é positivo\n",
        "\n",
        "# Entrada\n",
        "num = int(input('Digite um valor inteiro: '))\n",
        "\n",
        "# Processamento\n",
        "\n",
        "if num >= 0:\n",
        "    print(f'O número {num} é positivo!')"
      ]
    },
    {
      "cell_type": "markdown",
      "metadata": {},
      "source": [
        "## Estrutura de Seleção Composta\n",
        "\n",
        "![alt text](selecao_composta.png)"
      ]
    },
    {
      "cell_type": "markdown",
      "metadata": {},
      "source": [
        "Sintaxe:\n",
        "\n",
        "![alt text](sintaxe_se_composta.png)"
      ]
    },
    {
      "cell_type": "markdown",
      "metadata": {},
      "source": [
        "Da mesma forma que a estrutura de seleção simples, a condição é testada. Caso o valor resulte em **VERDADEIRA**, o conjunto de instruções logo abaixo do comando `SE` será executado e o conjunto de instruções pertencentes ao bloco `SENAO` serão ignorados.\n",
        "\n",
        "Por outro lado, caso o teste resulte em um valor **FALSO** o conjunto de instruções pertencentes ao bloco `SENAO` serão executados.\n",
        "\n",
        "Após a execução de um dos conjuntos de instruções o fluxo do progama continua sua execução logo abaixo da estrutura de seleção."
      ]
    },
    {
      "cell_type": "markdown",
      "metadata": {},
      "source": [
        "## Observações\n",
        "\n",
        "1. Pode-se ter uma instrução `SE` (if) sem o bloco `SENAO` (else), mas o contrário não é possível. Toda instrução `SENAO` deve estar associada a uma instrução `SE`. Cada instrução `SE` pode ter no máximo **UMA** instrução `SENAO`.\n",
        "2. Ao escrevera a instrução `SENAO` (else) **não se deve colocar nenhuma condição lógica**, pois sua execução sempre ocorrerá quando a condição da instrução `SE` for falsa."
      ]
    },
    {
      "cell_type": "code",
      "execution_count": null,
      "metadata": {},
      "outputs": [],
      "source": [
        "# Algoritmo valida número par ou ímpar\n",
        "\n",
        "# Entrada\n",
        "num = int(input('Digite um valor inteiro: '))\n",
        "\n",
        "# Processamento\n",
        "resto_div = num % 2\n",
        "\n",
        "if resto_div == 0:\n",
        "    print(f'O número {num} é par!')\n",
        "else:\n",
        "    print(f'O número {num} é ímpar!')"
      ]
    },
    {
      "cell_type": "code",
      "execution_count": null,
      "metadata": {},
      "outputs": [],
      "source": [
        "# Algoritmo para verificar se o número lido é positivo ou negativo\n",
        "\n",
        "# Entrada\n",
        "num = int(input('Digite um valor inteiro: '))\n",
        "\n",
        "if num >= 0:\n",
        "    print(f'O número {num} é positivo!')\n",
        "else:\n",
        "    print(f'O número {num} é negativo!')"
      ]
    },
    {
      "cell_type": "markdown",
      "metadata": {},
      "source": [
        "## Exercícios - Estrutura de Seleção:"
      ]
    },
    {
      "cell_type": "markdown",
      "metadata": {},
      "source": [
        "1. Faça um algoritmo que leia duas notas, calcule a média e verifique se o aluno foi aprovado ou reprovado. Para estar aprovado, a média deverá ser maior ou igual a 7."
      ]
    },
    {
      "cell_type": "code",
      "execution_count": null,
      "metadata": {},
      "outputs": [],
      "source": [
        "note1 = float(input('Digite a nota do primeiro aluno: '))\n",
        "note2 = float(input('Digite a nota do segundo aluno: '))\n",
        "\n",
        "noteMedium = (note1 + note2) / 2.0\n",
        "\n",
        "if (noteMedium >= 7.0):\n",
        "    print('O aluno foi aprovado!')\n",
        "else:\n",
        "    print('O aluno foi reprovado :(')"
      ]
    },
    {
      "cell_type": "markdown",
      "metadata": {},
      "source": [
        "2. Faça um algoritmo que leia dois valores inteiros e determine qual deles é maior."
      ]
    },
    {
      "cell_type": "code",
      "execution_count": null,
      "metadata": {},
      "outputs": [],
      "source": [
        "num1 = int(input('Digite o primeiro valor: '))\n",
        "num2 = int(input('Digite o segundo valor: '))\n",
        "\n",
        "if (num1 > num2):\n",
        "    biggerNum = num1\n",
        "    print(f'O primeiro número ({biggerNum}) é o número maior.')\n",
        "elif (num2 > num1):\n",
        "    biggerNum = num2\n",
        "    print(f'O segundo número ({biggerNum}) é maior.')\n",
        "else:\n",
        "    print(f'O número 1 {num1} e o número 2 {num2} são iguais!')"
      ]
    },
    {
      "cell_type": "markdown",
      "metadata": {},
      "source": [
        "## IF/ELIF (SE/SENAO SE) - Encandeado\n",
        "\n",
        "Cada `if` será avaliado individualmente, o que significa que todas as condições podem ser veradeiras e executadas.\n",
        "\n",
        "Abaixo a estrutura não encadeada:"
      ]
    },
    {
      "cell_type": "code",
      "execution_count": null,
      "metadata": {},
      "outputs": [],
      "source": [
        "velocidade = 150\n",
        "\n",
        "if velocidade > 80:\n",
        "    print('Multa leve aplicada!')\n",
        "\n",
        "if velocidade > 100:\n",
        "    print('Multa grave aplicada!')\n",
        "\n",
        "if velocidade > 120:\n",
        "    print('Multa gravíssima aplicada!')\n",
        "\n",
        "print('Programa encerrado.')"
      ]
    },
    {
      "cell_type": "markdown",
      "metadata": {},
      "source": [
        "O mesmo código, encandeado e funcional:"
      ]
    },
    {
      "cell_type": "code",
      "execution_count": null,
      "metadata": {},
      "outputs": [],
      "source": [
        "velocidade = 70\n",
        "\n",
        "if velocidade > 120:\n",
        "    print('Multa gravíssima aplicada!')\n",
        "elif velocidade > 100:\n",
        "    print('Multa grave aplicada!')\n",
        "elif velocidade > 80:\n",
        "    print('Multa leve aplicada!')\n",
        "else:\n",
        "    print('Nenhuma multa aplicada!')"
      ]
    },
    {
      "cell_type": "markdown",
      "metadata": {},
      "source": [
        "3. Faça um algoritmo que leia a velocidade máxima permitida em uma roodvia e também a velocidade de um determinado veículo. Verifique se o carro infringiu o limite de velocidade permitido e se pagará multa ou não."
      ]
    },
    {
      "cell_type": "code",
      "execution_count": null,
      "metadata": {},
      "outputs": [],
      "source": [
        "maxVelocity = int(input('Qual a velocidade máxima da estrada?'))\n",
        "carVelocity = int(input('Qual foi a velocidade que o carro passou pelo radar? (máximo 100km/h)'))\n",
        "\n",
        "if carVelocity > maxVelocity:\n",
        "    print('Multa aplicada.')\n",
        "else:\n",
        "    print('Nenhuma multa será aplicada!')"
      ]
    },
    {
      "cell_type": "markdown",
      "metadata": {},
      "source": [
        "4. Idem ao 2 porém com 3 valores."
      ]
    },
    {
      "cell_type": "code",
      "execution_count": null,
      "metadata": {},
      "outputs": [],
      "source": [
        "num1 = int(input('Digite o primeiro valor: '))\n",
        "num2 = int(input('Digite o segundo valor: '))\n",
        "num3 = int(input('Digite o terceiro valor: '))\n",
        "\n",
        "if (num1 > num2 and num1 > num3):\n",
        "    biggerNum = num1\n",
        "    print(f'O primeiro número ({biggerNum}) é o número maior.')\n",
        "elif (num2 > num1 and num2 > num3):\n",
        "    biggerNum = num2\n",
        "    print(f'O segundo número ({biggerNum}) é maior.')\n",
        "elif (num3 > num1 and num3 > num2):\n",
        "    biggerNum = num3\n",
        "    print(f'O terceiro número ({biggerNum}) é maior.')\n",
        "else:\n",
        "    print(f'O número 1 {num1}, número 2 {num2} e número 3 {num3} são iguais!')"
      ]
    },
    {
      "cell_type": "markdown",
      "metadata": {},
      "source": [
        "5. Faça um algoritmo que leia a altura e o sexo de uma pessoa. Calcule e mostre o seu peso ideal utilizando as seguintes fórmulas:\n",
        "* Homens: (72.7 * altura) - 58\n",
        "* Mulheres: (62.1 * altura) - 44.7"
      ]
    },
    {
      "cell_type": "code",
      "execution_count": null,
      "metadata": {},
      "outputs": [],
      "source": [
        "sex = input('Digite o seu sexo: (0.00)')\n",
        "sexHeigth = float(input('Baseado no seu sexo, qual é sua altura?: '))\n",
        "\n",
        "if sex.lower() == 'masculino':\n",
        "    sexResult = (72.7 * sexHeigth) - 58\n",
        "    print(f'O peso ideal baseado em seu sexo é {sexResult:.2f}')\n",
        "elif sex.lower() == 'feminino':\n",
        "    sexResult = (62.1 * sexHeigth) - 44.7\n",
        "    print(f'O peso ideal baseado em seu sexo é {sexResult:.2f}')\n",
        "else:\n",
        "    print('Houve um erro de digitação.')"
      ]
    },
    {
      "cell_type": "markdown",
      "metadata": {},
      "source": [
        "6. Crie um programa que peça ao usuário uma senha e só permita o acesso se a senha for 'sp_campeao'."
      ]
    },
    {
      "cell_type": "code",
      "execution_count": null,
      "metadata": {},
      "outputs": [],
      "source": [
        "password = input('Digite sua senha: ')\n",
        "\n",
        "if password == 'sp_campeao':\n",
        "    print('Acesso concedido!')\n",
        "else:\n",
        "    print('Acesso negado.')"
      ]
    },
    {
      "cell_type": "markdown",
      "metadata": {},
      "source": [
        "7. Peça ao usuário um número e verifique se ele está no intervalo entre 10 e 50 (inclusive)."
      ]
    },
    {
      "cell_type": "code",
      "execution_count": null,
      "metadata": {},
      "outputs": [],
      "source": [
        "num = float(input('Digite um número:  '))\n",
        "\n",
        "if num >= 10 and num <= 50:\n",
        "    print('O número está no intervalo entre 10 e 50.')\n",
        "else:\n",
        "    print('O número NÃO está no intervalo entre 10 e 50.')"
      ]
    },
    {
      "cell_type": "markdown",
      "metadata": {},
      "source": [
        "8. Peça o salário do usuário e o valor do empréstimo. Aprove o empréstimo apenas se o valor não ultrapassar 30% do salário."
      ]
    },
    {
      "cell_type": "code",
      "execution_count": null,
      "metadata": {},
      "outputs": [],
      "source": [
        "salary = float(input('Digite o valor do seu salário: '))\n",
        "lending = float(input('Digite o valor do empréstimo: '))\n",
        "salaryPerCent = salary * 0.3\n",
        "\n",
        "if lending > salaryPerCent:\n",
        "    print('O empréstimo foi negado.')\n",
        "else:\n",
        "    print('Empréstimo aprovado!')"
      ]
    },
    {
      "cell_type": "markdown",
      "metadata": {},
      "source": [
        "9. Peça um número ao usuário e informe se ele é múltiplo de 3 e de 5 ao mesmo tempo."
      ]
    },
    {
      "cell_type": "code",
      "execution_count": null,
      "metadata": {},
      "outputs": [],
      "source": [
        "num = int(input('Digite um número:  '))\n",
        "\n",
        "if num % 3 == 0 and num % 5 == 0:\n",
        "    print('Seu número é múltiplo de 3 e de 5!')\n",
        "else:\n",
        "    print('Seu número é múltiplo de apenas um deles, ou de nínguem')"
      ]
    },
    {
      "cell_type": "markdown",
      "metadata": {},
      "source": [
        "10. Uma competição de natação é organizada de acordo com a idade de cada nadador. Elabore um algoritmo que leia a idade de um nadador e determine qual a categoria que ele deve competir. Considere:\n",
        "\n",
        "* idade <= 8 - Categoria Infantil A\n",
        "* idade < 13 - Categoria Infantil B\n",
        "* idade < 18 - Categoria Juvenil A\n",
        "* idade < 21 - Categoria Juvenil B\n",
        "* idade >= 21 - Categoria Sênior"
      ]
    },
    {
      "cell_type": "code",
      "execution_count": null,
      "metadata": {},
      "outputs": [],
      "source": [
        "age = int(input('Digite sua idade: '))\n",
        "\n",
        "if age < 1:\n",
        "    print('Idade inválida.')\n",
        "elif age <= 8:\n",
        "    print('Você está enquadrado na categoria Infantil A')\n",
        "elif age < 13:\n",
        "    print('Você está enquadrado na categoria Infantil B')\n",
        "elif age < 18:\n",
        "    print('Você está enquadrado na categoria Juvenil A')\n",
        "elif age < 21:\n",
        "    print('Você está enquadrado na categoria Juvenil B')\n",
        "elif age >= 21:\n",
        "    print('Você está enquadrado na categoria Sênior')\n",
        "else:\n",
        "    print('Idade inválida.')"
      ]
    },
    {
      "cell_type": "markdown",
      "metadata": {},
      "source": [
        "11. O IMC - Índice de Massa Corporal é calculado pela seguinte fórmula:\n",
        "\n",
        "IMC = peso / altura²\n",
        "\n",
        "Ela um algoritmo que calcule o IMC e em seguida defina a confição da pessoa:\n",
        "\n",
        "IMC\n",
        "< 18 Abaixo do peso\n",
        "\n",
        ".>= 18 e < 25 Peso Normal\n",
        "\n",
        ".>= 25 e < 30 Acima do peso\n",
        "\n",
        ".>= 30 Obesidade"
      ]
    },
    {
      "cell_type": "code",
      "execution_count": null,
      "metadata": {},
      "outputs": [],
      "source": [
        "yourWeight = float(input('Digite o seu peso atual: '))\n",
        "yourHeight = float(input('Digite sua altura:  '))\n",
        "imc = yourWeight / (yourHeight ** 2)\n",
        "\n",
        "if imc < 18:\n",
        "    print(f'Você está abaixo do peso. (Seu IMC = {imc:.1f})')\n",
        "elif imc >= 18 and imc < 25:\n",
        "    print(f'Você está com o peso normal. (Seu IMC = {imc:.1f})')\n",
        "elif imc >= 25 and imc < 30:\n",
        "    print(f'Você está com sobrepeso. (Seu IMC = {imc:.1f})')\n",
        "elif imc > 30:\n",
        "    print(f'Você possui obesidade. Tome cuidado com sua saúde! (Seu IMC = {imc:.1f})')\n",
        "else:\n",
        "    print(f'Procure um médico. (Seu IMC = {imc:.1f})')"
      ]
    },
    {
      "cell_type": "markdown",
      "metadata": {},
      "source": [
        "12. Elabore um algoritmo que determine se um ano é ou não bissexto.\n",
        "\n",
        "Obs: Um ano é bissexto se ele for divisível por 400 ou se ele for divisível por 4 e não por 100."
      ]
    },
    {
      "cell_type": "code",
      "execution_count": null,
      "metadata": {},
      "outputs": [],
      "source": [
        "year = int(input('Digite um ano para verificar se ele é bissexto: '))\n",
        "\n",
        "if year % 400 == 0 or year % 4 == 0 and year % 100 != 0:\n",
        "    print('Seu ano é bissexto!')\n",
        "else:\n",
        "    print('O ano não é bissexto.')"
      ]
    },
    {
      "cell_type": "markdown",
      "metadata": {},
      "source": [
        "13. Calculadora simples. Faça um algoritmo que leia dois números inteiros digitados pelo usuário. Com estes dois números, mostras as opções de operações aritméticas (básicas) possíveis entre os números, e permitir a escolha do usuário. Com a escolha feita, realizar a operação aritmética entre os números."
      ]
    },
    {
      "cell_type": "code",
      "execution_count": null,
      "metadata": {},
      "outputs": [],
      "source": [
        "num1 = int(input('Digite o primeiro número: '))\n",
        "num2 = int(input('Digite o segundo número: '))\n",
        "operation = input('Qual operação deseja realizar?: ')\n",
        "\n",
        "if operation.lower() == 'somar':\n",
        "    print(f'A soma dos dois números é: {num1 + num2}')\n",
        "elif operation.lower() == 'subtrair':\n",
        "    print(f'A subtração dos dois números é: {num1 - num2}')\n",
        "elif operation.lower() == 'multiplicar':\n",
        "    print(f'A multiplicação dos dois números é: {num1 * num2}')\n",
        "elif operation.lower() == 'dividir':\n",
        "    print(f'A divisão dos dois números é: {num1 / num2}')\n",
        "else:\n",
        "    print('Operação inválida.')"
      ]
    },
    {
      "cell_type": "markdown",
      "metadata": {},
      "source": [
        "## Match-case: é tipo o Switch do JavaScript\n",
        "\n",
        "Ele é recomendado para casos em que existem poucas opções para teste e poucas alternativas. Códigos mais complexos são recomendados o if/else."
      ]
    },
    {
      "cell_type": "code",
      "execution_count": null,
      "metadata": {},
      "outputs": [],
      "source": [
        "opcao = 'a'\n",
        "\n",
        "#escolha\n",
        "match opcao:\n",
        "    case 'a':\n",
        "        print('Opção A selecionada')\n",
        "    case 'b':\n",
        "        print('Opção B selecionada')\n",
        "    case _:\n",
        "        print('Erro inválido')"
      ]
    },
    {
      "cell_type": "code",
      "execution_count": null,
      "metadata": {},
      "outputs": [],
      "source": [
        "match nome:\n",
        "    case 'Julio':\n",
        "        print('Olá Júlio')\n",
        "    case 'Maria':\n",
        "        print('Olá Maria')\n",
        "    case _:\n",
        "        print('Não conheço essa pessoa.')"
      ]
    },
    {
      "cell_type": "code",
      "execution_count": null,
      "metadata": {},
      "outputs": [],
      "source": [
        "var = 123\n",
        "\n",
        "match var:\n",
        "    case int():\n",
        "        print('A variável é do tipo inteiro!')\n",
        "    case str():\n",
        "        print('A variável é do tipo String!')\n",
        "    case _:\n",
        "        print('Não conheço esse tipo de dado.')"
      ]
    },
    {
      "cell_type": "code",
      "execution_count": null,
      "metadata": {},
      "outputs": [],
      "source": [
        "print('Digite o sabor desejado de pizza: ')\n",
        "print('Portuguesa\\nMarguerita\\nCalabresa')\n",
        "sabor = input()\n",
        "\n",
        "match sabor:\n",
        "    case 'Portuguesa':\n",
        "        print('Sabor escolhido: Portuguesa')\n",
        "    case 'Marguerita':\n",
        "        print('Sabor escolhido: Marguerita')\n",
        "    case 'Calabresa':\n",
        "        print('Sabor escolhido: Calabresa')\n",
        "    case _:\n",
        "        print('Sabor não identificado.')"
      ]
    },
    {
      "cell_type": "markdown",
      "metadata": {},
      "source": [
        "## Exercícios - match-case"
      ]
    },
    {
      "cell_type": "markdown",
      "metadata": {},
      "source": [
        "1. Faça um algoritmo que leia um número de 1 a 7, use match-case para imprimir o dia da semana correspondente por extenso. Se o número não estiver nesse intervalo, mostre \"Dia inválido.\"."
      ]
    },
    {
      "cell_type": "code",
      "execution_count": null,
      "metadata": {},
      "outputs": [],
      "source": [
        "dayNumber = input('Digite um número para dizer o dia correspondente: ')\n",
        "\n",
        "match dayNumber:\n",
        "    case '1':\n",
        "        print('Segunda-feira.')\n",
        "    case '2':\n",
        "        print('Terça-feira.')\n",
        "    case '3':\n",
        "        print('Quarta-feira.')\n",
        "    case '4':\n",
        "        print('Quinta-feira.')\n",
        "    case '5':\n",
        "        print('Sexta-feira.')\n",
        "    case '6':\n",
        "        print('Sábado.')\n",
        "    case '7':\n",
        "        print('Domingo.')\n",
        "    case _:\n",
        "        print('Dia inválido.')"
      ]
    },
    {
      "cell_type": "markdown",
      "metadata": {},
      "source": [
        "2. Faça um algoritmo que leia dois números e uma operação (soma, sub, mult, div). Use match-case para realizar a operação e imprimir o resultado. Se a operação for inválida, imprima \"Operação inválida!\"."
      ]
    },
    {
      "cell_type": "code",
      "execution_count": null,
      "metadata": {},
      "outputs": [],
      "source": [
        "num1 = int(input('Digite um número: '))\n",
        "num2 = int(input('Digite outro número: '))\n",
        "operation = input('Digite a operação matemática que você deseja realizar: ')\n",
        "\n",
        "match operation.lower():\n",
        "    case 'adição':\n",
        "        print(f'O resultado da soma é: {num1 + num2}')\n",
        "    case 'subtração':\n",
        "        print(f'O resultado da subtração é: {num1 - num2}')\n",
        "    case 'multiplicação':\n",
        "        print(f'O resultado da multiplicação é: {num1 * num2}')\n",
        "    case 'divisão':\n",
        "        print(f'O resultado da divisão é: {num1 / num2}')\n",
        "    case _:\n",
        "        print('Operação inválida!')"
      ]
    },
    {
      "cell_type": "markdown",
      "metadata": {},
      "source": [
        "3. Faça um algoritmo que leia um nome de um animal (cachorro, gato, cobra, galinha). Com essa informação, identifiar o tipo do animal (mamífero, réptil ou ave). Caso o animal não esteja nas opções, mostrar \"Animal inválido.\"."
      ]
    },
    {
      "cell_type": "code",
      "execution_count": null,
      "metadata": {},
      "outputs": [],
      "source": [
        "animal = input('Digite um dos quatro animais: Cachorro, Gato, Cobra e Galinha')\n",
        "\n",
        "match animal.lower():\n",
        "    case 'cachorro':\n",
        "        print('O animal digitádo é um mamífero!')\n",
        "    case 'gato':\n",
        "        print('O animal digitádo é um mamífero!')\n",
        "    case 'cobra':\n",
        "        print('O animal digitádo é um réptil!')\n",
        "    case 'galinha':\n",
        "        print('O animal digitádo é uma ave!')\n",
        "    case _:\n",
        "        print('Animal inválido!')"
      ]
    },
    {
      "cell_type": "markdown",
      "metadata": {},
      "source": [
        "4. Faça um algoritmo que leia um número e mostre se ele é par ou ímpar."
      ]
    },
    {
      "cell_type": "code",
      "execution_count": null,
      "metadata": {},
      "outputs": [],
      "source": [
        "num = int(input('Digite um número: '))\n",
        "parNum = num % 2\n",
        "\n",
        "match parNum:\n",
        "    case 0:\n",
        "        print('O número é par!')\n",
        "    case _:\n",
        "        print('O número é impar!')"
      ]
    },
    {
      "cell_type": "markdown",
      "metadata": {},
      "source": [
        "5. Faça um algoritmo que leia uma letra do alfabeto e mostre se ele é vogal ou consoante."
      ]
    },
    {
      "cell_type": "code",
      "execution_count": null,
      "metadata": {},
      "outputs": [],
      "source": [
        "letter = input('Digite uma letra: ')\n",
        "\n",
        "match letter:\n",
        "    case 'a' | 'e' | 'i' | 'o' | 'u':\n",
        "        print('Você digitou uma vogal!')\n",
        "    case _:\n",
        "        print('Você digitou uma consoante!')"
      ]
    },
    {
      "cell_type": "markdown",
      "metadata": {},
      "source": [
        "6. Faça um algoritmo que leia uma entrada em R$. Mostrar as opções de conversão de moeda para seu usuário (USD, EUR, YEN, ARS). O usuário deve escolher para qual moeda ele deseja converter seu dinheiro."
      ]
    },
    {
      "cell_type": "code",
      "execution_count": null,
      "metadata": {},
      "outputs": [],
      "source": [
        "money = float(input('Digite um valor em reais: '))\n",
        "currency = input('Digite uma das quatro moedas para conversão: USD, EUR, YEN, ARS')\n",
        "\n",
        "match currency.lower():\n",
        "    case 'usd':\n",
        "        print(f'O valor fica: ${money / 5.717:.3f}')\n",
        "    case 'eur':\n",
        "        print(f'O valor fica: £{money / 6.183:.3f}')\n",
        "    case 'yen':\n",
        "        print(f'O valor fica: ¥{money / 0.038:.3f}')\n",
        "    case 'ars':\n",
        "        print(f'O valor fica: ARS${money / 0.0054:.3f}')"
      ]
    },
    {
      "cell_type": "markdown",
      "metadata": {},
      "source": [
        "7. O cliente fez uma compra de X reais na lojinha do MAC. Mostre como as seguintes opções de pagamento: Débito, Crédito, Parcelado e Pix. Se escolher Pix, calcular desconto de 5% do valor da compra. Parcelado até 3x sem acréscimo. Parcelado em até 7x acréscimo de 5%. Acima de 7x acréscimo de 10%. Demais opções de compra não há alteração."
      ]
    },
    {
      "cell_type": "code",
      "execution_count": null,
      "metadata": {},
      "outputs": [],
      "source": [
        "purchasePrice = float(input('Boa noite! Quando o senhor pagou em suas compras? '))\n",
        "purchasePayment = int(input('Ok. De qual forma você deseja pagar? Temos 1: débito, 2: crédito, 3: parcelado e 4: pix. Digite o número da opção!'))\n",
        "purchase7x = purchasePrice + (purchasePrice * 0.05)\n",
        "purchase7xPlus = purchasePrice + (purchasePrice * 0.10)\n",
        "\n",
        "match purchasePayment:\n",
        "    case 1:\n",
        "        print(f'Irá ficar R${purchasePrice}, sem alterações. Obrigado pela sua compra!')\n",
        "    case 2:\n",
        "        print(f'Irá ficar R${purchasePrice}, sem alterações. Obrigado pela sua compra!')\n",
        "    case 3:\n",
        "       parcelChoise = int(input(f'Irá ficar R${purchasePrice}, escolha a quantidade de parcelas: 1: 3x, 2: 7x, 3: Mais ou que 7x 4: Duas parcelas (2x)'))\n",
        "\n",
        "       match parcelChoise:\n",
        "           case 1:\n",
        "               print(f'Irá ficar R${purchasePrice}, sem alterações. Obrigado pela sua compra!')\n",
        "           case 2:\n",
        "               print(f'Irá ficar R${purchase7x}, com uma parcela a mais de 5% por conta do parcelamento. Obrigado pela sua compra!')\n",
        "           case 3:\n",
        "               parcelPlus7 = int(input('Digite quantas vezes você quer parcelar, aceitamos no máximo 12x.'))\n",
        "               \n",
        "               if parcelPlus7 > 12 or parcelPlus7 < 7:\n",
        "                   print('O valor de parcelas excedeu o limite ou é menor que 7!')\n",
        "               else:\n",
        "                   print(f'Irá ficar R${purchase7xPlus}, com uma parcela a mais de 10%\\npor conta do seu parcelamento em {parcelPlus7}x.')\n",
        "           case 4:\n",
        "               print(f'Irá ficar R${purchasePrice}, sem alterações. Obrigado pela sua compra!')\n",
        "\n",
        "    case 4:\n",
        "        print(f'Irá ficar R${purchasePrice}, sem alterações. Obrigado pela sua compra!')\n",
        "\n",
        "    case _:\n",
        "        print('Tipo de pagamento inválido!')"
      ]
    },
    {
      "cell_type": "markdown",
      "metadata": {},
      "source": [
        "## 5 - Estruturas de repetição"
      ]
    },
    {
      "cell_type": "markdown",
      "metadata": {},
      "source": [
        "As estruturas de repetição representam a base de vários programas. São utilizados para executar um trecho de código **várias vezes.** Por exemplo, para imprimir três números na tela, como conhecemos atualmente em nossos estudos, como ficaria:"
      ]
    },
    {
      "cell_type": "code",
      "execution_count": null,
      "metadata": {},
      "outputs": [],
      "source": [
        "print(1)\n",
        "print(2)\n",
        "print(3)"
      ]
    },
    {
      "cell_type": "markdown",
      "metadata": {},
      "source": [
        "Podemos imaginar que, para imrpimir três números de 1 até o 3, devemos executar o `print(x)` três vezes, mas com o x variando de 1 a 3.\n",
        "Outra solução seria:"
      ]
    },
    {
      "cell_type": "code",
      "execution_count": null,
      "metadata": {},
      "outputs": [],
      "source": [
        "x = 1\n",
        "print(x)\n",
        "\n",
        "x = 2\n",
        "print(x)\n",
        "\n",
        "x = 3\n",
        "print(x)"
      ]
    },
    {
      "cell_type": "markdown",
      "metadata": {},
      "source": [
        "Outra solução seria incrementar o valor de `x` após cada print:"
      ]
    },
    {
      "cell_type": "code",
      "execution_count": null,
      "metadata": {},
      "outputs": [],
      "source": [
        "x = 1\n",
        "print(x)\n",
        "\n",
        "x = x + 1 #Incrementa 1 ao valor atual da variável x\n",
        "print(x)\n",
        "\n",
        "x = x + 1\n",
        "print(x)"
      ]
    },
    {
      "cell_type": "markdown",
      "metadata": {},
      "source": [
        "## Estrutura de repetição (WHILE)\n",
        "\n",
        "Uma das estruturas de repetição do Python é o `while`, `enquanto` em pseudocódigo, que se repete um bloco enquanto a condição testada for verdadeira.\n",
        "\n",
        "            while <condicao>\n",
        "                bloco\n",
        "\n",
        "Para resolver o problema de escrever três números usando o `while`, escreveríamos o seguinte programa:"
      ]
    },
    {
      "cell_type": "code",
      "execution_count": null,
      "metadata": {},
      "outputs": [],
      "source": [
        "x = 1\n",
        "\n",
        "while x <= 3:\n",
        "    print(x)\n",
        "    x = x + 1"
      ]
    },
    {
      "cell_type": "markdown",
      "metadata": {},
      "source": [
        "Dentro do bloco do while, podemos ter quaisquer estrutura necessária, como outra repetição, estruturas de controle e etc. Dependerá da necessidade de cada contexto."
      ]
    },
    {
      "cell_type": "markdown",
      "metadata": {},
      "source": [
        "**Ex 01** - Modifique o programa anterior para exibir númeors números de 1 a 100"
      ]
    },
    {
      "cell_type": "code",
      "execution_count": null,
      "metadata": {},
      "outputs": [],
      "source": [
        "x = 1 #início\n",
        "\n",
        "while x <= 100:\n",
        "    print(x) # O print vem antes do cálculo para poder mostrar o 1.\n",
        "    x = x + 1"
      ]
    },
    {
      "cell_type": "markdown",
      "metadata": {},
      "source": [
        "**Ex 02** - Modifique o programa anterior para exibir números de 50 a 100."
      ]
    },
    {
      "cell_type": "code",
      "execution_count": null,
      "metadata": {},
      "outputs": [],
      "source": [
        "x = 50\n",
        "\n",
        "while x <= 100:\n",
        "    print(x)\n",
        "    x += 1"
      ]
    },
    {
      "cell_type": "markdown",
      "metadata": {},
      "source": [
        "**Ex 03** Faça um programa para escrever a contagem regressiva do lançamento de um foguete. O progama deve imprimir:\n",
        "\n",
        "Iniciando lançamento...\n",
        "10\n",
        "9\n",
        "8\n",
        "7\n",
        "...\n",
        "0\n",
        "Foguete lançado!\n"
      ]
    },
    {
      "cell_type": "code",
      "execution_count": null,
      "metadata": {},
      "outputs": [],
      "source": [
        "print('Iniciando lançamento\\n')\n",
        "\n",
        "x = 10\n",
        "\n",
        "while x >= 0:\n",
        "    print(x)\n",
        "    x -= 1\n",
        "#Como dizer que 10 > 0 criará um loop infinito, o \"x -= 1\" vai impedí-lo até chegar no 0.\n",
        "\n",
        "print('\\nFoguete lançado!')\n"
      ]
    },
    {
      "cell_type": "markdown",
      "metadata": {},
      "source": [
        "## Contadores"
      ]
    },
    {
      "cell_type": "markdown",
      "metadata": {},
      "source": [
        "Podemos utilizar mais de uma variável para controle de estrutura. Imagine um problema em que devemos mostrar os númeors inteiros entre 1 e um valor digitado pelo usuário:"
      ]
    },
    {
      "cell_type": "code",
      "execution_count": null,
      "metadata": {},
      "outputs": [],
      "source": [
        "fim = int(input('Digite o último número da repetição: ')) #fim\n",
        "\n",
        "x = 1 # início\n",
        "\n",
        "while x <= fim:\n",
        "    print(x, end=\" \")\n",
        "    x += 1\n",
        "\n",
        "print('Acabou!')"
      ]
    },
    {
      "cell_type": "markdown",
      "metadata": {},
      "source": [
        "**Ex 04** - Modifique o exemplo anterior mostrando apenas os números pares existentes."
      ]
    },
    {
      "cell_type": "code",
      "execution_count": null,
      "metadata": {},
      "outputs": [],
      "source": [
        "fim = int(input('Digite o último número da repetição: ')) #fim\n",
        "\n",
        "x = 0 # início\n",
        "\n",
        "while x <= fim:\n",
        "    print(x, end=\" \")\n",
        "    x += 2\n",
        "\n",
        "print('Acabou!')"
      ]
    },
    {
      "cell_type": "markdown",
      "metadata": {},
      "source": [
        "**Ex 05** - Modifique o exercício anterior para imprimir de 1 até o número digitado pelo usuário, mas dessa vez, imprima apenas os números ímpares."
      ]
    },
    {
      "cell_type": "code",
      "execution_count": null,
      "metadata": {},
      "outputs": [],
      "source": [
        "fim = int(input('Digite o último número da repetição: ')) #fim\n",
        "\n",
        "x = 1 # início\n",
        "\n",
        "while x <= fim:\n",
        "    print(x, end=\" \")\n",
        "    x += 2\n",
        "\n",
        "print('Acabou!')"
      ]
    },
    {
      "cell_type": "markdown",
      "metadata": {},
      "source": [
        "06. Reescreva o programa anterior para escrever 10 primeiros múltiplos de 3. (Não precisa obter nada digitado pelo usuário.)"
      ]
    },
    {
      "cell_type": "code",
      "execution_count": null,
      "metadata": {},
      "outputs": [],
      "source": [
        "## Método do professor:\n",
        "\n",
        "x = 3 # início\n",
        "\n",
        "while x <= 30:\n",
        "    print(x, end=\" \")\n",
        "    x += 3\n",
        "\n",
        "## Método mais avançado:\n",
        "\n",
        "# x = 3\n",
        "# count = 0\n",
        "\n",
        "# while True: ## Um while sempre será verdadeiro, por isso o True é utilizado para gerar um loop infinito.\n",
        "#     print(x, end=\" \")\n",
        "#     count += 1\n",
        "\n",
        "#     ## Por que incrementar o contador? Como o contador não pula diretamente para múltiplos de 3, e só adiciona mais 1 a ele mesmo, ele irá contar normalmente até o número 10.\n",
        "#     ## Como estamos num loop infinito, paramos o contador até o 10, fazendo o loop parar no décimo número múltiplo.\n",
        "\n",
        "#     x += 3\n",
        "\n",
        "#     if count == 10:\n",
        "#         break\n",
        "    "
      ]
    },
    {
      "cell_type": "markdown",
      "metadata": {},
      "source": [
        "07. Imagine ter de imprimir a tabuada de um número digitado pelo usuário. Essa tabuada deve ser impressa de 1 a 10, sendo `n` o número digitado pelo usuário. (É uma tabuada de soma)"
      ]
    },
    {
      "cell_type": "code",
      "execution_count": null,
      "metadata": {},
      "outputs": [],
      "source": [
        "n = int(input('Digite um número de 1 a 10 para colocar na tabuada!: '))\n",
        "x = 1 # contador\n",
        "\n",
        "\n",
        "while x <= 10:\n",
        "    print(f'{n} + {x} = {n + x}')\n",
        "    ## ^ O x ali serve pra não ficar o mesmo número eternamente, pois ele tá sempre sendo incrementado a +1\n",
        "    x += 1"
      ]
    },
    {
      "cell_type": "markdown",
      "metadata": {},
      "source": [
        "08. Altere o programa anterior para exibir os resultados no mesmo formato de uma tabuada de multiplicação."
      ]
    },
    {
      "cell_type": "code",
      "execution_count": null,
      "metadata": {},
      "outputs": [],
      "source": [
        "n = int(input('Digite um número de 1 a 10 para colocar na tabuada!: '))\n",
        "x = 1 # contador\n",
        "\n",
        "\n",
        "while x <= 10:\n",
        "    print(f'{n} x {x} = {n * x}')\n",
        "    ## ^ O x ali serve pra não ficar o mesmo número eternamente, pois ele tá sempre sendo incrementado a +1\n",
        "    x += 1"
      ]
    },
    {
      "cell_type": "markdown",
      "metadata": {},
      "source": [
        "09. Modifique o programa anterior de forma que o usuário também digite o início e o fim da tabuada, em vez de começar com 1 e terminar com 10 como é habitual.\n",
        "\n",
        "Exemplo:\n",
        "\n",
        "Tabuada do número: 15\n",
        "\n",
        "Digite o início da tabuada: 56\n",
        "\n",
        "Digite o fim da tabuada: 78"
      ]
    },
    {
      "cell_type": "code",
      "execution_count": null,
      "metadata": {},
      "outputs": [],
      "source": [
        "num = int(input('Digite um número desejado para colocar na tabuada!: '))\n",
        "tableStart = int(input('Digite onde a tabuada vai começar: '))\n",
        "tableEnd = int(input('Digite onde a tabuada vai parar: '))\n",
        "\n",
        "while tableStart <= tableEnd:\n",
        "    print(f'{num} x {tableStart} = {num * tableStart}')\n",
        "    tableStart += 1"
      ]
    },
    {
      "cell_type": "markdown",
      "metadata": {},
      "source": [
        "Contadores também podem ser úteis quando usado em condições dentro de programas. Vejamos um programa para corrigir um teste de múltiplha escolha com três questões. A resposta da primeira é \"b\", da segunda é \"a\" e a terceira é \"d\". Segue exemplo:"
      ]
    },
    {
      "cell_type": "code",
      "execution_count": null,
      "metadata": {},
      "outputs": [],
      "source": [
        "pontos = 0\n",
        "questão = 1\n",
        "\n",
        "while questão <= 3:\n",
        "\n",
        "    resposta = input(f'Resposta da questão {questão}:')\n",
        "\n",
        "    if questão == 1 and resposta == 'b':\n",
        "        pontos += 1\n",
        "    if questão == 2 and resposta == 'a':\n",
        "        pontos += 1\n",
        "    if questão == 3 and resposta == 'd':\n",
        "        pontos += 1\n",
        "\n",
        "    questão += 1\n",
        "\n",
        "print(f'O aluno fez {pontos} pontos.')"
      ]
    },
    {
      "cell_type": "markdown",
      "metadata": {},
      "source": [
        "10. Modifique o programa anterior para que aceite respostas com letras maiúsculas e minúsculas em todas as questões (sem usar funções auxiliares)"
      ]
    },
    {
      "cell_type": "code",
      "execution_count": null,
      "metadata": {},
      "outputs": [],
      "source": [
        "pontos = 0\n",
        "questão = 1\n",
        "\n",
        "while questão <= 3:\n",
        "\n",
        "    resposta = input(f'Resposta da questão {questão}:')\n",
        "\n",
        "    if questão == 1 and resposta == 'b' or resposta == 'B':\n",
        "        pontos += 1\n",
        "    if questão == 2 and resposta == 'a' or resposta == 'A':\n",
        "        pontos += 1\n",
        "    if questão == 3 and resposta == 'd' or resposta == 'D':\n",
        "        pontos += 1\n",
        "\n",
        "    questão += 1\n",
        "\n",
        "print(f'O aluno fez {pontos} pontos.')"
      ]
    },
    {
      "cell_type": "markdown",
      "metadata": {},
      "source": [
        "## Acumuladores\n",
        "\n",
        "Nem sempre vamos precisar de apenas contadores. Em programas de calcular o total de uma soma por exemplo, precisamos de acumuladores.\n",
        "\n",
        "A diferença de um contador e um acumluador é que nos contadores o valor adicionado é constante, e nos acumuladores, variável."
      ]
    },
    {
      "cell_type": "markdown",
      "metadata": {},
      "source": [
        "11. Faça um programa que leia 10 números e ao final mostre a soma dentre estes 10 números digitados pelo usuário."
      ]
    },
    {
      "cell_type": "code",
      "execution_count": null,
      "metadata": {},
      "outputs": [],
      "source": [
        "contador = 1\n",
        "soma = 0 #variável acumuladora (totalizadora)\n",
        "\n",
        "while contador <= 5:\n",
        "    numero = int(input(f'Digite o {contador}º número: '))\n",
        "    soma = soma + numero #agregação\n",
        "    contador += 1\n",
        "\n",
        "    print(f'A soma de todos os números digitados é de {soma}.')"
      ]
    },
    {
      "cell_type": "code",
      "execution_count": null,
      "metadata": {},
      "outputs": [],
      "source": [
        "x = 1\n",
        "soma = 0\n",
        "\n",
        "while x <= 4:\n",
        "    nota = int(input(f'Digite a {x}ª nota'))\n",
        "    soma += nota\n",
        "    x += 1\n",
        "\n",
        "print(f'A média das notas é: {soma}')"
      ]
    },
    {
      "cell_type": "markdown",
      "metadata": {},
      "source": [
        "## Interrompendo a repetição"
      ]
    },
    {
      "cell_type": "markdown",
      "metadata": {},
      "source": [
        "A instrução `break` (quebrar, interromper, frear em português) é utilizada para interromper a execução do `while` independentemendo do valor atual de sua condição."
      ]
    },
    {
      "cell_type": "code",
      "execution_count": null,
      "metadata": {},
      "outputs": [],
      "source": [
        "soma = 0\n",
        "\n",
        "while True:\n",
        "    numero = int(input('Digite um número para somar ou 0 para sair: '))\n",
        "    if numero == 0:\n",
        "        break\n",
        "    soma += numero\n",
        "\n",
        "print(f'A soma dos nímeros digitados é: {soma}')"
      ]
    },
    {
      "cell_type": "markdown",
      "metadata": {},
      "source": [
        "## Repetiões aninhadas"
      ]
    },
    {
      "cell_type": "markdown",
      "metadata": {},
      "source": [
        "Podemos combinar vários while de forma a obter resultados mais interessantes, como a repetição com incremento de duas variáveis. Vamos exibir as tabuadas de multiplação de 1 a 10."
      ]
    },
    {
      "cell_type": "code",
      "execution_count": null,
      "metadata": {},
      "outputs": [],
      "source": [
        "tabuada = 1\n",
        "\n",
        "while tabuada <= 10:\n",
        "    numero = 1\n",
        "    while numero <= 10:\n",
        "        print(f'{tabuada} x {numero} = {tabuada * numero}')\n",
        "        numero += 1\n",
        "    tabuada += 1"
      ]
    },
    {
      "cell_type": "markdown",
      "metadata": {},
      "source": [
        "## Estrutura de Repetição (FOR)\n",
        "\n",
        "Como já vimos na estrutura de repetição `while`, as estruturas de repetição são um recurso de linguagens de programação responsável por executar um bloco de código repetidas vezes enquanto determinada condição é atendida.\n",
        "\n",
        "O `for` por sua vez, é usado para repetir uma ação **para cada item de uma sequência** (como listas, strings, ou intervalos numéricos). Em vez de escrever o mesmo comando várias vezes, o for percorre automaticamente cada elemento, executando o trecho de código identado dentro da estrutura."
      ]
    },
    {
      "cell_type": "markdown",
      "metadata": {},
      "source": [
        "## Range\n",
        "\n",
        "`range` em inglês: faixa; alcance; distância\n",
        "\n",
        "Quando não passado um início e fim, o Python sempre iniciará com 0 e percorre até chegar no número informado, no caso abaixo 11, mostrando números de 0 a 11."
      ]
    },
    {
      "cell_type": "code",
      "execution_count": null,
      "metadata": {},
      "outputs": [],
      "source": [
        "for numero in range(11):\n",
        "    print(numero)"
      ]
    },
    {
      "cell_type": "markdown",
      "metadata": {},
      "source": [
        "Para manipularmos o início e o fim de um intervalo, utilizamos o `range` com **dois** parâmetros:"
      ]
    },
    {
      "cell_type": "code",
      "execution_count": null,
      "metadata": {},
      "outputs": [],
      "source": [
        "for numero in range(5, 8):\n",
        "    print(numero)"
      ]
    },
    {
      "cell_type": "markdown",
      "metadata": {},
      "source": [
        "Se utilizarmos um terceiro parâmetro, conseguimos controlar o **salto** entre os valores gerados:"
      ]
    },
    {
      "cell_type": "code",
      "execution_count": null,
      "metadata": {},
      "outputs": [],
      "source": [
        "for numero in range(3, 33, 3):\n",
        "    print(numero)"
      ]
    },
    {
      "cell_type": "markdown",
      "metadata": {},
      "source": [
        "## Strings"
      ]
    },
    {
      "cell_type": "markdown",
      "metadata": {},
      "source": [
        "Podemos também trabalhar com strings utilizando o `for`:"
      ]
    },
    {
      "cell_type": "code",
      "execution_count": null,
      "metadata": {},
      "outputs": [],
      "source": [
        "palavra = 'Tricolor'\n",
        "\n",
        "for letra in palavra:\n",
        "    print(letra)"
      ]
    },
    {
      "cell_type": "markdown",
      "metadata": {},
      "source": [
        "## Exercícios (FOR)"
      ]
    },
    {
      "cell_type": "markdown",
      "metadata": {},
      "source": [
        "1) Use o for para imprimir números de 0 a 39."
      ]
    },
    {
      "cell_type": "code",
      "execution_count": null,
      "metadata": {},
      "outputs": [],
      "source": [
        "for num in range(0, 39):\n",
        "    print(num, end=\" \")"
      ]
    },
    {
      "cell_type": "markdown",
      "metadata": {},
      "source": [
        "2. Imprima os números de 13 até 59."
      ]
    },
    {
      "cell_type": "code",
      "execution_count": null,
      "metadata": {},
      "outputs": [],
      "source": [
        "for num in range(13, 59):\n",
        "    print(num, end=\" \")"
      ]
    },
    {
      "cell_type": "markdown",
      "metadata": {},
      "source": [
        "3. Imprima os números de 0 a 100 de 10 em 10."
      ]
    },
    {
      "cell_type": "code",
      "execution_count": null,
      "metadata": {},
      "outputs": [],
      "source": [
        "for num in range (0, 100, 10):\n",
        "    print(num, end=\" \")"
      ]
    },
    {
      "cell_type": "markdown",
      "metadata": {},
      "source": [
        "4. Peça ao usuário um número e mostre a tabuada dele."
      ]
    },
    {
      "cell_type": "code",
      "execution_count": null,
      "metadata": {},
      "outputs": [],
      "source": [
        "num = int(input('Digite um número: '))\n",
        "\n",
        "for num in range(num, (num * 11), num):\n",
        "    print(num, end=\" \")"
      ]
    },
    {
      "cell_type": "markdown",
      "metadata": {},
      "source": [
        "5. Imprima apenas os números pares de 1 a 20."
      ]
    },
    {
      "cell_type": "code",
      "execution_count": null,
      "metadata": {},
      "outputs": [],
      "source": [
        "for num in range(2, 22, 2):\n",
        "    print(num, end=\" \")"
      ]
    },
    {
      "cell_type": "markdown",
      "metadata": {},
      "source": [
        "6. Peça uma palavra para o usuário e conte quantas vezes aparece a letra \"a\"."
      ]
    },
    {
      "cell_type": "code",
      "execution_count": null,
      "metadata": {},
      "outputs": [],
      "source": [
        "word = input('Digite uma palavra: ')\n",
        "x = 0\n",
        "\n",
        "for letter in word:\n",
        "    # Todas as vezes que o if verificar que existe um \"a\" em letters (o letter se tornou a), irá somar ao contador.\n",
        "    if letter == \"a\":\n",
        "        x += 1\n",
        "\n",
        "print(f\"Sua palavra tem {x} letras A.\")"
      ]
    },
    {
      "cell_type": "markdown",
      "metadata": {},
      "source": [
        "7. Faça um programa que peça para n pessoas a sua idade. Ao final o programa deverá verificar a média de idade da turma:\n",
        "\n",
        "* Entre 0 e 25: Jovem aprendiz no SENAI\n",
        "* Entre 26 e 60: Adulto\n",
        "* Maior que 60: Idosa\n",
        "\n",
        "Mostrar também a quantidade de pessoas em cada classificação."
      ]
    },
    {
      "cell_type": "code",
      "execution_count": null,
      "metadata": {},
      "outputs": [],
      "source": [
        "personQuant = int(input('Quantas pessoas serão adicionadas?: '))\n",
        "x = 0\n",
        "everyAge = 0\n",
        "\n",
        "if personQuant > 0:\n",
        "    for quant in range(0, personQuant):\n",
        "        x += 1\n",
        "        personAge = int(input(f'Digite a idade da pessoa {x}: '))\n",
        "        everyAge += personAge\n",
        "        ageMedian = everyAge / personQuant\n",
        "\n",
        "    if ageMedian < 0:\n",
        "        print('Média inválida!')\n",
        "    elif ageMedian > 0 and ageMedian <= 25:\n",
        "        print(f\"A turma de {x} pessoas tem a média de {ageMedian:.0f} anos, estando na idade de Jovem Aprendiz.\")\n",
        "    elif ageMedian > 25 and ageMedian < 60:\n",
        "        print(f\"A turma de {x} pessoas tem a média de {ageMedian:.0f} anos, estando na idade de adulto.\")\n",
        "    elif ageMedian >= 60:\n",
        "        print(f\"A turma de {x} pessoas tem a média de {ageMedian:.0f} anos, estando na idade de idoso.\")\n",
        "else:\n",
        "    print('Você não colocou nenhum aluno!')"
      ]
    },
    {
      "cell_type": "markdown",
      "metadata": {},
      "source": [
        "## 06 - Estrutura de Dados"
      ]
    },
    {
      "cell_type": "markdown",
      "metadata": {},
      "source": [
        "Em programação, estruturas de dados são maneiras de organizar e armazenar informações para que possamos usar essas informações de forma eficiente. Essas estruturas por sua vez, são armazenadas em variáveis, estar por conter vários valores distintos, são denominadas variáveis compostas."
      ]
    },
    {
      "cell_type": "markdown",
      "metadata": {},
      "source": [
        "## Tuplas"
      ]
    },
    {
      "cell_type": "markdown",
      "metadata": {},
      "source": [
        "Tuplas podem ser vistas como listas em Python, seus valores são **imutáveis**, ou seja, não podem sofrer alteração durante a execução do código. Não é possível alterar, adicionar, ou remover elementos de uma tupla. Sua sintaxe é a seguinte:"
      ]
    },
    {
      "cell_type": "code",
      "execution_count": null,
      "metadata": {},
      "outputs": [],
      "source": [
        "tupla_letras = ('a', 'b', 'c')\n",
        "tupla_numero = (4, 8, 41)"
      ]
    },
    {
      "cell_type": "markdown",
      "metadata": {},
      "source": [
        "Utilizando o parêntese, colocamos os dados que são necessários para nosso algoritmo."
      ]
    },
    {
      "cell_type": "markdown",
      "metadata": {},
      "source": [
        "Aplicabilidade:\n",
        "\n",
        "* Quando você precisa agrupar dados que NÃO devem mudar depois de criados. Exemplo: coordenadas de um ponto no mapa (latitude, longitude). Uma vez que você registra, aquilo não muda.\n",
        "* Deixar claro que a estrutura é fixa: Se você cria uma função que devolve uma tupla, quem usa seu código já sabe quer aqueles valores estão em uma \"ordem\" e não devem ser alterados.\n",
        "* Desempenho: Tuplas são mais rápidas e mais leves que listas, porque são imutáveis.\n",
        "\n",
        "Exemplos:"
      ]
    },
    {
      "cell_type": "code",
      "execution_count": null,
      "metadata": {},
      "outputs": [],
      "source": [
        "localizacao = (22.90068, -43.1729) #local\n",
        "nascimento = (6, 12, 1986) #nascimento"
      ]
    },
    {
      "cell_type": "code",
      "execution_count": null,
      "metadata": {},
      "outputs": [],
      "source": [
        "tupla_letras = ('a', 'b', 'c') #strings\n",
        "tupla_numeros = (4, 7, 41) #numeros\n",
        "tupla_mista = ('Lucas', 38, '06/12/1986', 42) #tupla_mista\n",
        "\n",
        "print(tupla_letras)\n",
        "print(tupla_numeros)\n",
        "print(tupla_mista)\n",
        "print(*tupla_mista) #tira os parênteses e vírgulas na impressão"
      ]
    },
    {
      "cell_type": "markdown",
      "metadata": {},
      "source": [
        "Os parênteses são opcionais, mas seu uso deixa mais claro a compreensão da expressão:"
      ]
    },
    {
      "cell_type": "code",
      "execution_count": null,
      "metadata": {},
      "outputs": [],
      "source": [
        "tupla = 'a', 'b', 'c'\n",
        "print(tupla)"
      ]
    },
    {
      "cell_type": "markdown",
      "metadata": {},
      "source": [
        "Quando trabalhamos com listas, seus dados são acessados pelo índice de cada dado.\n",
        "\n",
        "![alt text](img/indice.png)"
      ]
    },
    {
      "cell_type": "code",
      "execution_count": null,
      "metadata": {},
      "outputs": [],
      "source": [
        "print('Posição 0: ', tupla [0])\n",
        "print('Posição 1: ', tupla [1])\n",
        "print('Posição 2: ', tupla [2])"
      ]
    },
    {
      "cell_type": "markdown",
      "metadata": {},
      "source": [
        "Para acessar os índices dos dados, utilizamos colchete:"
      ]
    },
    {
      "cell_type": "code",
      "execution_count": null,
      "metadata": {},
      "outputs": [],
      "source": [
        "tupla_nomes = ('Lucas', 'Startup', 'Motoquero Fantasma', 'Bigode')\n",
        "\n",
        "print(tupla_nomes[2]) #acessa o índice 2\n",
        "print(tupla_nomes * 2) #multiplica a tupla"
      ]
    },
    {
      "cell_type": "markdown",
      "metadata": {},
      "source": [
        "Acessa os dados usando for:"
      ]
    },
    {
      "cell_type": "code",
      "execution_count": null,
      "metadata": {},
      "outputs": [],
      "source": [
        "tupla_nomes = ('Lucas', 'Startup', 'Motoquero Fantasma', 'Bigode')\n",
        "\n",
        "for elemento in tupla_nomes:\n",
        "    print(elemento)"
      ]
    },
    {
      "cell_type": "markdown",
      "metadata": {},
      "source": [
        "Utilizando números"
      ]
    },
    {
      "cell_type": "code",
      "execution_count": null,
      "metadata": {},
      "outputs": [],
      "source": [
        "tupla_numeros = (5, 6, 9, 3, 6)\n",
        "\n",
        "for i in tupla_numeros:\n",
        "    print(i)"
      ]
    },
    {
      "cell_type": "markdown",
      "metadata": {},
      "source": [
        "Somando valores da tupla:"
      ]
    },
    {
      "cell_type": "code",
      "execution_count": null,
      "metadata": {},
      "outputs": [],
      "source": [
        "t = (5, 6, 9, 3, 6) #criando tupla\n",
        "\n",
        "soma = 0 #variável totalizadora\n",
        "\n",
        "for i in t:\n",
        "    soma += i\n",
        "    # Vai ler cada item da tupla, então vai vir 5, depois 6, 9... (+)\n",
        "\n",
        "print(f'A soma da tupla é: {soma}')"
      ]
    },
    {
      "cell_type": "markdown",
      "metadata": {},
      "source": [
        "Para verificar o comprimento de uma tupla, utilizamos a função `lenght()`, derivada da palavra lenght (comprimento em inglês)."
      ]
    },
    {
      "cell_type": "code",
      "execution_count": null,
      "metadata": {},
      "outputs": [],
      "source": [
        "t = (5, 6, 9, 3, 6)\n",
        "\n",
        "print(f'O total de elemento na tupla é: {len(t)}')"
      ]
    },
    {
      "cell_type": "markdown",
      "metadata": {},
      "source": [
        "Para realizarmos uma impressão do fim para o início da tupla, utilizamos o `len` formando a seguinte estrutura:"
      ]
    },
    {
      "cell_type": "code",
      "execution_count": null,
      "metadata": {},
      "outputs": [],
      "source": [
        "t = (5, 6, 9, 3, 6)\n",
        "\n",
        "for i in range(len(t) -1, -1, -1):\n",
        "    # len(t) -1: O motivo de diminuirmos o tamanho da lista pra 4, e não 5, é pelo motivo dos índices começarem por 0, então se essa lista for-\n",
        "    # colocada como 5, será contado 0, 1, 2, 3, 4, 5, o que são 6 itens, e não temos 6 itens. Então, se o len(t) valer 4, contará os 5 números-\n",
        "    #, pois ficará 0, 1, 2, 3, 4. 5 itens.\n",
        "\n",
        "    # -1, -1: O motivo da lista ir até -1, é por que queremos chegar no primeiro número da lista, que na ordem dos índices, é o item 0. Após isso,\n",
        "    #é só contada a lista de forma decrescente.\n",
        "    print(t[i])\n",
        "    # Printa um item da lista. Como estamos num loop de for, irá printar um item até o fim do loop, e consequentemente, mostrará todos os itens."
      ]
    },
    {
      "cell_type": "markdown",
      "metadata": {},
      "source": [
        "1. Crie uma tupla chamada cores que contenha cinco cores diferentes. Depois, mostre na tela a cor que está na disposição 2."
      ]
    },
    {
      "cell_type": "code",
      "execution_count": null,
      "metadata": {},
      "outputs": [],
      "source": [
        "cores = ('vermelho', 'azul', 'verde', 'amarelo', 'ciano')\n",
        "\n",
        "print(f'A segunda cor da tupla é: {t[1]}')"
      ]
    },
    {
      "cell_type": "markdown",
      "metadata": {},
      "source": [
        "2. Dada uma tupla numeros = (8, 3, 5, 10, 2), some todos os valores da tupla e exiba o resultado."
      ]
    },
    {
      "cell_type": "code",
      "execution_count": null,
      "metadata": {},
      "outputs": [],
      "source": [
        "numeros = (8, 3, 5, 10, 2)\n",
        "soma = 0\n",
        "\n",
        "for i in numeros:\n",
        "    soma += i\n",
        "\n",
        "print(f'Sua tupla contêm {soma} itens.')"
      ]
    },
    {
      "cell_type": "markdown",
      "metadata": {},
      "source": [
        "3. Dada a tupla valores = (7, 8, 6, 9, 5), calcule a média dos valores e mostre o resultado."
      ]
    },
    {
      "cell_type": "code",
      "execution_count": null,
      "metadata": {},
      "outputs": [],
      "source": [
        "v = (7, 8, 6, 9, 5)\n",
        "sum = 0\n",
        "\n",
        "for i in v:\n",
        "    sum += i\n",
        "\n",
        "medium = sum / len(v)\n",
        "\n",
        "print(f'A média dos valores é de {medium}')\n",
        "print(sum)"
      ]
    },
    {
      "cell_type": "markdown",
      "metadata": {},
      "source": [
        "04. Crie uma tupla chamada frutas com seis frutas. Peça ao usuário para digitar o nome de uma fruta e diga se ela está ou não dentro da tupla. Continue pedindo para digitar uma fruta caso não tenha acertado."
      ]
    },
    {
      "cell_type": "code",
      "execution_count": null,
      "metadata": {},
      "outputs": [],
      "source": [
        "\n",
        "frutas = ('maçã', 'banana', 'manga', 'melancia', 'caqui', 'uva')\n",
        "\n",
        "while True:\n",
        "    writtenFruit = input('Digite uma fruta e veja se ela está na lista!: ')\n",
        "\n",
        "    if writtenFruit in frutas:\n",
        "        print('Sua fruta está na lista!')\n",
        "        break\n",
        "    else:\n",
        "        print('Sua fruta não está na lista.')\n",
        "        break"
      ]
    },
    {
      "cell_type": "markdown",
      "metadata": {},
      "source": [
        "5. (difícil) - Dada a tupla valores = (1, 4, 7, 2, 9, 5), some os valores dos índices de 0 e 1, 1 e 2, 2 e 3, e assim por diante, mostrando cada soma."
      ]
    },
    {
      "cell_type": "code",
      "execution_count": null,
      "metadata": {},
      "outputs": [],
      "source": [
        "valores = (1, 4, 7, 2, 9, 5)\n",
        "\n",
        "# Diminui 1 para bater com os índices\n",
        "for i in range(len(valores) - 1):\n",
        "    #Pense: você está somando um item de valores + o próximo item de valores, por conta do [i + 1].\n",
        "    soma = valores[i] + valores[i + 1] \n",
        "    print(f'A soma dos valores dos índices de {i} + {i + 1} é: {soma}')"
      ]
    },
    {
      "cell_type": "markdown",
      "metadata": {},
      "source": [
        "Tuplas em Python são imutáveis, ou seja, não é possível adicionar, remover ou alternar elementos depois que ela é criada.\n",
        "\n",
        "Porém, se uma tupla contiver elementos mutáveis (como listas), o conteúdo desses elementos pode ser modificado, mesmo que a tupla em si permaneça imutável. Exemplo:"
      ]
    },
    {
      "cell_type": "code",
      "execution_count": null,
      "metadata": {},
      "outputs": [],
      "source": [
        "t = (1, [2, 3], 4)\n",
        "t[1].append(5)\n",
        "print(t)"
      ]
    },
    {
      "cell_type": "markdown",
      "metadata": {},
      "source": [
        "## Listas\n",
        "\n",
        "Listas são um tipo de variável que permite o armazenamento de vários valores, acessados por índice. Uma lista pode conter zero ou mais elementos de um mesmo tipo ou de tipos diferentes. O tamanho de uma lista é igual a quantidade de elementos que ela contém.\n",
        "\n",
        "Podemos imaginar uma lista como um edifício de apartamentos, em que o térreo é o andar 0, o primeiro andar é o andar 1 e assim por diante. O índice é utilizado para especificar os \"apartamentos\" onde guardaremos os dados.\n",
        "\n",
        "Vimos anteriormente a tupla, uma variável composta que tem como característica a imutabilidade, onde não conseguimos adicionar, alterar ou remover elementos.\n",
        "\n",
        "Listas são mais flexíveis, e podem crescer ou diminuir com o tempo. Vejamos um exemplo de como criar uma lista em Python:"
      ]
    },
    {
      "cell_type": "code",
      "execution_count": null,
      "metadata": {},
      "outputs": [],
      "source": [
        "lista = [] #cria uma lista vazia"
      ]
    },
    {
      "cell_type": "markdown",
      "metadata": {},
      "source": [
        "Essa linha cria uma lista com zero elementos, ou seja, uma lista vazia. Os colchetes [] após o símbolo de igualdade servem para indicar que é uma lista. Agora, um exemplo de como criar uma lista com 3 elementos:"
      ]
    },
    {
      "cell_type": "code",
      "execution_count": null,
      "metadata": {},
      "outputs": [],
      "source": [
        "lista2 = [15, 8, 9] #lista com 3 elementos\n",
        "print(lista2[0], lista2[1], lista2[2])\n",
        "print(lista2)"
      ]
    },
    {
      "cell_type": "markdown",
      "metadata": {},
      "source": [
        "### Cópia e fatiamento de listas\n",
        "\n",
        "Quando copiamos um objeto a outro, estamos apenas copiando a mesma referência da lista, e não seus dados em si. Nesse caso abaixo, L e V são a mesma lista."
      ]
    },
    {
      "cell_type": "code",
      "execution_count": null,
      "metadata": {},
      "outputs": [],
      "source": [
        "L = [1, 2, 3, 4, 5] #criando a lista\n",
        "\n",
        "V = L #atribuindo a lista L a lista V\n",
        "\n",
        "print('Printando as listas')\n",
        "print('Lista 1: ', L)\n",
        "print('Lista 2: ', V)\n",
        "\n",
        "#Alterando um valor da lista 2 (V) na posição 0 (primeira)\n",
        "V[0] = 6\n",
        "\n",
        "print('Lista 2: ', V)\n",
        "print('Lista 1: ', L)"
      ]
    },
    {
      "cell_type": "markdown",
      "metadata": {},
      "source": [
        "Quando modificamos a lista 2 (V), estamos também modificando o mesmo valor da lista 1 (L), pois ambos são referenciais, ou apelidos para a mesma lista na memória.\n",
        "\n",
        "![alt text](img/lista1.png)"
      ]
    },
    {
      "cell_type": "markdown",
      "metadata": {},
      "source": [
        "SEXTA-FEIRA EU VOU TRANCAR A FACULDADE!!\n",
        "\n",
        "Para realizar a cópia independente de uma lista, é utilizada outra sintaxe:"
      ]
    },
    {
      "cell_type": "code",
      "execution_count": null,
      "metadata": {},
      "outputs": [],
      "source": [
        "lista1 = [1, 2, 3, 4, 5] #cria uma lista com 5 elementos\n",
        "lista2 = lista1[:] #faz uma cópia independente sem referenciar o mesmo objeto em memória\n",
        "\n",
        "lista2[0] = 6 #altera na primeira posição o valor de 1 para 6\n",
        "\n",
        "print(lista1)\n",
        "print(lista2)"
      ]
    },
    {
      "cell_type": "markdown",
      "metadata": {},
      "source": [
        "Ao usarmos `lista1[:]`, estamos nos referindo a uma nova cópia de lista1. Assim, `lista1` e `lista2` se referem a áreas diferentes na memória, permitindo alterá-las de forma independente:\n",
        "\n",
        "![alt text](img/lista2.png)"
      ]
    },
    {
      "cell_type": "markdown",
      "metadata": {},
      "source": [
        "Podemos também \"fatiar\" uma lista:"
      ]
    },
    {
      "cell_type": "code",
      "execution_count": null,
      "metadata": {},
      "outputs": [],
      "source": [
        "lista = [1, 2, 3, 4, 5] #cria uma lista com 5 elementos\n",
        "\n",
        "print(lista[0:5]) #printa entre a posição 0 e 4 (o último número fica de fora)\n",
        "print(lista[:3]) #printa os 3 primeiros elementos da lista\n",
        "print(lista[:-1]) #printa todos, menos o último\n",
        "print(lista[1:3]) #printa os elementos 1 e 2 (o 3 é excluído)"
      ]
    },
    {
      "cell_type": "markdown",
      "metadata": {},
      "source": [
        "## Tamanho de listas"
      ]
    },
    {
      "cell_type": "markdown",
      "metadata": {},
      "source": [
        "Como vimos anteriormente em tuplas, também conseguimos verificar o tamanho de uma lista com a função `len()`."
      ]
    },
    {
      "cell_type": "code",
      "execution_count": null,
      "metadata": {},
      "outputs": [],
      "source": [
        "lista = [12, 9, 5]\n",
        "print(f'Tamanho da lista: {len(lista)} elementos.')"
      ]
    },
    {
      "cell_type": "markdown",
      "metadata": {},
      "source": [
        "## Adição de elementos"
      ]
    },
    {
      "cell_type": "markdown",
      "metadata": {},
      "source": [
        "Uma das principais vantagens de se trabalhar com listas, é a manipulação de elementos. O método `append()` faz a dição de elementos em uma lista:"
      ]
    },
    {
      "cell_type": "code",
      "execution_count": null,
      "metadata": {},
      "outputs": [],
      "source": [
        "lista = []\n",
        "\n",
        "lista.append('a') #adiciona um elemento na lista\n",
        "print(lista)\n",
        "\n",
        "lista.append('b') #adiciona outro elemento na lista\n",
        "print(lista)\n",
        "\n",
        "lista.append('c') #adiciona outro elemento na lista\n",
        "print(lista)\n",
        "\n",
        "print(f'Tamanho da lista: {len(lista)}')"
      ]
    },
    {
      "cell_type": "markdown",
      "metadata": {},
      "source": [
        "Atividade:\n",
        "Faça um programa que leia N números até que 0 seja digitado. Esse programa deverá imprimir uma lista na mesma ordem em que foi digitado os elementos"
      ]
    },
    {
      "cell_type": "code",
      "execution_count": null,
      "metadata": {},
      "outputs": [],
      "source": [
        "x = 0\n",
        "lista = []\n",
        "\n",
        "while True:\n",
        "    x += 1\n",
        "    y = int(input(f'Digite o {x}º número, e digite 0 quando querer parar:'))\n",
        "    lista.append(y)\n",
        "\n",
        "    if y == 0:\n",
        "        print(f'Aqui está sua lista: {lista[:-1]}')\n",
        "        break"
      ]
    },
    {
      "cell_type": "markdown",
      "metadata": {},
      "source": [
        "Adicionando uma lista a outra com o método `extend()`."
      ]
    },
    {
      "cell_type": "code",
      "execution_count": null,
      "metadata": {},
      "outputs": [],
      "source": [
        "lista = ['a']\n",
        "lista.append('b')\n",
        "print(lista)\n",
        "\n",
        "lista.extend(['c']) #qndo tem apenas um elemento, funciona como o append()\n",
        "print(lista)\n",
        "\n",
        "lista.append(['d', 'e']) #append sempre adiciona um elemento, mesmo que seja outra lista\n",
        "print(lista)\n",
        "\n",
        "lista.extend(['f', 'g', 'h'])\n",
        "print(lista)"
      ]
    },
    {
      "cell_type": "markdown",
      "metadata": {},
      "source": [
        "Exercício exemplo: Faça um programa que leia **duas listas** e gere uma **terceira lista** com os elementos das duas primeiras."
      ]
    },
    {
      "cell_type": "code",
      "execution_count": null,
      "metadata": {},
      "outputs": [],
      "source": [
        "l1 = []\n",
        "l2 = []\n",
        "\n",
        "while True:\n",
        "    x = input('Digite um item da lista 1, e digite 0 para ir para a lista 2: ')\n",
        "\n",
        "    if x == '0':\n",
        "        print('Ótimo, indo para a lista 2...')\n",
        "        break\n",
        "    l1.append(x)\n",
        "\n",
        "while True:\n",
        "        y = input('Digite um item da lista 2, e digite 0 para parar: ')\n",
        "\n",
        "        if y == '0':\n",
        "            print('Indo para o resultado...')\n",
        "            break\n",
        "        l2.append(y)\n",
        "\n",
        "l3 = l1 + l2\n",
        "print(f'As suas listas são: {l1} e {l2}, a terceira fica: {l3}')"
      ]
    },
    {
      "cell_type": "markdown",
      "metadata": {},
      "source": [
        "Exercício exemplo: Faça um programa que leia **duas listas** e gere uma **terceira lista** sem elementos repetidos."
      ]
    },
    {
      "cell_type": "code",
      "execution_count": null,
      "metadata": {},
      "outputs": [],
      "source": [
        "l1 = []\n",
        "l2 = []\n",
        "\n",
        "while True:\n",
        "    x = input('Digite um item da lista 1, e digite 0 para ir para a lista 2: ')\n",
        "\n",
        "    if x == '0':\n",
        "        print('Ótimo, indo para a lista 2...')\n",
        "        break\n",
        "    l1.append(x)\n",
        "\n",
        "while True:\n",
        "        y = input('Digite um item da lista 2, e digite 0 para parar: ')\n",
        "\n",
        "        if y == '0':\n",
        "            print('Indo para o resultado...')\n",
        "            break\n",
        "        l2.append(y)\n",
        "\n",
        "l3 = []\n",
        "\n",
        "for i in l1 + l2:\n",
        "     if i not in l3:\n",
        "          l3.append(i)\n",
        "     \n",
        "\n",
        "print(f'As suas listas são: {l1} e {l2}, a terceira fica: {l3}')"
      ]
    },
    {
      "cell_type": "markdown",
      "metadata": {},
      "source": [
        "## Remoção de elementos\n",
        "\n",
        "Como o tamanho da lista pode variar, permitindo a adição de novos elementos, podemos também retirar alguns elementos da lista, ou mesmo todos eles. Para tal, é utilizada a instrução `del`:"
      ]
    },
    {
      "cell_type": "code",
      "execution_count": null,
      "metadata": {},
      "outputs": [],
      "source": [
        "lista = ['a', 'b', 'c'] #cria uma lista com 3 elementos\n",
        "del(lista[1])"
      ]
    },
    {
      "cell_type": "markdown",
      "metadata": {},
      "source": [
        "Importante ressaltar que o elemento excluído não ocupa mais lugar na lista, fazendo com que os índices sejam reogarnizados.\n",
        "\n",
        "![alt text](lista3.png)"
      ]
    },
    {
      "cell_type": "markdown",
      "metadata": {},
      "source": [
        "Podemos também apagar fatias inteiras de uma vez só:"
      ]
    },
    {
      "cell_type": "code",
      "execution_count": null,
      "metadata": {},
      "outputs": [],
      "source": [
        "lista = list(range(101)) #cria uma lista de 0 até 100\n",
        "print(lista)\n",
        "\n",
        "del lista[40:60]\n",
        "print(lista)"
      ]
    },
    {
      "cell_type": "markdown",
      "metadata": {},
      "source": [
        "`del` - Remove sem retornar nada\n",
        "\n",
        "* Remove um item da lista com base no índice.\n",
        "* Não retorna o valor removido\n",
        "* Sintaxe: del lista[`indice`]"
      ]
    },
    {
      "cell_type": "code",
      "execution_count": null,
      "metadata": {},
      "outputs": [],
      "source": [
        "lista = [10, 20, 30]\n",
        "del lista[1]\n",
        "print(lista)"
      ]
    },
    {
      "cell_type": "markdown",
      "metadata": {},
      "source": [
        "`pop` - Remove e retorna\n",
        "\n",
        "Também remove pelo índice (ou **último** item se nenhum índice for passado de parâmetro)\n",
        "\n",
        "* Retorna o valor removido\n",
        "* `lista.pop()` - Remove o último item\n",
        "* `lista.pop(indice)` - Remove o item pelo índice."
      ]
    },
    {
      "cell_type": "code",
      "execution_count": null,
      "metadata": {},
      "outputs": [],
      "source": [
        "lista = [10, 20, 30] #cria lista\n",
        "item_remov = lista.pop(1) #remove o índice 1\n",
        "print(item_remov) #motra o item que foi removido\n",
        "print(lista)"
      ]
    },
    {
      "cell_type": "markdown",
      "metadata": {},
      "source": [
        "`remove()` - Remove pelo valor\n",
        "\n",
        "Remove o primeiro valor encontrado na lista\n",
        "\n",
        "* Não retorna o valor removido.\n",
        "* Se o valor não exitir, dá erro."
      ]
    },
    {
      "cell_type": "code",
      "execution_count": null,
      "metadata": {},
      "outputs": [],
      "source": [
        "lista = [10, 20, 30, 40]\n",
        "lista.remove(20)\n",
        "print(lista)"
      ]
    },
    {
      "cell_type": "markdown",
      "metadata": {},
      "source": [
        "## Posição dos elementos\n",
        "\n",
        "Para identificarmos a primeira posição dos elementos, é simples. É sabido que a primeira posição dentro de uma lista, é o índice `0`\n",
        "\n",
        "`lista[0]`\n",
        "\n",
        "Para obter o último item da lista, temos algumas formas de manipulação"
      ]
    },
    {
      "cell_type": "code",
      "execution_count": null,
      "metadata": {},
      "outputs": [],
      "source": [
        "lista = [4, 6, 0, 10, 130] #criando lista\n",
        "\n",
        "print(f'Primeira posição: {lista[0]}')\n",
        "print(f'Última posição: {lista[len(lista) -1]}')\n",
        "print(f'Última posição: {lista[4]}')\n",
        "print(f'Última posição: {lista[-1]}')"
      ]
    },
    {
      "cell_type": "markdown",
      "metadata": {},
      "source": [
        "## Lista de exercícios"
      ]
    },
    {
      "cell_type": "markdown",
      "metadata": {},
      "source": [
        "1) Faça um programa que leia N nomes. Ao digitar \"sair\" interromper a leitura de dados. Ao final, mostre os nomes obtidos."
      ]
    },
    {
      "cell_type": "code",
      "execution_count": null,
      "metadata": {},
      "outputs": [],
      "source": [
        "l = []\n",
        "\n",
        "while True:\n",
        "    n = input('Digite nomes para a lista e digite \"sair\" para parar.')\n",
        "\n",
        "    if n.lower() == 'sair':\n",
        "        break\n",
        "    l.append(n)\n",
        "\n",
        "print(f'Os nomes são: {l}')"
      ]
    },
    {
      "cell_type": "markdown",
      "metadata": {},
      "source": [
        "2) Faça um programa que leia N nomes de animais. Mostre as opções inseridas ao usuário e permita que ele possa **alterar** qualquer nome de animal na lista."
      ]
    },
    {
      "cell_type": "code",
      "execution_count": null,
      "metadata": {},
      "outputs": [],
      "source": [
        "l = []\n",
        "\n",
        "while True:\n",
        "    n = str(input('Digite os nomes dos animais e digite \"sair\" para parar:'))\n",
        "    \n",
        "    if n.lower() == \"sair\":\n",
        "        print('Você finalizou.')\n",
        "        break\n",
        "    l.append(n)\n",
        "\n",
        "print(l)\n",
        "\n",
        "change_n = int(input('Agora que você fez a lista, qual animal você deseja mudar? (Digite seu índice)'))\n",
        "new_n = input('O que você quer pôr no lugar?')\n",
        "\n",
        "l[change_n] = new_n\n",
        "\n",
        "print(f'Sua lista agora fica: {l}')"
      ]
    },
    {
      "cell_type": "markdown",
      "metadata": {},
      "source": [
        "3) Faça um PROGRAMA que leia N números. Mostre a lista completa, depois mostre a lista removendo o último item da lista."
      ]
    },
    {
      "cell_type": "code",
      "execution_count": null,
      "metadata": {},
      "outputs": [],
      "source": [
        "l = []\n",
        "x = 0\n",
        "\n",
        "while True:\n",
        "    x += 1\n",
        "    num = int(input(f'Digite o {x} número e digite 0 para parar: '))\n",
        "\n",
        "    if num == 0:\n",
        "        print('Lista feita')\n",
        "        break\n",
        "    l.append(num)\n",
        "\n",
        "print(*l)\n",
        "print('\\nLista (o último número não aparecerá): ')\n",
        "print(*l[:-1])\n",
        "\n",
        "print('\\nTambém pode ser assim, com ele removido:')\n",
        "l.pop(-1)\n",
        "print(*l)"
      ]
    },
    {
      "cell_type": "markdown",
      "metadata": {},
      "source": [
        "4) Faça um programa que leia N números. Mostre a lista completa, depois mostre a lista removendo o primeiro item da lista."
      ]
    },
    {
      "cell_type": "code",
      "execution_count": null,
      "metadata": {},
      "outputs": [],
      "source": [
        "l = []\n",
        "x = 0\n",
        "\n",
        "while True:\n",
        "    x += 1\n",
        "    num = int(input(f'Digite o {x} número e digite 0 para parar: '))\n",
        "\n",
        "    if num == 0:\n",
        "        print('Lista feita')\n",
        "        break\n",
        "    l.append(num)\n",
        "\n",
        "print(*l)\n",
        "print('\\nLista (o primeiro número não aparecerá): ')\n",
        "del(l[0])\n",
        "print(*l)"
      ]
    },
    {
      "cell_type": "markdown",
      "metadata": {},
      "source": [
        "5) Faça um programa que leia N números. Mostre a lista completa e depois mostre o **maior número** e o **menor número** da lista."
      ]
    },
    {
      "cell_type": "code",
      "execution_count": null,
      "metadata": {},
      "outputs": [],
      "source": [
        "l = []\n",
        "x = 0\n",
        "\n",
        "while True:\n",
        "    x += 1\n",
        "    num = int(input(f'Digite o {x}º número e digite 0 para parar: '))\n",
        "\n",
        "    if num == 0:\n",
        "        break\n",
        "    l.append(num)\n",
        "\n",
        "lbig = l[0]\n",
        "llit = l[0]\n",
        "\n",
        "for i in l:\n",
        "    if i > lbig:\n",
        "        lbig = i\n",
        "\n",
        "    if i < llit:\n",
        "        llit = i\n",
        "\n",
        "print(f'O maior número é {lbig} e o menor é {llit}')\n"
      ]
    },
    {
      "cell_type": "markdown",
      "metadata": {},
      "source": [
        "6) Está acontecendo uma pesquisa em uma escola do ensino médio, e é preciso saber quantos alunos são menores de idade. Faça um programa que leia N idades, e mostre no final, quantos alunos cadastrados são menores de idade."
      ]
    },
    {
      "cell_type": "code",
      "execution_count": null,
      "metadata": {},
      "outputs": [],
      "source": [
        "l = []\n",
        "x = 0\n",
        "old = 0\n",
        "young = 0\n",
        "\n",
        "while True:\n",
        "    x += 1\n",
        "    age = int(input(f'Digite a idade do {x}º aluno e digite 0 para parar: '))\n",
        "\n",
        "    if age == 0:\n",
        "        break\n",
        "    l.append(age)\n",
        "\n",
        "for i in l:\n",
        "    if i >= 18:\n",
        "        old += 1\n",
        "\n",
        "    if i < 18:\n",
        "        young += 1\n",
        "        \n",
        "print(f'Dos alunos, {old} são de maior e {young} são de menor')"
      ]
    },
    {
      "cell_type": "markdown",
      "metadata": {},
      "source": [
        "7) Peça ao usuário digitar N produtos eletrônicos (mouse, fone, teclado, etc) e adicione-os em uma lista. Mostre os índices e os produtos ao usuário, e pergunte qual ele deseja remover da lista. Remove e mostra a lista atualizada. OBS: Validar se o índice digitado é válido, existente dentro do intervalo de elementos."
      ]
    },
    {
      "cell_type": "code",
      "execution_count": null,
      "metadata": {},
      "outputs": [],
      "source": [
        "l = []\n",
        "x = 0\n",
        "\n",
        "n = int(input('Digite quantos eletrônicos você que cadastrar: '))\n",
        "\n",
        "for item in range(n):\n",
        "    x += 1\n",
        "    electronics = str(input(f'Digite o {x} eletrônico, e digite 0 para parar: '))\n",
        "    l.append(electronics)\n",
        "\n",
        "for index, electronic in enumerate(l):\n",
        "    print(f'Índice: {index}, Eletrônico: {electronic}')\n",
        "\n",
        "remove = int(input('Qual item você quer remover da lista? Digite seu índice:'))\n",
        "\n",
        "if remove > 0 and remove < len(l):\n",
        "    del l[remove]\n",
        "    print(f'Removido! Agora a lista fica: {l}')\n",
        "else:\n",
        "    print('Índice inexistente! Tende de novo.')"
      ]
    },
    {
      "cell_type": "markdown",
      "metadata": {},
      "source": [
        "### Adição com `insert()`\n",
        "\n",
        "O método `insert()` em Python, é usado para inserir um elemento em uma lista em uma posição específica, sem substituir nenhum item já existente.\n",
        "\n",
        "`lista.insert(posição, elemento)`\n",
        "\n",
        "Importante: Os elementos que estão a partir da posição especificada são deslocados uma posição à frente."
      ]
    },
    {
      "cell_type": "code",
      "execution_count": null,
      "metadata": {},
      "outputs": [],
      "source": [
        "#adicionando no meio da lista\n",
        "frutas = ['maçã', 'banana', 'uva']\n",
        "frutas.insert(1, 'laranja')\n",
        "print(frutas)"
      ]
    },
    {
      "cell_type": "code",
      "execution_count": null,
      "metadata": {},
      "outputs": [],
      "source": [
        "#adicionando no inícoo da lista\n",
        "numeros = [10, 20, 30]\n",
        "numeros.insert(0, 5)\n",
        "print(numeros)"
      ]
    },
    {
      "cell_type": "code",
      "execution_count": null,
      "metadata": {},
      "outputs": [],
      "source": [
        "#adicionando no fim da lista\n",
        "nomes = ['Ana', 'Carlos']\n",
        "#nomes.insert(10, 'Buim')\n",
        "nomes.insert(len(nomes), 'Lucas')\n",
        "print(nomes)"
      ]
    },
    {
      "cell_type": "markdown",
      "metadata": {},
      "source": [
        "### Analisar funções para lista"
      ]
    },
    {
      "cell_type": "code",
      "execution_count": null,
      "metadata": {},
      "outputs": [],
      "source": [
        "print(dir(list))"
      ]
    },
    {
      "cell_type": "markdown",
      "metadata": {},
      "source": [
        "![alt text](list.png)"
      ]
    },
    {
      "cell_type": "markdown",
      "metadata": {},
      "source": [
        "## Matriz\n",
        "\n",
        "Em Python, matriz é um conceito que representa uma estrutura de dados bidimensional, ou seja, uma lista de listas, onde os dados são organizados em linhas e colunas, semelhante a uma tabela.\n",
        "\n",
        "![alt text](img/matriz1.png)"
      ]
    },
    {
      "cell_type": "code",
      "execution_count": null,
      "metadata": {},
      "outputs": [],
      "source": [
        "#criando uma matriz\n",
        "\n",
        "matriz = [\n",
        "    [1, 2, 3],\n",
        "    [4, 5, 6],\n",
        "    [7, 8, 9]\n",
        "]"
      ]
    },
    {
      "cell_type": "markdown",
      "metadata": {},
      "source": [
        "Acessando elementos pelo índice"
      ]
    },
    {
      "cell_type": "code",
      "execution_count": null,
      "metadata": {},
      "outputs": [],
      "source": [
        "matriz = [\n",
        "    [1, 2, 3],\n",
        "    [4, 5, 6],\n",
        "    [7, 8, 9]\n",
        "]\n",
        "\n",
        "print(matriz[1][1])"
      ]
    },
    {
      "cell_type": "markdown",
      "metadata": {},
      "source": [
        "Para percorrer uma matriz, usa-se dois lações de repetição. Um para percorrer as linhas, e outro para percorrer as colunas:"
      ]
    },
    {
      "cell_type": "code",
      "execution_count": null,
      "metadata": {},
      "outputs": [],
      "source": [
        "for i in range(3):   #percorre a linha. Já que temos 3 linhas e colunas, usamos o range(3) mesmo, pois o range para -1 do valor dito\n",
        "    for j in range(3): #percorre as colunas\n",
        "        print(matriz[i][j], end=' ')\n",
        "    print()"
      ]
    },
    {
      "cell_type": "markdown",
      "metadata": {},
      "source": [
        "Exemplo 1:"
      ]
    },
    {
      "cell_type": "code",
      "execution_count": null,
      "metadata": {},
      "outputs": [],
      "source": [
        "#Exemplo de matriz 2 (linhas) x 2 (colunas)\n",
        "matriz_a = [\n",
        "    [1, 2],\n",
        "    [3, 4]\n",
        "]\n",
        "\n",
        "for i in range(2): #percorre as linhas\n",
        "    for j in range(2): #percorre as colunas\n",
        "        print(f'{i},{j}: {matriz_a[i][j]}') #escreve os valores da matriz"
      ]
    },
    {
      "cell_type": "code",
      "execution_count": null,
      "metadata": {},
      "outputs": [],
      "source": [
        "#Exemplo de matriz 2 (linhas) x 2 (colunas)\n",
        "matriz_b = [\n",
        "    [5, 6],\n",
        "    [7, 8]\n",
        "]\n",
        "\n",
        "for i in range(2): #percorre as linhas\n",
        "    for j in range(2): #percorre as colunas\n",
        "        print(f'{i},{j}: {matriz_a[i][j]}') #escreve os valores da matriz\n",
        "\n",
        "print('Escrevendo a matriz: ')\n",
        "for e in matriz_b:\n",
        "    print(e)"
      ]
    },
    {
      "cell_type": "code",
      "execution_count": null,
      "metadata": {},
      "outputs": [],
      "source": [
        "matriz_c = matriz_a + matriz_b\n",
        "\n",
        "print(matriz_c)"
      ]
    },
    {
      "cell_type": "markdown",
      "metadata": {},
      "source": [
        "Exercício exemplo\n",
        "\n",
        "Ler uma matriz 2x3, solicitando os valores para o usuário. Mostrar a matriz completa no final."
      ]
    },
    {
      "cell_type": "code",
      "execution_count": null,
      "metadata": {},
      "outputs": [],
      "source": [
        "matriz = []\n",
        "\n",
        "for i in range(2): #duas linhas\n",
        "    linha = []\n",
        "    for j in range(3): #3 colunas\n",
        "        num = int(input(f'Digite o valor de {i},{j}: '))\n",
        "        linha.append(num) #adiciona o input do usuário na lista linha[]\n",
        "    matriz.append(linha)\n",
        "\n",
        "print('Matriz final: ')\n",
        "for linha in matriz:\n",
        "    print(linha)"
      ]
    },
    {
      "cell_type": "markdown",
      "metadata": {},
      "source": [
        "### Exercícios Matriz"
      ]
    },
    {
      "cell_type": "markdown",
      "metadata": {},
      "source": [
        "1) Crie uma matrix 3x3 com valores inseridos pelo usuário e exiba a matriz no formato de tabela."
      ]
    },
    {
      "cell_type": "code",
      "execution_count": null,
      "metadata": {},
      "outputs": [],
      "source": [
        "matriz = []\n",
        "\n",
        "for i in range(3):\n",
        "    linha = []\n",
        "    for j in range(3):\n",
        "        num = int(input(f'Digite o valor de {i},{j}: '))\n",
        "        linha.append(num)\n",
        "    matriz.append(linha)\n",
        "\n",
        "print('Sua matriz: ')\n",
        "for linha in matriz:\n",
        "    print(linha)"
      ]
    },
    {
      "cell_type": "markdown",
      "metadata": {},
      "source": [
        "2) Crie uma matriz 3x3 com valores fornecidos pelo usuário e calcule a soma de todos os elementos"
      ]
    },
    {
      "cell_type": "code",
      "execution_count": null,
      "metadata": {},
      "outputs": [],
      "source": [
        "matriz = []\n",
        "\n",
        "for i in range(3):\n",
        "    linha = []\n",
        "    for j in range(3):\n",
        "        num = int(input(f'Digite o valor de {i},{j}: '))\n",
        "        linha.append(num)\n",
        "    matriz.append(linha)\n",
        "\n",
        "print('Sua matriz:')\n",
        "soma = 0\n",
        "for linha in matriz:\n",
        "    print(linha)\n",
        "    for e in linha:\n",
        "        soma += e\n",
        "\n",
        "print(f'\\nOs valores somados: {soma}')"
      ]
    },
    {
      "cell_type": "markdown",
      "metadata": {},
      "source": [
        "3) Peça ao usuário para preencher uma matrix 3x3 com valores inteiros. EM seguida, solicite o número de uma linha (0 a 2) e mostre a soma dos valores dessa linha. (sem usar a função sum())."
      ]
    },
    {
      "cell_type": "code",
      "execution_count": null,
      "metadata": {},
      "outputs": [],
      "source": [
        "matriz = []\n",
        "\n",
        "for i in range(3):\n",
        "    linha = []\n",
        "    for j in range(3):\n",
        "        num = int(input(f'Digite o valor de {i},{j}: '))\n",
        "        linha.append(num)\n",
        "    matriz.append(linha)\n",
        "\n",
        "lchoose = int(input(f'Digite qual linha ({i}) você quer somar os números: '))\n",
        "\n",
        "soma = 0\n",
        "for e in matriz[lchoose]:\n",
        "     soma += e\n",
        "\n",
        "print(soma)"
      ]
    },
    {
      "cell_type": "markdown",
      "metadata": {},
      "source": [
        "4) Crie uma matriz 3x3 com valores inteiros inseridos pelo usuário. Após preencher a matriz, identifique e exiba **maior** valor"
      ]
    },
    {
      "cell_type": "code",
      "execution_count": null,
      "metadata": {},
      "outputs": [],
      "source": [
        "matriz = []\n",
        "\n",
        "for i in range(3):\n",
        "    linha = []\n",
        "    for j in range(3):\n",
        "        num = int(input(f'Digite o valor de {i},{j}: '))\n",
        "        linha.append(num)\n",
        "    matriz.append(linha)\n",
        "    \n",
        "mbig = matriz[0][0]\n",
        "# msmall = matriz[0][0]\n",
        "\n",
        "# for linha in matriz:\n",
        "#     for e in linha:\n",
        "        \n",
        "#         if e > mbig:\n",
        "#             mbig = e\n",
        "            \n",
        "#         # if e < msmall:\n",
        "#         #     msmall = e\n",
        "\n",
        "#Essa versão compara cada item passado pela lista para verificar o maior\n",
        "for i in range(3):\n",
        "    for j in range(3):\n",
        "        if matriz[i][j] > mbig:\n",
        "            mbig = matriz[i][j]\n",
        "            \n",
        "print(f'O maior valor é {mbig}.') ##e o menor valor é {msmall}')"
      ]
    },
    {
      "cell_type": "markdown",
      "metadata": {},
      "source": [
        "### Operação com matriz"
      ]
    },
    {
      "cell_type": "markdown",
      "metadata": {},
      "source": [
        "#### Adição"
      ]
    },
    {
      "cell_type": "code",
      "execution_count": null,
      "metadata": {},
      "outputs": [],
      "source": [
        "#Duas matrizes\n",
        "\n",
        "matriz1 = [[1,2,3],[4,5,6],[7,8,9]]\n",
        "matriz2 = [[9,8,7],[6,5,4],[3,2,1]]\n",
        "\n",
        "#matriz resultante zerada\n",
        "mres = [[0,0,0],[0,0,0],[0,0,0]]\n",
        "\n",
        "#adição entre matrizes: Ele está acessando o primeiro item para\n",
        "# poder somar todos os itens dentro da lista, criando um loop de adição\n",
        "#entre cada item\n",
        "for i in range(len(matriz1)):\n",
        "    for j in range(len(matriz1[0])):\n",
        "        mres[i][j] = matriz1[i][j] + matriz2[i][j]\n",
        "        \n",
        "#exibindo matriz1:\n",
        "print('Matriz 1')\n",
        "for linha in matriz1:\n",
        "    print(linha)\n",
        "    \n",
        "#exibindo matriz2:\n",
        "print('Matriz 2')\n",
        "for linha in matriz2:\n",
        "    print(linha)\n",
        "    \n",
        "#exibindo matriz resultante:\n",
        "print('Matriz resultante:')\n",
        "for linha in mres:\n",
        "    print(linha)"
      ]
    },
    {
      "cell_type": "code",
      "execution_count": null,
      "metadata": {},
      "outputs": [],
      "source": [
        "#utilizando numpy - Numeric Python - INTERNA\n",
        "import numpy as np\n",
        "\n",
        "matriz1 = np.array([[1,2,3],[4,5,6],[7,8,9]])\n",
        "matriz2 = np.array([[9,8,7],[6,5,4],[3,2,1]])\n",
        "\n",
        "mres = [[0,0,0],[0,0,0],[0,0,0]]\n",
        "\n",
        "mres = matriz1 + matriz2\n",
        "\n",
        "print(matriz1)\n",
        "print()\n",
        "print(matriz2)\n",
        "print()\n",
        "print(mres)"
      ]
    },
    {
      "cell_type": "markdown",
      "metadata": {},
      "source": [
        "### Multiplicação"
      ]
    },
    {
      "cell_type": "code",
      "execution_count": null,
      "metadata": {},
      "outputs": [],
      "source": [
        "matriz = [[1,2,3],[4,5,6],[7,8,9]]\n",
        "\n",
        "#constante para multiplicação:\n",
        "escalar = 2\n"
      ]
    },
    {
      "cell_type": "code",
      "execution_count": null,
      "metadata": {},
      "outputs": [],
      "source": [
        "#utilizando numpy - Numeric Python - INTERNA\n",
        "\n",
        "import numpy as np\n",
        "\n",
        "matriz = np.array([[1,2,3],[4,5,6],[7,8,9]])\n",
        "escalar = 2\n",
        "\n",
        "mres = [[0,0,0],[0,0,0],[0,0,0]]\n",
        "\n",
        "mres = matriz * escalar\n",
        "\n",
        "print(matriz)\n",
        "print()\n",
        "print(mres)"
      ]
    },
    {
      "cell_type": "markdown",
      "metadata": {},
      "source": [
        "### Exercícios Matriz"
      ]
    },
    {
      "cell_type": "markdown",
      "metadata": {},
      "source": [
        "1) Faça um programa que leia uma matriz 4x4. Depois, conte e escreva valores maiores de 10 que ela possui"
      ]
    },
    {
      "cell_type": "code",
      "execution_count": null,
      "metadata": {},
      "outputs": [],
      "source": [
        "biggerThan = 0\n",
        "\n",
        "matriz = []\n",
        "\n",
        "for i in range(4):\n",
        "    linha = []\n",
        "    for j in range(4):\n",
        "        e = int(input(f'Digite o elemento da posição [{i}][{j}]: '))\n",
        "        linha.append(e)\n",
        "        if e > 10:\n",
        "            biggerThan += 1\n",
        "    matriz.append(linha)\n",
        "    \n",
        "            \n",
        "print(f'Da lista lida, {biggerThan} valores são maiores que 10.')"
      ]
    },
    {
      "cell_type": "markdown",
      "metadata": {},
      "source": [
        "2) Faça um programa em Python que leia uma matrix 3x3. Leia também um valor X inserido pelo usuário. O programa deverá fazer uma busca desse valor na matriz e mostrar caso encontre o valor, a posição em que ele se encontra. Caso não encontrar, mostrar \"não encontrado na posição [i][j]\"."
      ]
    },
    {
      "cell_type": "code",
      "execution_count": null,
      "metadata": {},
      "outputs": [],
      "source": [
        "matriz = []\n",
        "\n",
        "for i in range(3):\n",
        "    linha = []\n",
        "    for j in range(3):\n",
        "        e = int(input(f'Digite o elemento da posição [{i}][{j}]: '))\n",
        "        linha.append(e)\n",
        "    matriz.append(linha)\n",
        "\n",
        "equal = False\n",
        "\n",
        "xfactor = int(input('Digite um valor e veja se ele está na matriz: '))\n",
        "\n",
        "for index1, i in enumerate(matriz):\n",
        "    for index2, j in enumerate(i):\n",
        "        \n",
        "        if j == xfactor:\n",
        "            print(f'O item está na linha {index1}, coluna {index2}')\n",
        "            equal = True\n",
        "            \n",
        "if equal == False:\n",
        "    print(f'Não encontrado na posição {i}, {j}.')"
      ]
    },
    {
      "cell_type": "markdown",
      "metadata": {},
      "source": [
        "3) Faça um programa que leia uma matrix 3x3. Calcule e mostre a soma dos elementos que estão na diagonal principal (0x0, 1x1, 2x2)"
      ]
    },
    {
      "cell_type": "code",
      "execution_count": null,
      "metadata": {},
      "outputs": [],
      "source": [
        "matriz = []\n",
        "somaDiagonal = 0\n",
        "\n",
        "for i in range(3):\n",
        "    linha = []\n",
        "    for j in range(3):\n",
        "        e = int(input(f'Digite o elemento da posição [{i}][{j}]: '))\n",
        "        linha.append(e)\n",
        "    matriz.append(linha)\n",
        "    \n",
        "for i in range(3):\n",
        "    somaDiagonal += matriz[i][i]\n",
        "    \n",
        "print(f'A soma dos elelemntos na diagonial principal é: {somaDiagonal}')"
      ]
    },
    {
      "cell_type": "markdown",
      "metadata": {},
      "source": [
        "## Manipulação de Strings"
      ]
    },
    {
      "cell_type": "code",
      "execution_count": null,
      "metadata": {},
      "outputs": [],
      "source": [
        "s = \"Olá mundo\"\n",
        "print(s)\n",
        "print(s[1])"
      ]
    },
    {
      "cell_type": "code",
      "execution_count": null,
      "metadata": {},
      "outputs": [],
      "source": [
        "#transformando em lista\n",
        "l = list('Olá mundo')\n",
        "print(l)"
      ]
    },
    {
      "cell_type": "markdown",
      "metadata": {},
      "source": [
        "### Verificação parcial de strings"
      ]
    },
    {
      "cell_type": "code",
      "execution_count": null,
      "metadata": {},
      "outputs": [],
      "source": [
        "nome = str(input('Digite o seu nome completo: '))\n",
        "validação = nome.startswith('Naruto')\n",
        "\n",
        "if validação:\n",
        "    print('Sim, começa com Naruto')\n",
        "else:\n",
        "    print('Não, não começa com Naruto')"
      ]
    },
    {
      "cell_type": "markdown",
      "metadata": {},
      "source": [
        "Maiúsculo / Minúsculo"
      ]
    },
    {
      "cell_type": "code",
      "execution_count": null,
      "metadata": {},
      "outputs": [],
      "source": [
        "nome = 'kakashi da silva sauro'\n",
        "print(nome.upper()) # deixa como maiúsculo\n",
        "print(nome.lower()) # deixa como minúsculo"
      ]
    },
    {
      "cell_type": "markdown",
      "metadata": {},
      "source": [
        "Operador IN"
      ]
    },
    {
      "cell_type": "code",
      "execution_count": null,
      "metadata": {},
      "outputs": [],
      "source": [
        "nome = 'luffy batista alemão pereira'\n",
        "print('lu' in nome)\n",
        "print('zoro' not in nome)"
      ]
    },
    {
      "cell_type": "markdown",
      "metadata": {},
      "source": [
        "Contagem de strigns"
      ]
    },
    {
      "cell_type": "code",
      "execution_count": null,
      "metadata": {},
      "outputs": [],
      "source": [
        "t = 'um tigre, dois tigre, três tigre'\n",
        "print('Existem', t.count('tigre'), 'palavras tigres.')\n",
        "\n",
        "lista = [1,1,1,2]\n",
        "print('Existem', lista.count(1), 'números 1 na lista.')"
      ]
    },
    {
      "cell_type": "markdown",
      "metadata": {},
      "source": [
        "Pesquisa de strings"
      ]
    },
    {
      "cell_type": "code",
      "execution_count": null,
      "metadata": {},
      "outputs": [],
      "source": [
        "s = 'unimar universidade de marília'\n",
        "print(s.find('marí')) #retorna a postição\n",
        "print(s.find('ZORO CEGO')) #retorna -1."
      ]
    },
    {
      "cell_type": "markdown",
      "metadata": {},
      "source": [
        "rfind() - retorna a última ocorrência do parâmetro passado"
      ]
    },
    {
      "cell_type": "code",
      "execution_count": null,
      "metadata": {},
      "outputs": [],
      "source": [
        "s = 'banana nanica é uma banana'\n",
        "print(s.rfind('na')) #rfind retora a última ocorrência do parâmetro 'na'"
      ]
    },
    {
      "cell_type": "markdown",
      "metadata": {},
      "source": [
        "### Posicionamento de strings"
      ]
    },
    {
      "cell_type": "markdown",
      "metadata": {},
      "source": [
        "center - centraliza a string em um número de posições passado como parâmetro"
      ]
    },
    {
      "cell_type": "code",
      "execution_count": null,
      "metadata": {},
      "outputs": [],
      "source": [
        "s = 'unimar'\n",
        "s = s.center(50, '.') # ao centro\n",
        "print(s)"
      ]
    },
    {
      "cell_type": "code",
      "execution_count": null,
      "metadata": {},
      "outputs": [],
      "source": [
        "s = 'unimar'\n",
        "s = s.ljust(50, '.') # a esquerda\n",
        "print(s)"
      ]
    },
    {
      "cell_type": "code",
      "execution_count": null,
      "metadata": {},
      "outputs": [],
      "source": [
        "s = 'unimar'\n",
        "s = s.rjust(50, '.') # a direita\n",
        "print(s)"
      ]
    },
    {
      "cell_type": "markdown",
      "metadata": {},
      "source": [
        "### Quebra ou separação de strings"
      ]
    },
    {
      "cell_type": "markdown",
      "metadata": {},
      "source": [
        "split() = Quebra uma string a partir de um caractere passado como parâmetro retornando uma lista"
      ]
    },
    {
      "cell_type": "code",
      "execution_count": null,
      "metadata": {},
      "outputs": [],
      "source": [
        "s = 'unimar universidade de marília'\n",
        "v = 'um tigre, dois tigre, três tigre'\n",
        "print(s.split(' '))\n",
        "print(v.split(','))"
      ]
    },
    {
      "cell_type": "markdown",
      "metadata": {},
      "source": [
        "### Substituição de strings"
      ]
    },
    {
      "cell_type": "code",
      "execution_count": null,
      "metadata": {},
      "outputs": [],
      "source": [
        "s = 'unimar universidade de marília'\n",
        "print(s.replace('marília', 'konoha'))"
      ]
    },
    {
      "cell_type": "markdown",
      "metadata": {},
      "source": [
        "### Remoção de espaços em branco"
      ]
    },
    {
      "cell_type": "markdown",
      "metadata": {},
      "source": [
        "strip() - Faz remoção dos espaços"
      ]
    },
    {
      "cell_type": "code",
      "execution_count": null,
      "metadata": {},
      "outputs": [],
      "source": [
        "s = '             olá              '\n",
        "print(s.lstrip()) #remove a esquerda"
      ]
    },
    {
      "cell_type": "code",
      "execution_count": null,
      "metadata": {},
      "outputs": [],
      "source": [
        "s = '             olá              '\n",
        "print(s.rstrip()) #remove a direita"
      ]
    },
    {
      "cell_type": "markdown",
      "metadata": {},
      "source": [
        "### Validação por tipo de conteúdo"
      ]
    },
    {
      "cell_type": "code",
      "execution_count": null,
      "metadata": {},
      "outputs": [],
      "source": [
        "s = '125'\n",
        "p = 'alô mundo'\n",
        "espaço = ' '\n",
        "\n",
        "print(s.isalnum()) #verifica se é alfa numérico\n",
        "print(s.isdigit()) # 0 a 9\n",
        "print(s.isnumeric()) # frações etc\n",
        "print(s.isupper()) #verifica se está em caixa alta\n",
        "print(s.islower()) #verifica se está em caixa baixa\n",
        "print(espaço.isspace()) #retorna se tem espaço\n",
        "print(s.isalnum()) # retorna se é possível mostrar na tela"
      ]
    },
    {
      "cell_type": "markdown",
      "metadata": {},
      "source": [
        "format() - Formatação de texto"
      ]
    },
    {
      "cell_type": "code",
      "execution_count": null,
      "metadata": {},
      "outputs": [],
      "source": [
        "var1 = 'isso'\n",
        "var2 = 'é'\n",
        "var3 = 'um teste'\n",
        "pi = 3.1434564987\n",
        "\n",
        "print(f'{var1} {var2} {var3}')\n",
        "print('{} {} {}'.format(var1, var2, var3))\n",
        "print('{2} {1} {0}'.format(var1, var2, var3)) # com índices\n",
        "print(f'O PI é: {pi:.2f}')\n",
        "print('O PI é: {:.2f}'.format(pi))\n",
        "print('O PI é: {:.2f}'.format(pi+4.89))"
      ]
    },
    {
      "cell_type": "markdown",
      "metadata": {},
      "source": [
        "### Leitura e escrita de arquivo"
      ]
    },
    {
      "cell_type": "markdown",
      "metadata": {},
      "source": [
        "Escrita de arquivo"
      ]
    },
    {
      "cell_type": "code",
      "execution_count": null,
      "metadata": {},
      "outputs": [],
      "source": [
        "with open(\"arquivo_saida.txt\", \"w\") as arquivo:\n",
        "    arquivo.write('Este é um arquivo de saída. \\n')\n",
        "    arquivo.write('Contendo algumas linhas de texto \\n')\n",
        "    arquivo.write('One Piece é melhor que Naruto \\n')\n",
        "    arquivo.write('Santos vai rebaixar \\n')\n",
        "    arquivo.write('100 homens ganham de um gorila. \\n')"
      ]
    },
    {
      "cell_type": "markdown",
      "metadata": {},
      "source": [
        "Neste exemplo:\n",
        "\n",
        "* Abrimos o arquivo \"arquivo_saida.txt\" no modo de escrita (\"w\"). Se o arquivo não existir, ele será criado.\n",
        "Se já existir, seu conteúdo será substituido.\n",
        "* Usamos o contexto `with` para garantir que o arquivo seja fechado automaticamente após a escrita.\n",
        "* Utilizamos o método `write()` para escrever linhas de texto no arquivo. Cada chamada ao método `write()` adiciona uma linha ao arquivo."
      ]
    },
    {
      "cell_type": "markdown",
      "metadata": {},
      "source": [
        "Leitura de arquivo\n"
      ]
    },
    {
      "cell_type": "code",
      "execution_count": null,
      "metadata": {},
      "outputs": [],
      "source": [
        "with open('arquivo_saida.txt', 'r') as arquivo:\n",
        "    conteudo = arquivo.read()\n",
        "    print(conteudo)"
      ]
    },
    {
      "cell_type": "markdown",
      "metadata": {},
      "source": [
        "# 07 - Bibliotecas\n",
        "\n",
        "Bibliotecas (também chamada de **libs**) são coleções de códigos pré-escritos que podem ser reutilizados em diferentes projetos. Pense nelas como caixas de ferramentas para programadores: em vez de construir tudo no zero, você pode usar essas \"ferramentas\" prontas para realizar tarefas específicas de forma mais eficiente. Existem as bibiliotecas que são nativas da linguagem, e as externas, que necessitam ser instaladas para serem usadas no código."
      ]
    },
    {
      "cell_type": "markdown",
      "metadata": {},
      "source": [
        "## Biblioteca interna - Exemplo"
      ]
    },
    {
      "cell_type": "markdown",
      "metadata": {},
      "source": [
        "Math - Biblioteca para operações aritméticas:"
      ]
    },
    {
      "cell_type": "code",
      "execution_count": null,
      "metadata": {},
      "outputs": [],
      "source": [
        "import math #comando de importação\n",
        "\n",
        "num = int(input('Digite um número: '))\n",
        "raiz_quadrada = math.sqrt(num) # raiz quadrada = square root = sqrt\n",
        "print(f'Raiz quadrade de {num} é {raiz_quadrada}')"
      ]
    },
    {
      "cell_type": "code",
      "execution_count": null,
      "metadata": {},
      "outputs": [],
      "source": [
        "from math import factorial as fac\n",
        "\n",
        "num = int(input('Digite um número: '))\n",
        "resultado = fac(num)\n",
        "print(f'O valor final do cálculo é: {resultado}')"
      ]
    },
    {
      "cell_type": "markdown",
      "metadata": {},
      "source": [
        "Random - Biblioteca para a aleatorieda númerica:\n",
        "\n",
        "* random = gera números aleatórios entre 0 e 1.\n",
        "* randint = gera números inteiros passando um intervalo.\n",
        "* randrange = gera números até um determinado limite, podendo conter intervalos.\n",
        "* choice = escolhe um item de uma lista\n",
        "* shuffle = gera uma ordem aleatória de itens de uma lista."
      ]
    },
    {
      "cell_type": "code",
      "execution_count": null,
      "metadata": {},
      "outputs": [],
      "source": [
        "from random import random #random\n",
        "numero = random()\n",
        "print(numero)"
      ]
    },
    {
      "cell_type": "code",
      "execution_count": null,
      "metadata": {},
      "outputs": [],
      "source": [
        "from random import randint\n",
        "numero_inteiro = randint(1, 9) #gera números de 1 a 9\n",
        "print(numero_inteiro)"
      ]
    },
    {
      "cell_type": "code",
      "execution_count": null,
      "metadata": {},
      "outputs": [],
      "source": [
        "from random import randrange\n",
        "numero_aleatorio = randrange(1, 10, 2) #inicio/fim/intervalo\n",
        "print(numero_aleatorio)"
      ]
    },
    {
      "cell_type": "code",
      "execution_count": null,
      "metadata": {},
      "outputs": [],
      "source": [
        "from random import choice\n",
        "lista_numeros = [1, 5, 7, 9]\n",
        "numero_escolhido = choice(lista_numeros)\n",
        "print(f'O nº escolhido é: {numero_escolhido}')"
      ]
    },
    {
      "cell_type": "code",
      "execution_count": 7,
      "metadata": {},
      "outputs": [
        {
          "name": "stdout",
          "output_type": "stream",
          "text": [
            "Lista misturada: [9, 7, 5, 1]\n"
          ]
        }
      ],
      "source": [
        "from random import shuffle\n",
        "lista_numeros = [1, 5, 7, 9]\n",
        "shuffle(lista_numeros) #mistura os números\n",
        "print(f'Lista misturada: {lista_numeros}')"
      ]
    },
    {
      "cell_type": "markdown",
      "metadata": {},
      "source": [
        "### Biblioteca externa - exemplo"
      ]
    },
    {
      "cell_type": "code",
      "execution_count": 11,
      "metadata": {},
      "outputs": [
        {
          "name": "stdout",
          "output_type": "stream",
          "text": [
            "Logradouro: Rua José Jordão\n",
            "Bairro: Jardim Urderico Deboleta\n",
            "Cidade: Pompéia\n",
            "Estado: SP\n"
          ]
        }
      ],
      "source": [
        "import requests as rq #importanto a lib\n",
        "\n",
        "cep_digitado = input('Digite o CEP para consulta: ')\n",
        "#API VIA CEP: https://viacep.com.br/ws/01001000/json\n",
        "requisicao = rq.get(f'https://viacep.com.br/ws/{cep_digitado}/json')\n",
        "dados_obtidos = requisicao.json()\n",
        "\n",
        "print(f'Logradouro: {dados_obtidos['logradouro']}')\n",
        "print(f'Bairro: {dados_obtidos['bairro']}')\n",
        "print(f'Cidade: {dados_obtidos['localidade']}')\n",
        "print(f'Estado: {dados_obtidos['uf']}')"
      ]
    },
    {
      "cell_type": "markdown",
      "metadata": {},
      "source": [
        "# 08 - Funções"
      ]
    },
    {
      "cell_type": "markdown",
      "metadata": {},
      "source": [
        "## Conceito\n",
        "\n",
        "Podemos criar nossas próprias funções em Python. Já usamos várias durante o curso: `len`, `float`, `int`, `print`, `input`. Agora veremos como delcarar novas funções e usá-las.\n",
        "Para definir uma função, utilizaremos a instrução `def`. "
      ]
    },
    {
      "cell_type": "code",
      "execution_count": 12,
      "metadata": {},
      "outputs": [
        {
          "name": "stdout",
          "output_type": "stream",
          "text": [
            "3\n"
          ]
        }
      ],
      "source": [
        "def somaNumeros(a, b):\n",
        "    print(a + b)\n",
        "    \n",
        "somaNumeros(1, 2)    "
      ]
    },
    {
      "cell_type": "markdown",
      "metadata": {},
      "source": [
        "Funções são úteis para isolar uma tarefa específica do restante do código. Anteriormente usamos o print, mas a soma e a impressão são dois problemas diferentes."
      ]
    },
    {
      "cell_type": "code",
      "execution_count": null,
      "metadata": {},
      "outputs": [],
      "source": [
        "def somaNumeros(a, b):\n",
        "    return a + b\n",
        "\n",
        "n1 = int(input('Digite o primeiro número: '))\n",
        "n2 = int(input('Digite o segundo número: '))\n",
        "print(f'A soma dos valores é {somaNumeros(n1, n2)}')"
      ]
    },
    {
      "cell_type": "markdown",
      "metadata": {},
      "source": [
        "Função para retornar valor booleano (Verdadeiro ou Falso):"
      ]
    },
    {
      "cell_type": "code",
      "execution_count": 13,
      "metadata": {},
      "outputs": [
        {
          "name": "stdout",
          "output_type": "stream",
          "text": [
            "True\n"
          ]
        }
      ],
      "source": [
        "def validaPar(x):\n",
        "    if x % 2 == 0:\n",
        "        return True\n",
        "    else:\n",
        "        return False\n",
        "    \n",
        "n = int(input('Digite um nº para validar se o mesmo é par: '))\n",
        "print(validaPar(n))"
      ]
    },
    {
      "cell_type": "markdown",
      "metadata": {},
      "source": [
        "Mesma função retornado uma String:"
      ]
    },
    {
      "cell_type": "code",
      "execution_count": 14,
      "metadata": {},
      "outputs": [
        {
          "name": "stdout",
          "output_type": "stream",
          "text": [
            "É ímpar!\n"
          ]
        }
      ],
      "source": [
        "def validaPar(x):\n",
        "    return x % 2 == 0\n",
        "\n",
        "def parOuImpar(x):\n",
        "    if validaPar(x):\n",
        "        return 'É par!'\n",
        "    else:\n",
        "        return 'É ímpar!'\n",
        "    \n",
        "print(parOuImpar(3))"
      ]
    },
    {
      "cell_type": "markdown",
      "metadata": {},
      "source": [
        "Exemplo 1: Escreva uma função que retorne o maior de dois números"
      ]
    },
    {
      "cell_type": "code",
      "execution_count": 22,
      "metadata": {},
      "outputs": [
        {
          "name": "stdout",
          "output_type": "stream",
          "text": [
            "O número 231 é maior!\n"
          ]
        }
      ],
      "source": [
        "def bigNumber(a, b):\n",
        "    if a > b:\n",
        "        return f'O número {a} é maior!'\n",
        "    elif b > a:\n",
        "        return f'O número {b} é maior!'\n",
        "    else:\n",
        "        return f'Os números possuem o mesmo valor.'\n",
        "    \n",
        "n = int(input('Digite um número para comparação: '))\n",
        "n2 = int(input('Digite outro número para comparação: '))\n",
        "print(bigNumber(n, n2))"
      ]
    },
    {
      "cell_type": "markdown",
      "metadata": {},
      "source": [
        "Exemplo 2: Escreva uma função que receba dois números e retorne `True` se o primeiro número for múltiplo do segundo."
      ]
    },
    {
      "cell_type": "code",
      "execution_count": 28,
      "metadata": {},
      "outputs": [
        {
          "name": "stdout",
          "output_type": "stream",
          "text": [
            "True\n"
          ]
        }
      ],
      "source": [
        "def multiple(a, b):\n",
        "    if a % b == 0:\n",
        "        return True\n",
        "    else:\n",
        "        return False\n",
        "    \n",
        "n1 = int(input('Digite um número: '))\n",
        "n2 = int(input('Digite outro número para validação: '))\n",
        "print(multiple(n1, n2))"
      ]
    },
    {
      "cell_type": "markdown",
      "metadata": {},
      "source": [
        "Exemplo 3: Escreva uma função que receba o lado de um quadrado e retorne sua área (A = lado²)"
      ]
    },
    {
      "cell_type": "code",
      "execution_count": 42,
      "metadata": {},
      "outputs": [
        {
          "name": "stdout",
          "output_type": "stream",
          "text": [
            "A área desse quadrado é: 16\n"
          ]
        }
      ],
      "source": [
        "def squareFace(x):\n",
        "    return x ** 2\n",
        "\n",
        "n = int(input('Digite o valor do lado: '))\n",
        "print(f'A área desse quadrado é: {squareFace(n)}')"
      ]
    },
    {
      "cell_type": "markdown",
      "metadata": {},
      "source": [
        "Exemplo 4: Escreva uma função que receba a base e a altura de um triângulo e retorne sua área (A = (base * altura) / 2)"
      ]
    },
    {
      "cell_type": "code",
      "execution_count": 41,
      "metadata": {},
      "outputs": [
        {
          "name": "stdout",
          "output_type": "stream",
          "text": [
            "A área desse triângulo é: 60.0\n"
          ]
        }
      ],
      "source": [
        "def triangleBA(b, a):\n",
        "    return (b * a) / 2\n",
        "\n",
        "n1 = int(input('Digite a base: '))\n",
        "n2 = int(input('Digite a altura: '))\n",
        "print(f'A área desse triângulo é: {triangleBA(n1, n2)}')"
      ]
    },
    {
      "cell_type": "markdown",
      "metadata": {},
      "source": [
        "Exemplo 5: Pesquisando valores em uma lista:"
      ]
    },
    {
      "cell_type": "code",
      "execution_count": 45,
      "metadata": {},
      "outputs": [
        {
          "name": "stdout",
          "output_type": "stream",
          "text": [
            "None\n"
          ]
        }
      ],
      "source": [
        "def pesquiseLista(lista, valor):\n",
        "    for i, e in enumerate(lista):\n",
        "        if e == valor:\n",
        "            return i\n",
        "    return None #NADA\n",
        "\n",
        "l = [10, 20, 30, 40]\n",
        "print(pesquiseLista(l, 50))"
      ]
    },
    {
      "cell_type": "markdown",
      "metadata": {},
      "source": [
        "Exemplo 6: Faça uma função que calcule a média de N valores existentes em uma lista."
      ]
    },
    {
      "cell_type": "code",
      "execution_count": 55,
      "metadata": {},
      "outputs": [
        {
          "name": "stdout",
          "output_type": "stream",
          "text": [
            "25.0\n",
            "4\n"
          ]
        }
      ],
      "source": [
        "def lMedian(list):\n",
        "    sum = 0\n",
        "    for e in list:\n",
        "        sum += e\n",
        "        return sum / len(list) * 10\n",
        "        \n",
        "l = [10, 20, 30, 40]\n",
        "print(lMedian(l))\n",
        "print(len(l))"
      ]
    },
    {
      "cell_type": "markdown",
      "metadata": {},
      "source": [
        "## Validação"
      ]
    },
    {
      "cell_type": "markdown",
      "metadata": {},
      "source": [
        "Funções são úteis para validar a entrada de dados também. Imagine que precisamos validar a entrada do usuário, limitando os valores a serem digitados, entre 0 e 5. Faríamos um código sem função assim:"
      ]
    },
    {
      "cell_type": "code",
      "execution_count": 57,
      "metadata": {},
      "outputs": [
        {
          "name": "stdout",
          "output_type": "stream",
          "text": [
            "Valor inválido!\n"
          ]
        }
      ],
      "source": [
        "valor = int(input('Digite um valor entre 0 e 5: '))\n",
        "if valor < 0 or valor > 5:\n",
        "    print('Valor inválido!')\n",
        "else:\n",
        "    print('Valor aceito!')"
      ]
    },
    {
      "cell_type": "markdown",
      "metadata": {},
      "source": [
        "Podemos transformá-lo em uma função que receba a pergunta e os valores de máximo e mínimo:"
      ]
    },
    {
      "cell_type": "code",
      "execution_count": null,
      "metadata": {},
      "outputs": [],
      "source": [
        "def validaEntrada(pergunta, v_min, v_max):\n",
        "     while True:\n",
        "         v = int(input(pergunta))\n",
        "         if v < v_min or v > v_max:\n",
        "             print(f'Valor inválido! Digite um valor entre {v_min} e {v_max}!')\n",
        "         else:\n",
        "             return f\"Valor aceito> {v}\"\n",
        "\n",
        "#rotina normal\n",
        "print(validaEntrada('Digite um valor entre 0 e 5: ', 0, 5))"
      ]
    },
    {
      "cell_type": "markdown",
      "metadata": {},
      "source": [
        "## Módulos\n",
        "\n",
        "Nosso programa, pode ser inteiro modular, ou seja, trabalhar diretamente apenas com subrotinas (funções) para construir a função principial `main`."
      ]
    },
    {
      "cell_type": "code",
      "execution_count": 61,
      "metadata": {},
      "outputs": [
        {
          "name": "stdout",
          "output_type": "stream",
          "text": [
            "String invertida:  arbmos\n"
          ]
        }
      ],
      "source": [
        "def inverter_texto(texto):\n",
        "    invertida = \"\"\n",
        "    for caractere in texto:\n",
        "        invertida = caractere + invertida\n",
        "    return invertida\n",
        "\n",
        "def main():\n",
        "    entrada = input('Digite uma palavra ou frase: ')\n",
        "    resultado = inverter_texto(entrada)\n",
        "    print('String invertida: ', resultado)\n",
        "    \n",
        "if __name__ == \"__main__\":\n",
        "    main()"
      ]
    },
    {
      "cell_type": "markdown",
      "metadata": {},
      "source": [
        "* `__name__`: É uma variável especial do Python\n",
        "\n",
        "* Se o arquivo está sendo executado diretamente, `__name__` é igual a \"`__main__`\"\n",
        "\n",
        "* Se o arquivo está sendo importado por outro, `__name__` é igual ao nome do arquivo (sem o .py ou .ipynb)"
      ]
    },
    {
      "cell_type": "code",
      "execution_count": 63,
      "metadata": {},
      "outputs": [
        {
          "name": "stdout",
          "output_type": "stream",
          "text": [
            "Soma: 3.0\n",
            "Sub: -1.0\n",
            "Mult: 2.0\n",
            "Div: 0.5\n"
          ]
        }
      ],
      "source": [
        "def somaNumeros(a, b):\n",
        "    return a + b\n",
        "\n",
        "def subtrair(a, b):\n",
        "    return a - b\n",
        "\n",
        "def multiplicar(a, b):\n",
        "    return a * b\n",
        "\n",
        "def divisao(a, b):\n",
        "    return a / b\n",
        "\n",
        "def main():\n",
        "    n1 = float(input('Digite o 1º nº: '))\n",
        "    n2 = float(input('Digite o 2º nº: '))\n",
        "    print(f'Soma: {somaNumeros(n1, n2)}')\n",
        "    print(f'Sub: {subtrair(n1, n2)}')\n",
        "    print(f'Mult: {multiplicar(n1, n2)}')\n",
        "    print(f'Div: {divisao(n1, n2)}')\n",
        "    \n",
        "if __name__ == \"__main__\":\n",
        "    main()"
      ]
    },
    {
      "cell_type": "markdown",
      "metadata": {},
      "source": [
        "## Lista para praticar:\n",
        "https://encurtador.com.br/mwiYe"
      ]
    }
  ],
  "metadata": {
    "colab": {
      "provenance": []
    },
    "kernelspec": {
      "display_name": "Python 3",
      "name": "python3"
    },
    "language_info": {
      "codemirror_mode": {
        "name": "ipython",
        "version": 3
      },
      "file_extension": ".py",
      "mimetype": "text/x-python",
      "name": "python",
      "nbconvert_exporter": "python",
      "pygments_lexer": "ipython3",
      "version": "3.13.3"
    }
  },
  "nbformat": 4,
  "nbformat_minor": 0
}
