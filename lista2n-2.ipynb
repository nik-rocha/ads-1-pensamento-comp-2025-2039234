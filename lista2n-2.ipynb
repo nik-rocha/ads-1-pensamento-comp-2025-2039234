{
 "cells": [
  {
   "cell_type": "markdown",
   "id": "d03f0076",
   "metadata": {},
   "source": [
    "3) Crie uma matriz 3 x 3, calcule e exiba o valor do seu determinante. Passos:\n",
    "\n",
    "1) Repetir as duas primeiras colunas à direita da matriz:\n",
    "\n",
    "2) Identificar as diagonais principais (cor vermelha) e as diagonais secundárias (cor azul):\n",
    "\n",
    "![alt text](img/download.png)\n",
    "\n",
    "3)\n",
    "\n",
    "■ Multiplicar e somar as diagonais principais;\n",
    "\n",
    "■ Multiplicar e somar as diagonais secundarias;\n",
    "\n",
    "■ diagPrin = ((a11 * a22 * a33) + (a12 * a23 * a31) + (a13 * a21 * a32))\n",
    "\n",
    "■ diagSec = ((a13 * a22 * a31) + (a11 * a21 * a32) + (a12 * a21 * a33)\n",
    "\n",
    "■ Subtrair os resultados das diagonais.\n",
    "\n",
    "■ det = diagPrin - diagSec"
   ]
  },
  {
   "cell_type": "code",
   "execution_count": 2,
   "id": "826bfb4e",
   "metadata": {},
   "outputs": [
    {
     "name": "stdout",
     "output_type": "stream",
     "text": [
      "Matriz esquerda: [[12, 34, 56], [78, 90, 56], [34, 12, 34]]\n",
      "\n",
      "Matriz direita: [[12, 34], [78, 90], [34, 12]]\n",
      "\n",
      "As diagonais primárias somam 153872, e as secundárias, 269592.\n",
      "O determinante delas resulta em: -115720\n"
     ]
    }
   ],
   "source": [
    "l = []\n",
    "r = []\n",
    "\n",
    "for i in range(3):\n",
    "    lLine = []\n",
    "    rLine = []\n",
    "    for j in range(3):\n",
    "        e = int(input(f'Digite o valor {i}, {j} da matriz: '))\n",
    "        lLine.append(e)\n",
    "        if j < 2:\n",
    "            rLine.append(e)\n",
    "    l.append(lLine)\n",
    "    r.append(rLine)\n",
    "\n",
    "diagPrim = ((l[0][0] * l[1][1] * l[2][2]) + (l[0][1] * l[1][2] * r[2][0]) + (l[0][2] * r[1][0] * r[2][1]))\n",
    "diagSec = ((l[0][2] * l[1][1] * l[2][0]) + (r[0][0] * l[1][2] * l[2][1]) + (r[0][1] * r[1][0] * l[2][2]))\n",
    "\n",
    "det = diagPrim - diagSec\n",
    "\n",
    "print(f'Matriz esquerda: {l}\\n')\n",
    "print(f'Matriz direita: {r}\\n')\n",
    "print(f'As diagonais primárias somam {diagPrim}, e as secundárias, {diagSec}.')\n",
    "print(f'O determinante delas resulta em: {det}')"
   ]
  }
 ],
 "metadata": {
  "kernelspec": {
   "display_name": "Python 3",
   "language": "python",
   "name": "python3"
  },
  "language_info": {
   "codemirror_mode": {
    "name": "ipython",
    "version": 3
   },
   "file_extension": ".py",
   "mimetype": "text/x-python",
   "name": "python",
   "nbconvert_exporter": "python",
   "pygments_lexer": "ipython3",
   "version": "3.12.4"
  }
 },
 "nbformat": 4,
 "nbformat_minor": 5
}
