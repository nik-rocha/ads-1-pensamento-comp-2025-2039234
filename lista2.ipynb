{
 "cells": [
  {
   "cell_type": "markdown",
   "metadata": {},
   "source": [
    "1. Faça um programa que exiba os números de 1 a 10. (1 ponto)"
   ]
  },
  {
   "cell_type": "code",
   "execution_count": 2,
   "metadata": {},
   "outputs": [
    {
     "name": "stdout",
     "output_type": "stream",
     "text": [
      "1 2 3 4 5 6 7 8 9 10 "
     ]
    }
   ],
   "source": [
    "x = 1\n",
    "\n",
    "while x <= 10:\n",
    "    print(x, end=\" \")\n",
    "    x += 1"
   ]
  },
  {
   "cell_type": "markdown",
   "metadata": {},
   "source": [
    "2. Escreva uma algoritmo que exiba uma contagem regressiva de 876 até 377. (1 ponto)\n"
   ]
  },
  {
   "cell_type": "code",
   "execution_count": 3,
   "metadata": {},
   "outputs": [
    {
     "name": "stdout",
     "output_type": "stream",
     "text": [
      "876 875 874 873 872 871 870 869 868 867 866 865 864 863 862 861 860 859 858 857 856 855 854 853 852 851 850 849 848 847 846 845 844 843 842 841 840 839 838 837 836 835 834 833 832 831 830 829 828 827 826 825 824 823 822 821 820 819 818 817 816 815 814 813 812 811 810 809 808 807 806 805 804 803 802 801 800 799 798 797 796 795 794 793 792 791 790 789 788 787 786 785 784 783 782 781 780 779 778 777 776 775 774 773 772 771 770 769 768 767 766 765 764 763 762 761 760 759 758 757 756 755 754 753 752 751 750 749 748 747 746 745 744 743 742 741 740 739 738 737 736 735 734 733 732 731 730 729 728 727 726 725 724 723 722 721 720 719 718 717 716 715 714 713 712 711 710 709 708 707 706 705 704 703 702 701 700 699 698 697 696 695 694 693 692 691 690 689 688 687 686 685 684 683 682 681 680 679 678 677 676 675 674 673 672 671 670 669 668 667 666 665 664 663 662 661 660 659 658 657 656 655 654 653 652 651 650 649 648 647 646 645 644 643 642 641 640 639 638 637 636 635 634 633 632 631 630 629 628 627 626 625 624 623 622 621 620 619 618 617 616 615 614 613 612 611 610 609 608 607 606 605 604 603 602 601 600 599 598 597 596 595 594 593 592 591 590 589 588 587 586 585 584 583 582 581 580 579 578 577 576 575 574 573 572 571 570 569 568 567 566 565 564 563 562 561 560 559 558 557 556 555 554 553 552 551 550 549 548 547 546 545 544 543 542 541 540 539 538 537 536 535 534 533 532 531 530 529 528 527 526 525 524 523 522 521 520 519 518 517 516 515 514 513 512 511 510 509 508 507 506 505 504 503 502 501 500 499 498 497 496 495 494 493 492 491 490 489 488 487 486 485 484 483 482 481 480 479 478 477 476 475 474 473 472 471 470 469 468 467 466 465 464 463 462 461 460 459 458 457 456 455 454 453 452 451 450 449 448 447 446 445 444 443 442 441 440 439 438 437 436 435 434 433 432 431 430 429 428 427 426 425 424 423 422 421 420 419 418 417 416 415 414 413 412 411 410 409 408 407 406 405 404 403 402 401 400 399 398 397 396 395 394 393 392 391 390 389 388 387 386 385 384 383 382 381 380 379 378 377 "
     ]
    }
   ],
   "source": [
    "x = 876\n",
    "\n",
    "while x >= 377:\n",
    "    print(x, end=\" \")\n",
    "    x -= 1"
   ]
  },
  {
   "cell_type": "markdown",
   "metadata": {},
   "source": [
    "3. Crie um programa que some todos os números de 1 a 100 e exiba o resultado no final (apenas o total). (1 ponto)"
   ]
  },
  {
   "cell_type": "code",
   "execution_count": null,
   "metadata": {},
   "outputs": [
    {
     "name": "stdout",
     "output_type": "stream",
     "text": [
      "5050\n"
     ]
    }
   ],
   "source": [
    "x = 1\n",
    "n = 0\n",
    "\n",
    "while x <= 100:\n",
    "    n += x\n",
    "    #n = 0, x = 1, n = 1, x = 1, n + x = 2...\n",
    "    x += 1\n",
    "\n",
    "print(n)"
   ]
  },
  {
   "cell_type": "markdown",
   "metadata": {},
   "source": [
    "4. Reescreva o exercício anterior exibindo apenas os números ímpares. (1 ponto)"
   ]
  },
  {
   "cell_type": "code",
   "execution_count": 12,
   "metadata": {},
   "outputs": [
    {
     "name": "stdout",
     "output_type": "stream",
     "text": [
      "2500\n"
     ]
    }
   ],
   "source": [
    "x = 1\n",
    "n = 0\n",
    "\n",
    "while x <= 100:\n",
    "    n += x\n",
    "    x += 2\n",
    "\n",
    "print(n)"
   ]
  },
  {
   "cell_type": "markdown",
   "metadata": {},
   "source": [
    "5. Escreva um programa que permita registrar o valor de compras até que o cliente finalize a compra digitando 0. No final, exiba o total da compra. (1 ponto)\n"
   ]
  },
  {
   "cell_type": "code",
   "execution_count": null,
   "metadata": {},
   "outputs": [
    {
     "name": "stdout",
     "output_type": "stream",
     "text": [
      "O total de suas compras é 323\n"
     ]
    }
   ],
   "source": [
    "somaCompras = 0\n",
    "\n",
    "while True:\n",
    "    num = int(input('Digite o valor das compras que você fez, e digite 0 para parar e somar.'))\n",
    "    if num == 0:\n",
    "        break\n",
    "    somaCompras += num\n",
    "\n",
    "\n",
    "print(f'O total de suas compras é de R${somaCompras}.')"
   ]
  },
  {
   "cell_type": "markdown",
   "metadata": {},
   "source": [
    "6. Desenvolva um programa onde o usuário pode inserir as calorias consumidas em cada refeição. O programa para quando a soma ultrapassar 2000 calorias e exibe o total consumido;"
   ]
  },
  {
   "cell_type": "code",
   "execution_count": null,
   "metadata": {},
   "outputs": [],
   "source": [
    "somaCalorias = 0\n",
    "\n",
    "while True:\n",
    "    calorias = int(input('Digite quantas calorias você consumiu: '))\n",
    "    somaCalorias += calorias\n",
    "    if somaCalorias > 2000:\n",
    "        break\n",
    "\n",
    "print(f'O total de calorias consumidas é {somaCalorias}')"
   ]
  },
  {
   "cell_type": "markdown",
   "metadata": {},
   "source": [
    "7. Reescreva o exercício 3, mas dessa vez o programa deve: (2 pontos)\n",
    "\n",
    "a. Permitir o usuário controlar o início e o fim da repetição.\n",
    "\n",
    "b. Calcular a soma de todos os números pares dentro do intervalo.\n",
    "\n",
    "c. Calcular a soma de todos os números ímpares dentro do intervalo.\n",
    "\n",
    "d. Calcular a soma de todos os números do intervalo existentes.\n"
   ]
  },
  {
   "cell_type": "code",
   "execution_count": null,
   "metadata": {},
   "outputs": [
    {
     "name": "stdout",
     "output_type": "stream",
     "text": [
      "1040\n"
     ]
    }
   ],
   "source": [
    "sumStart = int(input('Digite em qual número a repetição irá começar: '))\n",
    "sumEnd = int(input('Digite em qual número a repetição irá terminar: '))\n",
    "n = 0\n",
    "\n",
    "sumOptions = int(input('O que você deseja saber sobre a soma? Digite os números para selecionar:\\n1: A soma de todos os números pares\\n2: A soma de todos os números ímpares\\n3: A soma de todos os números em geral'))\n",
    "\n",
    "if sumOptions == 1:\n",
    "\n",
    "    if sumStart % 2 != 0:\n",
    "        sumStart += 1\n",
    "\n",
    "    while sumStart <= sumEnd:\n",
    "        n += sumStart\n",
    "        sumStart += 2\n",
    "\n",
    "    print(n)\n",
    "\n",
    "if sumOptions == 2:\n",
    "    \n",
    "    if sumStart % 2 == 0:\n",
    "        sumStart += 1\n",
    "\n",
    "    while sumStart <= sumEnd:\n",
    "        n += sumStart\n",
    "        sumStart += 2\n",
    "\n",
    "    print (n)\n",
    "\n",
    "if sumOptions == 3:\n",
    "\n",
    "    while sumStart <= sumEnd:\n",
    "        n += sumStart\n",
    "        sumStart += 1\n",
    "\n",
    "    print (n)"
   ]
  },
  {
   "cell_type": "markdown",
   "metadata": {},
   "source": [
    "8. Faça um algoritmo que leia 4 notas de um aluno. (2 pontos)\n",
    "O programa deve:\n",
    "\n",
    "● Solicitar o nome do aluno.\n",
    "\n",
    "● Calcular a média aritmética das 4 notas.\n",
    "\n",
    "● Validar a nota:\n",
    "○ ‘Aprovado’ caso maior ou igual que 7\n",
    "\n",
    "○ ‘Recuperação’ caso entre 4 e 6.9\n",
    "\n",
    "○ ‘Reprovado” caso menor que 4\n",
    "\n",
    "○ ‘Nota inválida’ caso a nota calculada não esteja entre 0 e 10."
   ]
  },
  {
   "cell_type": "code",
   "execution_count": 59,
   "metadata": {},
   "outputs": [
    {
     "name": "stdout",
     "output_type": "stream",
     "text": [
      "O aluno Cléber foi aprovado com uma média de 9.0.\n"
     ]
    }
   ],
   "source": [
    "studentName = input('Digite o nome do aluno: ')\n",
    "count = 1\n",
    "grades = 0\n",
    "\n",
    "while count <= 4:\n",
    "    studentGrades = float(input('Digite a nota do aluno: '))\n",
    "    grades += studentGrades\n",
    "    gradesMedium = grades / 4\n",
    "    count += 1\n",
    "\n",
    "if gradesMedium < 0 or gradesMedium > 10:\n",
    "    print(f'Nota inválida, média de {gradesMedium}.')\n",
    "elif gradesMedium >= 7:\n",
    "    print(f'O aluno {studentName} foi aprovado com uma média de {gradesMedium}.')\n",
    "elif gradesMedium >= 4 and gradesMedium <= 6.9:\n",
    "    print(f'O aluno {studentName} ficou em recuperação com uma média de {gradesMedium}..')\n",
    "elif gradesMedium < 4:\n",
    "    print(f'O aluno {studentName} foi reprovado com uma média de {gradesMedium}..')\n",
    "else:\n",
    "    print('Nota inválida')\n"
   ]
  }
 ],
 "metadata": {
  "kernelspec": {
   "display_name": "Python 3",
   "language": "python",
   "name": "python3"
  },
  "language_info": {
   "codemirror_mode": {
    "name": "ipython",
    "version": 3
   },
   "file_extension": ".py",
   "mimetype": "text/x-python",
   "name": "python",
   "nbconvert_exporter": "python",
   "pygments_lexer": "ipython3",
   "version": "3.12.4"
  }
 },
 "nbformat": 4,
 "nbformat_minor": 2
}
