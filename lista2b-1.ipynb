{
 "cells": [
  {
   "cell_type": "markdown",
   "id": "b6098415",
   "metadata": {},
   "source": [
    "2) Desenvolva um algoritmo que solicite o nome de uma pessoa e armazene em uma lista enquanto o nome da pessoa seja diferente de \"sair\". Após sair, exiba a lista de todos dos nomes."
   ]
  },
  {
   "cell_type": "code",
   "execution_count": null,
   "id": "050b9eb3",
   "metadata": {},
   "outputs": [
    {
     "name": "stdout",
     "output_type": "stream",
     "text": [
      "Seus nomes são:  ['nicollas', 'cleber', 'amuel']\n"
     ]
    }
   ],
   "source": [
    "lnames = []\n",
    "\n",
    "while True:\n",
    "    name = str(input('Digite um nome e digite \"sair\" para parar e mostrar a lista: '))\n",
    "    \n",
    "    if name.lower() == 'sair':\n",
    "        break\n",
    "    lnames.append(name)\n",
    "    \n",
    "print(f'Seus nomes são:  {lnames}')"
   ]
  },
  {
   "cell_type": "markdown",
   "id": "9ae277e1",
   "metadata": {},
   "source": [
    "4) Faça um programa para ler uma lista de 10 números reais e mostre-os na ordem\n",
    "inversa."
   ]
  },
  {
   "cell_type": "code",
   "execution_count": null,
   "id": "d9e26b28",
   "metadata": {},
   "outputs": [
    {
     "name": "stdout",
     "output_type": "stream",
     "text": [
      "Seus números são:\n",
      "6 5 5 4 4 3 3 2 2 1\n"
     ]
    }
   ],
   "source": [
    "lnum = []\n",
    "x = 0\n",
    "\n",
    "for i in range(10):\n",
    "    x += 1\n",
    "    num = int(input(f'Serão 10 números. Digite o {x}º número: '))\n",
    "    lnum.append(num)\n",
    "lnum.reverse()\n",
    "    \n",
    "print('Seus números são:')\n",
    "print(*lnum)"
   ]
  },
  {
   "cell_type": "markdown",
   "id": "b29f2cf9",
   "metadata": {},
   "source": [
    "6) Faça um programa em Python que leia um vetor de 10 posições. Em seguida\n",
    "percorra essa lista verificando se existem itens de valores iguais, caso iguais\n",
    "escreva os na tela."
   ]
  },
  {
   "cell_type": "code",
   "execution_count": null,
   "id": "923f8506",
   "metadata": {},
   "outputs": [
    {
     "name": "stdout",
     "output_type": "stream",
     "text": [
      "Sua lista: [1, 2, 3, 4, 5, 6, 7, 8, 9, 10]\n",
      "\n"
     ]
    }
   ],
   "source": [
    "lnum = []\n",
    "lequal = []\n",
    "x = 0\n",
    "\n",
    "for i in range(10):\n",
    "    x += 1\n",
    "    num = int(input(f'Serão 10 números. Digite o {x}º número: '))\n",
    "    lnum.append(num)\n",
    "\n",
    "for e in lnum:\n",
    "    \n",
    "    if lnum.count(e) > 1 and e not in lequal:\n",
    "        lequal.append(e)\n",
    "        \n",
    "print(f'Sua lista: {lnum}\\n')\n",
    "\n",
    "if lequal:\n",
    "    print(f'Sua lista possui número(s) repetido(s)!: {lequal}')"
   ]
  },
  {
   "cell_type": "markdown",
   "id": "af28e699",
   "metadata": {},
   "source": [
    "7) Escreva um programa Python para mover todos os valores zero para o final do\n",
    "vetor, ou seja, para a direita, sem alterar a ordem dos elementos diferentes de zero já\n",
    "presentes na lista e sem criar um vetor adicional ou temporário."
   ]
  },
  {
   "cell_type": "code",
   "execution_count": 17,
   "id": "51ca6a8d",
   "metadata": {},
   "outputs": [
    {
     "name": "stdout",
     "output_type": "stream",
     "text": [
      "[1, 2, 3, 4, 5, 6, 7, 0, 0, 0]\n"
     ]
    }
   ],
   "source": [
    "lnum = []\n",
    "x = 0\n",
    "\n",
    "for i in range(10):\n",
    "    x += 1\n",
    "    num = int(input(f'Serão 10 números. Digite o {x}º número: '))\n",
    "    lnum.append(num)\n",
    "    \n",
    "for e in lnum:\n",
    "        \n",
    "    if e == 0:\n",
    "            lnum.remove(0)\n",
    "            lnum.append(0)\n",
    "    \n",
    "print(lnum)"
   ]
  }
 ],
 "metadata": {
  "kernelspec": {
   "display_name": "Python 3",
   "language": "python",
   "name": "python3"
  },
  "language_info": {
   "codemirror_mode": {
    "name": "ipython",
    "version": 3
   },
   "file_extension": ".py",
   "mimetype": "text/x-python",
   "name": "python",
   "nbconvert_exporter": "python",
   "pygments_lexer": "ipython3",
   "version": "3.11.9"
  }
 },
 "nbformat": 4,
 "nbformat_minor": 5
}
